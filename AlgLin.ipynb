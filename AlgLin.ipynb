{
 "cells": [
  {
   "cell_type": "code",
   "execution_count": 2,
   "id": "c2c43560-208d-4aa1-adce-990381491bff",
   "metadata": {},
   "outputs": [],
   "source": [
    "using LinearAlgebra"
   ]
  },
  {
   "cell_type": "markdown",
   "id": "26fbb85a-31f4-4140-9874-876f959a0223",
   "metadata": {},
   "source": [
    "### Resolve Diagonal"
   ]
  },
  {
   "cell_type": "code",
   "execution_count": 96,
   "id": "9920c5c0-f331-4678-8b27-3287ee8d57a2",
   "metadata": {},
   "outputs": [
    {
     "data": {
      "text/plain": [
       "resolve_diagonal (generic function with 1 method)"
      ]
     },
     "execution_count": 96,
     "metadata": {},
     "output_type": "execute_result"
    }
   ],
   "source": [
    "# Resolve diagonal\n",
    "\"\"\"\"\n",
    "RESUMO: Resolve um sistema linear Ax=b que tenha uma matriz diagonal\n",
    "ENTRADA: Matriz A, vetor b\n",
    "SAIDA: vetor x, solucao do sistema\n",
    "\"\"\"\n",
    "\n",
    "function resolve_diagonal(A, b)\n",
    "    rows, cols = size(A)\n",
    "    \n",
    "    # verifica se a matriz é quadrada\n",
    "    if rows != cols\n",
    "        error(\"A matriz deve ser quadrada!\")\n",
    "    end\n",
    "    \n",
    "    # Inicializa o vetor solucao\n",
    "    x = zeros(rows)\n",
    "    \n",
    "    # Calcula cada elemento do vetor x\n",
    "    # Dividindo o valor de cada linha de b pelos valores na diagonal de A\n",
    "    for i = 1:rows\n",
    "        x[i] = b[i] / A[i,i]\n",
    "    end\n",
    "    \n",
    "    return x\n",
    "end"
   ]
  },
  {
   "cell_type": "markdown",
   "id": "6afe2d85-9080-4c2d-b6b4-8a35111d4d1a",
   "metadata": {},
   "source": [
    "#### Exemplo 1 (n = 3)"
   ]
  },
  {
   "cell_type": "code",
   "execution_count": 112,
   "id": "b1fd6d9e-3b37-477f-ba45-48dba856205b",
   "metadata": {},
   "outputs": [
    {
     "data": {
      "text/plain": [
       "0.0"
      ]
     },
     "execution_count": 112,
     "metadata": {},
     "output_type": "execute_result"
    }
   ],
   "source": [
    "A = [2  0   0;\n",
    "     0  7   0;\n",
    "     0  0 -11]\n",
    "\n",
    "b = [-6, 7, 110]\n",
    "\n",
    "x = resolve_diagonal(A, b)\n",
    "\n",
    "norm(A*x - b)"
   ]
  },
  {
   "cell_type": "markdown",
   "id": "2a62ffe4-5618-461b-b4ee-476a13d81ded",
   "metadata": {},
   "source": [
    "#### Exemplo 2 (n = 5)"
   ]
  },
  {
   "cell_type": "code",
   "execution_count": 113,
   "id": "3184905e-e78a-4439-9e1c-b67f56d40d4a",
   "metadata": {},
   "outputs": [
    {
     "data": {
      "text/plain": [
       "0.0"
      ]
     },
     "execution_count": 113,
     "metadata": {},
     "output_type": "execute_result"
    }
   ],
   "source": [
    "n = 5\n",
    "A = Diagonal(rand(5,5))\n",
    "\n",
    "b = rand(5)\n",
    "\n",
    "x = resolve_diagonal(A, b)\n",
    "\n",
    "norm(A * x - b)"
   ]
  },
  {
   "cell_type": "markdown",
   "id": "0d1c41ee-94b6-4b82-aab8-e3dfb674c76f",
   "metadata": {},
   "source": [
    "#### Exemplo 3 (n = 20)"
   ]
  },
  {
   "cell_type": "code",
   "execution_count": 114,
   "id": "bb4100f8-be18-4b8e-b412-71535570f046",
   "metadata": {},
   "outputs": [
    {
     "data": {
      "text/plain": [
       "5.721958498152797e-17"
      ]
     },
     "execution_count": 114,
     "metadata": {},
     "output_type": "execute_result"
    }
   ],
   "source": [
    "n = 20\n",
    "A = Diagonal(rand(n, n))\n",
    "b = rand(n)\n",
    "x = resolve_diagonal(A, b)\n",
    "norm(A*x - b)"
   ]
  },
  {
   "cell_type": "markdown",
   "id": "6b754c60-6151-40dc-b453-93760d5898ef",
   "metadata": {},
   "source": [
    "### Resolve Triangular Superior"
   ]
  },
  {
   "cell_type": "code",
   "execution_count": 121,
   "id": "536e5521-b86e-4d61-8bfb-69dbbcfc6583",
   "metadata": {
    "tags": []
   },
   "outputs": [
    {
     "data": {
      "text/plain": [
       "resolve_triangular_superior (generic function with 1 method)"
      ]
     },
     "execution_count": 121,
     "metadata": {},
     "output_type": "execute_result"
    }
   ],
   "source": [
    "# Resolve triangular superior\n",
    "\"\"\"\"\n",
    "RESUMO: Resolve um sistema linear Ax=b que tenha uma matriz triangular superior.\n",
    "        Ou seja, todos os elementos abaixo da diagonal estao zerados.\n",
    "ENTRADA: Matriz A, vetor b\n",
    "SAIDA: vetor x, solucao do sistema\n",
    "\"\"\"\n",
    "\n",
    "function resolve_triangular_superior(A, b)\n",
    "    rows, cols = size(A)\n",
    "    \n",
    "    # verifica se a matriz é quadrada\n",
    "    if rows != cols\n",
    "        error(\"A matriz deve ser quadrada!\")\n",
    "    end\n",
    "    \n",
    "    # Inicializa o vetor solucao\n",
    "    x = zeros(rows)\n",
    "    \n",
    "    # Calcula cada elemento do vetor x\n",
    "    # substituindo em cada linha, de baixo para cima\n",
    "    for i = rows:-1:1\n",
    "        x[i] = b[i]  # pegamos o bᵢ\n",
    "        for j = i+1:cols\n",
    "            x[i] -= A[i, j] * x[j]  # subtraimos de bᵢ todos os x's que ja \n",
    "                                    # foram calculados (multiplicados pelos coeficientes)\n",
    "        end\n",
    "        x[i] = x[i] / A[i, i]  # Dividimos o resultado pelo coeficiente de xᵢ\n",
    "    end\n",
    "    \n",
    "    return x\n",
    "end"
   ]
  },
  {
   "cell_type": "markdown",
   "id": "9de1bd61-306d-4785-894a-b016b1f9b437",
   "metadata": {},
   "source": [
    "#### Exemplo 1 (n = 3)"
   ]
  },
  {
   "cell_type": "code",
   "execution_count": 124,
   "id": "9a83b47c-9caf-4539-87aa-e2f45ecfc85c",
   "metadata": {},
   "outputs": [
    {
     "data": {
      "text/plain": [
       "3×3 Matrix{Float64}:\n",
       " -2.0  7.0   19.0\n",
       "  0.0  0.5  -10.0\n",
       "  0.0  0.0    3.0"
      ]
     },
     "execution_count": 124,
     "metadata": {},
     "output_type": "execute_result"
    }
   ],
   "source": [
    "A = [-2    7  19;\n",
    "      0  0.5 -10;\n",
    "      0    0   3]"
   ]
  },
  {
   "cell_type": "code",
   "execution_count": 125,
   "id": "aad5b14b-6add-442f-abea-01e6dfcc3bbc",
   "metadata": {},
   "outputs": [
    {
     "data": {
      "text/plain": [
       "3-element Vector{Float64}:\n",
       "   2.0\n",
       "   8.5\n",
       " -11.0"
      ]
     },
     "execution_count": 125,
     "metadata": {},
     "output_type": "execute_result"
    }
   ],
   "source": [
    "b = [2, 8.5, -11]"
   ]
  },
  {
   "cell_type": "code",
   "execution_count": 126,
   "id": "56fd9634-7842-4f94-98eb-ac8590fdb5bf",
   "metadata": {},
   "outputs": [
    {
     "data": {
      "text/plain": [
       "3-element Vector{Float64}:\n",
       " -233.0\n",
       "  -56.33333333333333\n",
       "   -3.6666666666666665"
      ]
     },
     "execution_count": 126,
     "metadata": {},
     "output_type": "execute_result"
    }
   ],
   "source": [
    "x = resolve_triangular_superior(A, b)"
   ]
  },
  {
   "cell_type": "code",
   "execution_count": 127,
   "id": "6dee3981-42ee-410c-a0cd-63efe238ba3f",
   "metadata": {},
   "outputs": [
    {
     "data": {
      "text/plain": [
       "2.842170943040401e-14"
      ]
     },
     "execution_count": 127,
     "metadata": {},
     "output_type": "execute_result"
    }
   ],
   "source": [
    "norm(A*x - b)"
   ]
  },
  {
   "cell_type": "markdown",
   "id": "01436d43-95cd-4206-8e94-321e40fc1337",
   "metadata": {},
   "source": [
    "#### Exemplo 2 (n = 5)"
   ]
  },
  {
   "cell_type": "code",
   "execution_count": 130,
   "id": "666de207-7097-45b3-8a59-b43a0b3406b8",
   "metadata": {},
   "outputs": [
    {
     "data": {
      "text/plain": [
       "1.2412670766236366e-16"
      ]
     },
     "execution_count": 130,
     "metadata": {},
     "output_type": "execute_result"
    }
   ],
   "source": [
    "n = 5\n",
    "A = UpperTriangular(rand(n,n))\n",
    "b = rand(n)\n",
    "x = resolve_triangular_superior(A, b)\n",
    "norm(A*x - b)"
   ]
  },
  {
   "cell_type": "markdown",
   "id": "1c9be646-e901-4cb2-9e2d-7749e4d17419",
   "metadata": {},
   "source": [
    "#### Exemplo 3 (n = 20)"
   ]
  },
  {
   "cell_type": "code",
   "execution_count": 137,
   "id": "ab933bbf-cd77-4909-b239-75303e52deac",
   "metadata": {},
   "outputs": [
    {
     "data": {
      "text/plain": [
       "7.405661942207508e-14"
      ]
     },
     "execution_count": 137,
     "metadata": {},
     "output_type": "execute_result"
    }
   ],
   "source": [
    "n = 20\n",
    "A = UpperTriangular(rand(n,n))\n",
    "b = rand(n)\n",
    "x = resolve_triangular_superior(A, b)\n",
    "norm(A*x - b)"
   ]
  },
  {
   "cell_type": "markdown",
   "id": "7d0949a5-11c1-407d-8789-eedfb176944c",
   "metadata": {},
   "source": [
    "### Resolve Triangular Inferior"
   ]
  },
  {
   "cell_type": "code",
   "execution_count": 138,
   "id": "7efd1255-6617-4a1e-be42-5b80658851bb",
   "metadata": {
    "tags": []
   },
   "outputs": [
    {
     "data": {
      "text/plain": [
       "resolve_triangular_inferior (generic function with 1 method)"
      ]
     },
     "execution_count": 138,
     "metadata": {},
     "output_type": "execute_result"
    }
   ],
   "source": [
    "# Resolve triangular inferior\n",
    "\"\"\"\"\n",
    "RESUMO: Resolve um sistema linear Ax=b que tenha uma matriz triangular inferior.\n",
    "        Ou seja, todos os elementos acima da diagonal estao zerados.\n",
    "ENTRADA: Matriz A, vetor b\n",
    "SAIDA: vetor x, solucao do sistema\n",
    "\"\"\"\n",
    "\n",
    "function resolve_triangular_inferior(A, b)\n",
    "    rows, cols = size(A)\n",
    "    \n",
    "    # verifica se a matriz é quadrada\n",
    "    if rows != cols\n",
    "        error(\"A matriz deve ser quadrada!\")\n",
    "    end\n",
    "    \n",
    "    # Inicializa o vetor solucao\n",
    "    x = zeros(rows)\n",
    "    \n",
    "    # Calcula cada elemento do vetor x\n",
    "    # substituindo em cada linha, de cima para baixo\n",
    "    for i = 1:rows\n",
    "        x[i] = b[i]  # pegamos o bᵢ\n",
    "        for j = i-1:-1:1\n",
    "            x[i] -= A[i, j] * x[j]  # subtraimos de bᵢ todos os x's que ja \n",
    "                                    # foram calculados (multiplicados pelos coeficientes)\n",
    "        end\n",
    "        x[i] = x[i] / A[i, i]  # Dividimos o resultado pelo coeficiente de xᵢ\n",
    "    end\n",
    "    \n",
    "    return x\n",
    "end"
   ]
  },
  {
   "cell_type": "markdown",
   "id": "8a66524e-a68a-4e21-87a6-7d7491600bec",
   "metadata": {},
   "source": [
    "#### Exemplo 1 (n = 3)"
   ]
  },
  {
   "cell_type": "code",
   "execution_count": 140,
   "id": "cacf3d1b-080c-445b-9f54-afa224acef2a",
   "metadata": {},
   "outputs": [
    {
     "data": {
      "text/plain": [
       "3×3 Matrix{Float64}:\n",
       "  9.0   0.0   0.0\n",
       " -7.0   1.0   0.0\n",
       " 56.3  85.0  -2.0"
      ]
     },
     "execution_count": 140,
     "metadata": {},
     "output_type": "execute_result"
    }
   ],
   "source": [
    "A = [  9    0   0;\n",
    "      -7    1   0;\n",
    "    56.3   85  -2]"
   ]
  },
  {
   "cell_type": "code",
   "execution_count": 141,
   "id": "1f1774ec-5247-4bd0-a426-a6e971443190",
   "metadata": {},
   "outputs": [
    {
     "data": {
      "text/plain": [
       "3-element Vector{Float64}:\n",
       " 30.0\n",
       "  2.75\n",
       " -4.1"
      ]
     },
     "execution_count": 141,
     "metadata": {},
     "output_type": "execute_result"
    }
   ],
   "source": [
    "b = [30, 2.75, -4.1]"
   ]
  },
  {
   "cell_type": "code",
   "execution_count": 142,
   "id": "9c9fd6ee-d84e-422f-87a5-090837782503",
   "metadata": {},
   "outputs": [
    {
     "data": {
      "text/plain": [
       "3-element Vector{Float64}:\n",
       "    3.3333333333333335\n",
       "   26.083333333333336\n",
       " 1204.425"
      ]
     },
     "execution_count": 142,
     "metadata": {},
     "output_type": "execute_result"
    }
   ],
   "source": [
    "x = resolve_triangular_inferior(A, b)"
   ]
  },
  {
   "cell_type": "code",
   "execution_count": 143,
   "id": "287a1ad3-dec7-4973-8e98-498f88e05f59",
   "metadata": {},
   "outputs": [
    {
     "data": {
      "text/plain": [
       "9.059419880941277e-14"
      ]
     },
     "execution_count": 143,
     "metadata": {},
     "output_type": "execute_result"
    }
   ],
   "source": [
    "norm(A*x - b)"
   ]
  },
  {
   "cell_type": "markdown",
   "id": "311413a5-a472-4e30-9927-b438ac608f70",
   "metadata": {},
   "source": [
    "#### Exemplo 2 (n = 5)"
   ]
  },
  {
   "cell_type": "code",
   "execution_count": 147,
   "id": "48ff6c27-0221-4250-9292-f81d02ae7c45",
   "metadata": {},
   "outputs": [
    {
     "data": {
      "text/plain": [
       "1.4936523181711914e-15"
      ]
     },
     "execution_count": 147,
     "metadata": {},
     "output_type": "execute_result"
    }
   ],
   "source": [
    "n = 5\n",
    "A = LowerTriangular(rand(n,n))\n",
    "b = rand(n)\n",
    "x = resolve_triangular_inferior(A, b)\n",
    "norm(A*x - b)"
   ]
  },
  {
   "cell_type": "markdown",
   "id": "68822f86-1a74-41fd-a69b-8307a132b964",
   "metadata": {},
   "source": [
    "#### Exemplo 3 (n = 20)"
   ]
  },
  {
   "cell_type": "code",
   "execution_count": 150,
   "id": "ccaeb620-1852-469a-b974-59a2ff67ebed",
   "metadata": {},
   "outputs": [
    {
     "data": {
      "text/plain": [
       "2.2978454670130187e-13"
      ]
     },
     "execution_count": 150,
     "metadata": {},
     "output_type": "execute_result"
    }
   ],
   "source": [
    "n = 20\n",
    "A = LowerTriangular(rand(n,n))\n",
    "b = rand(n)\n",
    "x = resolve_triangular_inferior(A, b)\n",
    "norm(A*x - b)"
   ]
  },
  {
   "cell_type": "markdown",
   "id": "95f0f953-5ff2-4c8e-a430-ee4fac45bb62",
   "metadata": {},
   "source": [
    "### Eliminação Gaussiana"
   ]
  },
  {
   "cell_type": "code",
   "execution_count": 77,
   "id": "0be4b4a9-cb60-450c-abeb-8042ac06d620",
   "metadata": {},
   "outputs": [
    {
     "data": {
      "text/plain": [
       "elim_gauss! (generic function with 1 method)"
      ]
     },
     "execution_count": 77,
     "metadata": {},
     "output_type": "execute_result"
    }
   ],
   "source": [
    "# Eliminacao gaussiana\n",
    "\"\"\"\n",
    "RESUMO: Funçao que executa a eliminacao gaussiana em uma matriz A e um vetor b.\n",
    "ENTRADA: Matriz A, vetor b\n",
    "SAIDA: Nada\n",
    "OBS: Modifica as entradas!\n",
    "\"\"\"\n",
    "\n",
    "function elim_gauss!(A, b)\n",
    "    rows, cols = size(A)\n",
    "    for j = 1:cols\n",
    "        non_zero_cols = j+1:cols\n",
    "        for i = j+1:rows\n",
    "            mᵢⱼ = A[i, j] / A[j, j]  # multiplicador que vai zerar a coluna\n",
    "            A[i, non_zero_cols] -= mᵢⱼ * A[j, non_zero_cols]  # subtracao das linhas de A\n",
    "            A[i, j] = 0  # zera cada elemento abaixo do pivô na coluna j\n",
    "            b[i] -= mᵢⱼ * b[j]  # subtracao das linhas de b\n",
    "        end\n",
    "    end\n",
    "end"
   ]
  },
  {
   "cell_type": "markdown",
   "id": "67e68e79-f41f-429b-8454-400313f453c4",
   "metadata": {},
   "source": [
    "#### Exemplo 1 (n = 3)"
   ]
  },
  {
   "cell_type": "code",
   "execution_count": 151,
   "id": "c47b41f4-2c0f-4c2d-a866-1f54fa552a63",
   "metadata": {},
   "outputs": [
    {
     "data": {
      "text/plain": [
       "3×3 Matrix{Float64}:\n",
       " 0.736623  0.239938  0.617541\n",
       " 0.779964  0.997659  0.940925\n",
       " 0.258513  0.718092  0.690691"
      ]
     },
     "execution_count": 151,
     "metadata": {},
     "output_type": "execute_result"
    }
   ],
   "source": [
    "n = 3\n",
    "A = rand(n,n)\n",
    "Acopy = copy(A)"
   ]
  },
  {
   "cell_type": "code",
   "execution_count": 152,
   "id": "cdb890b0-4c5f-427f-9ea9-66ba0e5e1404",
   "metadata": {},
   "outputs": [
    {
     "data": {
      "text/plain": [
       "3-element Vector{Float64}:\n",
       " 0.743925127215534\n",
       " 0.9520421320209136\n",
       " 0.5839332294894266"
      ]
     },
     "execution_count": 152,
     "metadata": {},
     "output_type": "execute_result"
    }
   ],
   "source": [
    "b = rand(n)\n",
    "bcopy = copy(b)"
   ]
  },
  {
   "cell_type": "code",
   "execution_count": 153,
   "id": "c8dd5c5f-7068-44e6-ae96-5b6ab02cbc55",
   "metadata": {},
   "outputs": [
    {
     "data": {
      "text/plain": [
       "3×3 Matrix{Float64}:\n",
       " 0.736623  0.239938  0.617541\n",
       " 0.0       0.743604  0.287049\n",
       " 0.0       0.0       0.229273"
      ]
     },
     "execution_count": 153,
     "metadata": {},
     "output_type": "execute_result"
    }
   ],
   "source": [
    "elim_gauss!(A, b)\n",
    "A"
   ]
  },
  {
   "cell_type": "code",
   "execution_count": 154,
   "id": "b46327b8-929a-4e95-9f65-98d390092307",
   "metadata": {},
   "outputs": [
    {
     "data": {
      "text/plain": [
       "3-element Vector{Float64}:\n",
       " 0.743925127215534\n",
       " 0.16434625973852302\n",
       " 0.18276026232875353"
      ]
     },
     "execution_count": 154,
     "metadata": {},
     "output_type": "execute_result"
    }
   ],
   "source": [
    "b"
   ]
  },
  {
   "cell_type": "code",
   "execution_count": 155,
   "id": "3d58794d-4898-48a0-bd43-1c1b46f6e4b2",
   "metadata": {},
   "outputs": [
    {
     "data": {
      "text/plain": [
       "0.0"
      ]
     },
     "execution_count": 155,
     "metadata": {},
     "output_type": "execute_result"
    }
   ],
   "source": [
    "# Testar (resolvendo o sistema)\n",
    "x = resolve_triangular_superior(A, b)\n",
    "norm(Acopy * x - bcopy)"
   ]
  },
  {
   "cell_type": "markdown",
   "id": "cac9279c-4070-42a7-ae4c-c371b9451219",
   "metadata": {},
   "source": [
    "#### Exemplo 2 (n = 5, x random)"
   ]
  },
  {
   "cell_type": "code",
   "execution_count": 156,
   "id": "a7d406bd-e980-44ce-b2ea-76bc373e99da",
   "metadata": {},
   "outputs": [
    {
     "data": {
      "text/plain": [
       "5"
      ]
     },
     "execution_count": 156,
     "metadata": {},
     "output_type": "execute_result"
    }
   ],
   "source": [
    "n = 5"
   ]
  },
  {
   "cell_type": "code",
   "execution_count": 168,
   "id": "66b28ef5-3cfe-40f5-be6f-a4fc991aba42",
   "metadata": {},
   "outputs": [
    {
     "data": {
      "text/plain": [
       "5×5 Matrix{Float64}:\n",
       " 0.0663475  0.769471   0.0478637  0.183234   0.325281\n",
       " 0.580215   0.0869982  0.603236   0.958968   0.895386\n",
       " 0.215092   0.770959   0.937615   0.873565   0.244566\n",
       " 0.556883   0.231775   0.695685   0.0219232  0.570939\n",
       " 0.713341   0.1931     0.911457   0.555587   0.340926"
      ]
     },
     "execution_count": 168,
     "metadata": {},
     "output_type": "execute_result"
    }
   ],
   "source": [
    "A = rand(n,n)\n",
    "Acopy = copy(A)"
   ]
  },
  {
   "cell_type": "code",
   "execution_count": 169,
   "id": "182edefc-0ce1-4a0c-8940-802f3d468406",
   "metadata": {},
   "outputs": [
    {
     "data": {
      "text/plain": [
       "5-element Vector{Float64}:\n",
       " 0.5324494120906187\n",
       " 0.14924966608840862\n",
       " 0.9664684719650702\n",
       " 0.7191252708108491\n",
       " 0.26215402299813406"
      ]
     },
     "execution_count": 169,
     "metadata": {},
     "output_type": "execute_result"
    }
   ],
   "source": [
    "b = rand(n)\n",
    "bcopy = copy(b)"
   ]
  },
  {
   "cell_type": "code",
   "execution_count": 170,
   "id": "926f76e5-a5dc-4722-bbbf-7e4f04b6158b",
   "metadata": {},
   "outputs": [
    {
     "data": {
      "text/plain": [
       "5×5 Matrix{Float64}:\n",
       " 0.0663475   0.769471  0.0478637   0.183234   0.325281\n",
       " 0.0        -6.64211   0.184663   -0.643429  -1.94923\n",
       " 0.0         0.0       0.734527    0.446506  -0.304148\n",
       " 0.0         0.0       0.0        -0.986296  -0.281921\n",
       " 0.0         0.0       0.0         0.0       -0.50337"
      ]
     },
     "execution_count": 170,
     "metadata": {},
     "output_type": "execute_result"
    }
   ],
   "source": [
    "elim_gauss!(A, b)\n",
    "A"
   ]
  },
  {
   "cell_type": "code",
   "execution_count": 171,
   "id": "e8eecbda-58e3-4878-ab86-5a427b5cfeec",
   "metadata": {},
   "outputs": [
    {
     "data": {
      "text/plain": [
       "5-element Vector{Float64}:\n",
       "  0.5324494120906187\n",
       " -4.507073732545481\n",
       "  0.40988187432434997\n",
       "  0.4078382554327967\n",
       " -0.3804075388738102"
      ]
     },
     "execution_count": 171,
     "metadata": {},
     "output_type": "execute_result"
    }
   ],
   "source": [
    "b"
   ]
  },
  {
   "cell_type": "code",
   "execution_count": 172,
   "id": "be52889d-82a3-44b5-998e-1886cd3a652f",
   "metadata": {},
   "outputs": [
    {
     "data": {
      "text/plain": [
       "7.711855592701269e-16"
      ]
     },
     "execution_count": 172,
     "metadata": {},
     "output_type": "execute_result"
    }
   ],
   "source": [
    "# Testar (resolvendo o sistema)\n",
    "x = resolve_triangular_superior(A, b)\n",
    "norm(Acopy * x - bcopy)"
   ]
  },
  {
   "cell_type": "markdown",
   "id": "29714b10-9ce7-43e3-b262-a3c79688f0d1",
   "metadata": {},
   "source": [
    "#### Exemplo 3 (n = 20, x random)"
   ]
  },
  {
   "cell_type": "code",
   "execution_count": 178,
   "id": "ca366dbd-4d5e-46da-a804-76ae40e028af",
   "metadata": {},
   "outputs": [
    {
     "data": {
      "text/plain": [
       "1.0559537520802596e-14"
      ]
     },
     "execution_count": 178,
     "metadata": {},
     "output_type": "execute_result"
    }
   ],
   "source": [
    "n = 20\n",
    "A = rand(n,n)\n",
    "Acopy = copy(A)\n",
    "b = rand(n)\n",
    "bcopy = copy(b)\n",
    "elim_gauss!(A, b)\n",
    "\n",
    "# Testar (resolvendo o sistema)\n",
    "x = resolve_triangular_superior(A, b)\n",
    "norm(Acopy * x - bcopy)"
   ]
  }
 ],
 "metadata": {
  "kernelspec": {
   "display_name": "Julia 1.6.0",
   "language": "julia",
   "name": "julia-1.6"
  },
  "language_info": {
   "file_extension": ".jl",
   "mimetype": "application/julia",
   "name": "julia",
   "version": "1.6.1"
  }
 },
 "nbformat": 4,
 "nbformat_minor": 5
}
