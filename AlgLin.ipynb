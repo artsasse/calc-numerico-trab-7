{
 "cells": [
  {
   "cell_type": "code",
   "execution_count": 10,
   "id": "c2c43560-208d-4aa1-adce-990381491bff",
   "metadata": {},
   "outputs": [],
   "source": [
    "using LinearAlgebra"
   ]
  },
  {
   "cell_type": "markdown",
   "id": "26fbb85a-31f4-4140-9874-876f959a0223",
   "metadata": {},
   "source": [
    "### Resolve Diagonal"
   ]
  },
  {
   "cell_type": "code",
   "execution_count": 96,
   "id": "9920c5c0-f331-4678-8b27-3287ee8d57a2",
   "metadata": {},
   "outputs": [
    {
     "data": {
      "text/plain": [
       "resolve_diagonal (generic function with 1 method)"
      ]
     },
     "execution_count": 96,
     "metadata": {},
     "output_type": "execute_result"
    }
   ],
   "source": [
    "# Resolve diagonal\n",
    "\"\"\"\"\n",
    "RESUMO: Resolve um sistema linear Ax=b que tenha uma matriz diagonal\n",
    "ENTRADA: Matriz A, vetor b\n",
    "SAIDA: vetor x (solucao do sistema)\n",
    "\"\"\"\n",
    "\n",
    "function resolve_diagonal(A, b)\n",
    "    rows, cols = size(A)\n",
    "    \n",
    "    # verifica se a matriz é quadrada\n",
    "    if rows != cols\n",
    "        error(\"A matriz deve ser quadrada!\")\n",
    "    end\n",
    "    \n",
    "    # Inicializa o vetor solucao\n",
    "    x = zeros(rows)\n",
    "    \n",
    "    # Calcula cada elemento do vetor x\n",
    "    # Dividindo o valor de cada linha de b pelos valores na diagonal de A\n",
    "    for i = 1:rows\n",
    "        x[i] = b[i] / A[i,i]\n",
    "    end\n",
    "    \n",
    "    return x\n",
    "end"
   ]
  },
  {
   "cell_type": "markdown",
   "id": "6afe2d85-9080-4c2d-b6b4-8a35111d4d1a",
   "metadata": {},
   "source": [
    "#### Exemplo 1 (n = 3)"
   ]
  },
  {
   "cell_type": "code",
   "execution_count": 112,
   "id": "b1fd6d9e-3b37-477f-ba45-48dba856205b",
   "metadata": {},
   "outputs": [
    {
     "data": {
      "text/plain": [
       "0.0"
      ]
     },
     "execution_count": 112,
     "metadata": {},
     "output_type": "execute_result"
    }
   ],
   "source": [
    "A = [2  0   0;\n",
    "     0  7   0;\n",
    "     0  0 -11]\n",
    "\n",
    "b = [-6, 7, 110]\n",
    "\n",
    "x = resolve_diagonal(A, b)\n",
    "\n",
    "norm(A*x - b)"
   ]
  },
  {
   "cell_type": "markdown",
   "id": "2a62ffe4-5618-461b-b4ee-476a13d81ded",
   "metadata": {},
   "source": [
    "#### Exemplo 2 (n = 5)"
   ]
  },
  {
   "cell_type": "code",
   "execution_count": 113,
   "id": "3184905e-e78a-4439-9e1c-b67f56d40d4a",
   "metadata": {},
   "outputs": [
    {
     "data": {
      "text/plain": [
       "0.0"
      ]
     },
     "execution_count": 113,
     "metadata": {},
     "output_type": "execute_result"
    }
   ],
   "source": [
    "n = 5\n",
    "A = Diagonal(rand(5,5))\n",
    "\n",
    "b = rand(5)\n",
    "\n",
    "x = resolve_diagonal(A, b)\n",
    "\n",
    "norm(A * x - b)"
   ]
  },
  {
   "cell_type": "markdown",
   "id": "0d1c41ee-94b6-4b82-aab8-e3dfb674c76f",
   "metadata": {},
   "source": [
    "#### Exemplo 3 (n = 20)"
   ]
  },
  {
   "cell_type": "code",
   "execution_count": 114,
   "id": "bb4100f8-be18-4b8e-b412-71535570f046",
   "metadata": {},
   "outputs": [
    {
     "data": {
      "text/plain": [
       "5.721958498152797e-17"
      ]
     },
     "execution_count": 114,
     "metadata": {},
     "output_type": "execute_result"
    }
   ],
   "source": [
    "n = 20\n",
    "A = Diagonal(rand(n, n))\n",
    "b = rand(n)\n",
    "x = resolve_diagonal(A, b)\n",
    "norm(A*x - b)"
   ]
  },
  {
   "cell_type": "markdown",
   "id": "6b754c60-6151-40dc-b453-93760d5898ef",
   "metadata": {},
   "source": [
    "### Resolve Triangular Superior"
   ]
  },
  {
   "cell_type": "code",
   "execution_count": 8,
   "id": "536e5521-b86e-4d61-8bfb-69dbbcfc6583",
   "metadata": {
    "tags": []
   },
   "outputs": [
    {
     "data": {
      "text/plain": [
       "resolve_triangular_superior (generic function with 1 method)"
      ]
     },
     "execution_count": 8,
     "metadata": {},
     "output_type": "execute_result"
    }
   ],
   "source": [
    "# Resolve triangular superior\n",
    "\"\"\"\"\n",
    "RESUMO: Resolve um sistema linear Ax=b que tenha uma matriz triangular superior.\n",
    "        Ou seja, todos os elementos abaixo da diagonal estao zerados.\n",
    "ENTRADA: Matriz A, vetor b\n",
    "SAIDA: vetor x (solucao do sistema)\n",
    "\"\"\"\n",
    "\n",
    "function resolve_triangular_superior(A, b)\n",
    "    rows, cols = size(A)\n",
    "    \n",
    "    # verifica se a matriz é quadrada\n",
    "    if rows != cols\n",
    "        error(\"A matriz deve ser quadrada!\")\n",
    "    end\n",
    "    \n",
    "    # Inicializa o vetor solucao\n",
    "    x = zeros(rows)\n",
    "    \n",
    "    # Calcula cada elemento do vetor x\n",
    "    # substituindo em cada linha, de baixo para cima\n",
    "    for i = rows:-1:1\n",
    "        x[i] = b[i]  # pegamos o bᵢ\n",
    "        for j = i+1:cols\n",
    "            x[i] -= A[i, j] * x[j]  # subtraimos de bᵢ todos os x's que ja \n",
    "                                    # foram calculados (multiplicados pelos coeficientes)\n",
    "        end\n",
    "        x[i] = x[i] / A[i, i]  # Dividimos o resultado pelo coeficiente de xᵢ\n",
    "    end\n",
    "    \n",
    "    return x\n",
    "end"
   ]
  },
  {
   "cell_type": "markdown",
   "id": "9de1bd61-306d-4785-894a-b016b1f9b437",
   "metadata": {},
   "source": [
    "#### Exemplo 1 (n = 3)"
   ]
  },
  {
   "cell_type": "code",
   "execution_count": 124,
   "id": "9a83b47c-9caf-4539-87aa-e2f45ecfc85c",
   "metadata": {},
   "outputs": [
    {
     "data": {
      "text/plain": [
       "3×3 Matrix{Float64}:\n",
       " -2.0  7.0   19.0\n",
       "  0.0  0.5  -10.0\n",
       "  0.0  0.0    3.0"
      ]
     },
     "execution_count": 124,
     "metadata": {},
     "output_type": "execute_result"
    }
   ],
   "source": [
    "A = [-2    7  19;\n",
    "      0  0.5 -10;\n",
    "      0    0   3]"
   ]
  },
  {
   "cell_type": "code",
   "execution_count": 125,
   "id": "aad5b14b-6add-442f-abea-01e6dfcc3bbc",
   "metadata": {},
   "outputs": [
    {
     "data": {
      "text/plain": [
       "3-element Vector{Float64}:\n",
       "   2.0\n",
       "   8.5\n",
       " -11.0"
      ]
     },
     "execution_count": 125,
     "metadata": {},
     "output_type": "execute_result"
    }
   ],
   "source": [
    "b = [2, 8.5, -11]"
   ]
  },
  {
   "cell_type": "code",
   "execution_count": 126,
   "id": "56fd9634-7842-4f94-98eb-ac8590fdb5bf",
   "metadata": {},
   "outputs": [
    {
     "data": {
      "text/plain": [
       "3-element Vector{Float64}:\n",
       " -233.0\n",
       "  -56.33333333333333\n",
       "   -3.6666666666666665"
      ]
     },
     "execution_count": 126,
     "metadata": {},
     "output_type": "execute_result"
    }
   ],
   "source": [
    "x = resolve_triangular_superior(A, b)"
   ]
  },
  {
   "cell_type": "code",
   "execution_count": 127,
   "id": "6dee3981-42ee-410c-a0cd-63efe238ba3f",
   "metadata": {},
   "outputs": [
    {
     "data": {
      "text/plain": [
       "2.842170943040401e-14"
      ]
     },
     "execution_count": 127,
     "metadata": {},
     "output_type": "execute_result"
    }
   ],
   "source": [
    "norm(A*x - b)"
   ]
  },
  {
   "cell_type": "markdown",
   "id": "01436d43-95cd-4206-8e94-321e40fc1337",
   "metadata": {},
   "source": [
    "#### Exemplo 2 (n = 5)"
   ]
  },
  {
   "cell_type": "code",
   "execution_count": 130,
   "id": "666de207-7097-45b3-8a59-b43a0b3406b8",
   "metadata": {},
   "outputs": [
    {
     "data": {
      "text/plain": [
       "1.2412670766236366e-16"
      ]
     },
     "execution_count": 130,
     "metadata": {},
     "output_type": "execute_result"
    }
   ],
   "source": [
    "n = 5\n",
    "A = UpperTriangular(rand(n,n))\n",
    "b = rand(n)\n",
    "x = resolve_triangular_superior(A, b)\n",
    "norm(A*x - b)"
   ]
  },
  {
   "cell_type": "markdown",
   "id": "1c9be646-e901-4cb2-9e2d-7749e4d17419",
   "metadata": {},
   "source": [
    "#### Exemplo 3 (n = 20)"
   ]
  },
  {
   "cell_type": "code",
   "execution_count": 137,
   "id": "ab933bbf-cd77-4909-b239-75303e52deac",
   "metadata": {},
   "outputs": [
    {
     "data": {
      "text/plain": [
       "7.405661942207508e-14"
      ]
     },
     "execution_count": 137,
     "metadata": {},
     "output_type": "execute_result"
    }
   ],
   "source": [
    "n = 20\n",
    "A = UpperTriangular(rand(n,n))\n",
    "b = rand(n)\n",
    "x = resolve_triangular_superior(A, b)\n",
    "norm(A*x - b)"
   ]
  },
  {
   "cell_type": "markdown",
   "id": "7d0949a5-11c1-407d-8789-eedfb176944c",
   "metadata": {},
   "source": [
    "### Resolve Triangular Inferior"
   ]
  },
  {
   "cell_type": "code",
   "execution_count": 109,
   "id": "7efd1255-6617-4a1e-be42-5b80658851bb",
   "metadata": {
    "tags": []
   },
   "outputs": [
    {
     "data": {
      "text/plain": [
       "resolve_triangular_inferior (generic function with 1 method)"
      ]
     },
     "execution_count": 109,
     "metadata": {},
     "output_type": "execute_result"
    }
   ],
   "source": [
    "# Resolve triangular inferior\n",
    "\"\"\"\"\n",
    "RESUMO: Resolve um sistema linear Ax=b que tenha uma matriz triangular inferior.\n",
    "        Ou seja, todos os elementos acima da diagonal estao zerados.\n",
    "ENTRADA: Matriz A, vetor b\n",
    "SAIDA: vetor x (solucao do sistema)\n",
    "\"\"\"\n",
    "\n",
    "function resolve_triangular_inferior(A, b)\n",
    "    rows, cols = size(A)\n",
    "    \n",
    "    # verifica se a matriz é quadrada\n",
    "    if rows != cols\n",
    "        error(\"A matriz deve ser quadrada!\")\n",
    "    end\n",
    "    \n",
    "    # Inicializa o vetor solucao\n",
    "    x = zeros(rows)\n",
    "    \n",
    "    # Calcula cada elemento do vetor x\n",
    "    # substituindo em cada linha, de cima para baixo\n",
    "    for i = 1:rows\n",
    "        x[i] = b[i]  # pegamos o bᵢ\n",
    "        for j = i-1:-1:1\n",
    "            x[i] -= A[i, j] * x[j]  # subtraimos de bᵢ todos os x's que ja \n",
    "                                    # foram calculados (multiplicados pelos coeficientes)\n",
    "        end\n",
    "        x[i] = x[i] / A[i, i]  # Dividimos o resultado pelo coeficiente de xᵢ\n",
    "    end\n",
    "    \n",
    "    return x\n",
    "end"
   ]
  },
  {
   "cell_type": "markdown",
   "id": "8a66524e-a68a-4e21-87a6-7d7491600bec",
   "metadata": {},
   "source": [
    "#### Exemplo 1 (n = 3)"
   ]
  },
  {
   "cell_type": "code",
   "execution_count": 140,
   "id": "cacf3d1b-080c-445b-9f54-afa224acef2a",
   "metadata": {},
   "outputs": [
    {
     "data": {
      "text/plain": [
       "3×3 Matrix{Float64}:\n",
       "  9.0   0.0   0.0\n",
       " -7.0   1.0   0.0\n",
       " 56.3  85.0  -2.0"
      ]
     },
     "execution_count": 140,
     "metadata": {},
     "output_type": "execute_result"
    }
   ],
   "source": [
    "A = [  9    0   0;\n",
    "      -7    1   0;\n",
    "    56.3   85  -2]"
   ]
  },
  {
   "cell_type": "code",
   "execution_count": 141,
   "id": "1f1774ec-5247-4bd0-a426-a6e971443190",
   "metadata": {},
   "outputs": [
    {
     "data": {
      "text/plain": [
       "3-element Vector{Float64}:\n",
       " 30.0\n",
       "  2.75\n",
       " -4.1"
      ]
     },
     "execution_count": 141,
     "metadata": {},
     "output_type": "execute_result"
    }
   ],
   "source": [
    "b = [30, 2.75, -4.1]"
   ]
  },
  {
   "cell_type": "code",
   "execution_count": 142,
   "id": "9c9fd6ee-d84e-422f-87a5-090837782503",
   "metadata": {},
   "outputs": [
    {
     "data": {
      "text/plain": [
       "3-element Vector{Float64}:\n",
       "    3.3333333333333335\n",
       "   26.083333333333336\n",
       " 1204.425"
      ]
     },
     "execution_count": 142,
     "metadata": {},
     "output_type": "execute_result"
    }
   ],
   "source": [
    "x = resolve_triangular_inferior(A, b)"
   ]
  },
  {
   "cell_type": "code",
   "execution_count": 143,
   "id": "287a1ad3-dec7-4973-8e98-498f88e05f59",
   "metadata": {},
   "outputs": [
    {
     "data": {
      "text/plain": [
       "9.059419880941277e-14"
      ]
     },
     "execution_count": 143,
     "metadata": {},
     "output_type": "execute_result"
    }
   ],
   "source": [
    "norm(A*x - b)"
   ]
  },
  {
   "cell_type": "markdown",
   "id": "311413a5-a472-4e30-9927-b438ac608f70",
   "metadata": {},
   "source": [
    "#### Exemplo 2 (n = 5)"
   ]
  },
  {
   "cell_type": "code",
   "execution_count": 147,
   "id": "48ff6c27-0221-4250-9292-f81d02ae7c45",
   "metadata": {},
   "outputs": [
    {
     "data": {
      "text/plain": [
       "1.4936523181711914e-15"
      ]
     },
     "execution_count": 147,
     "metadata": {},
     "output_type": "execute_result"
    }
   ],
   "source": [
    "n = 5\n",
    "A = LowerTriangular(rand(n,n))\n",
    "b = rand(n)\n",
    "x = resolve_triangular_inferior(A, b)\n",
    "norm(A*x - b)"
   ]
  },
  {
   "cell_type": "markdown",
   "id": "68822f86-1a74-41fd-a69b-8307a132b964",
   "metadata": {},
   "source": [
    "#### Exemplo 3 (n = 20)"
   ]
  },
  {
   "cell_type": "code",
   "execution_count": 150,
   "id": "ccaeb620-1852-469a-b974-59a2ff67ebed",
   "metadata": {},
   "outputs": [
    {
     "data": {
      "text/plain": [
       "2.2978454670130187e-13"
      ]
     },
     "execution_count": 150,
     "metadata": {},
     "output_type": "execute_result"
    }
   ],
   "source": [
    "n = 20\n",
    "A = LowerTriangular(rand(n,n))\n",
    "b = rand(n)\n",
    "x = resolve_triangular_inferior(A, b)\n",
    "norm(A*x - b)"
   ]
  },
  {
   "cell_type": "markdown",
   "id": "95f0f953-5ff2-4c8e-a430-ee4fac45bb62",
   "metadata": {},
   "source": [
    "### Eliminação Gaussiana"
   ]
  },
  {
   "cell_type": "code",
   "execution_count": 2,
   "id": "0be4b4a9-cb60-450c-abeb-8042ac06d620",
   "metadata": {},
   "outputs": [
    {
     "data": {
      "text/plain": [
       "eliminacao_gaussiana (generic function with 1 method)"
      ]
     },
     "execution_count": 2,
     "metadata": {},
     "output_type": "execute_result"
    }
   ],
   "source": [
    "# Eliminacao gaussiana\n",
    "\"\"\"\n",
    "RESUMO: Funçao que executa a eliminacao gaussiana em uma matriz A e um vetor b.\n",
    "ENTRADA: Matriz A, vetor b\n",
    "SAIDA: Nada\n",
    "OBS: Modifica as entradas!\n",
    "\"\"\"\n",
    "\n",
    "function eliminacao_gaussiana(A, b)\n",
    "    rows, cols = size(A)\n",
    "    for j = 1:cols\n",
    "        non_zero_cols = j+1:cols\n",
    "        for i = j+1:rows\n",
    "            mᵢⱼ = A[i, j] / A[j, j]  # multiplicador que vai zerar a coluna\n",
    "            A[i, non_zero_cols] -= mᵢⱼ * A[j, non_zero_cols]  # subtracao das linhas de A\n",
    "            A[i, j] = 0  # zera cada elemento abaixo do pivô na coluna j\n",
    "            b[i] -= mᵢⱼ * b[j]  # subtracao das linhas de b\n",
    "        end\n",
    "    end\n",
    "end"
   ]
  },
  {
   "cell_type": "markdown",
   "id": "67e68e79-f41f-429b-8454-400313f453c4",
   "metadata": {},
   "source": [
    "#### Exemplo 1 (n = 3)"
   ]
  },
  {
   "cell_type": "code",
   "execution_count": 3,
   "id": "c47b41f4-2c0f-4c2d-a866-1f54fa552a63",
   "metadata": {},
   "outputs": [
    {
     "data": {
      "text/plain": [
       "3×3 Matrix{Float64}:\n",
       " 0.202406  0.673815  0.880767\n",
       " 0.587993  0.708312  0.0878447\n",
       " 0.871601  0.163057  0.278384"
      ]
     },
     "execution_count": 3,
     "metadata": {},
     "output_type": "execute_result"
    }
   ],
   "source": [
    "n = 3\n",
    "A = rand(n,n)\n",
    "Acopy = copy(A)"
   ]
  },
  {
   "cell_type": "code",
   "execution_count": 4,
   "id": "cdb890b0-4c5f-427f-9ea9-66ba0e5e1404",
   "metadata": {},
   "outputs": [
    {
     "data": {
      "text/plain": [
       "3-element Vector{Float64}:\n",
       " 0.8128419958346671\n",
       " 0.18778020257382844\n",
       " 0.29418940502129476"
      ]
     },
     "execution_count": 4,
     "metadata": {},
     "output_type": "execute_result"
    }
   ],
   "source": [
    "b = rand(n)\n",
    "bcopy = copy(b)"
   ]
  },
  {
   "cell_type": "code",
   "execution_count": 5,
   "id": "c8dd5c5f-7068-44e6-ae96-5b6ab02cbc55",
   "metadata": {},
   "outputs": [
    {
     "data": {
      "text/plain": [
       "3×3 Matrix{Float64}:\n",
       " 0.202406   0.673815   0.880767\n",
       " 0.0       -1.24913   -2.4708\n",
       " 0.0        0.0        1.90247"
      ]
     },
     "execution_count": 5,
     "metadata": {},
     "output_type": "execute_result"
    }
   ],
   "source": [
    "eliminacao_gaussiana(A, b)\n",
    "A"
   ]
  },
  {
   "cell_type": "code",
   "execution_count": 6,
   "id": "b46327b8-929a-4e95-9f65-98d390092307",
   "metadata": {},
   "outputs": [
    {
     "data": {
      "text/plain": [
       "3-element Vector{Float64}:\n",
       "  0.8128419958346671\n",
       " -2.173538677426604\n",
       "  1.5590775743480592"
      ]
     },
     "execution_count": 6,
     "metadata": {},
     "output_type": "execute_result"
    }
   ],
   "source": [
    "b"
   ]
  },
  {
   "cell_type": "code",
   "execution_count": 11,
   "id": "3d58794d-4898-48a0-bd43-1c1b46f6e4b2",
   "metadata": {},
   "outputs": [
    {
     "data": {
      "text/plain": [
       "2.9893669801409083e-16"
      ]
     },
     "execution_count": 11,
     "metadata": {},
     "output_type": "execute_result"
    }
   ],
   "source": [
    "# Testar (resolvendo o sistema)\n",
    "x = resolve_triangular_superior(A, b)\n",
    "norm(Acopy * x - bcopy)"
   ]
  },
  {
   "cell_type": "markdown",
   "id": "cac9279c-4070-42a7-ae4c-c371b9451219",
   "metadata": {},
   "source": [
    "#### Exemplo 2 (n = 5, x random)"
   ]
  },
  {
   "cell_type": "code",
   "execution_count": 12,
   "id": "a7d406bd-e980-44ce-b2ea-76bc373e99da",
   "metadata": {},
   "outputs": [
    {
     "data": {
      "text/plain": [
       "5"
      ]
     },
     "execution_count": 12,
     "metadata": {},
     "output_type": "execute_result"
    }
   ],
   "source": [
    "n = 5"
   ]
  },
  {
   "cell_type": "code",
   "execution_count": 13,
   "id": "66b28ef5-3cfe-40f5-be6f-a4fc991aba42",
   "metadata": {},
   "outputs": [
    {
     "data": {
      "text/plain": [
       "5×5 Matrix{Float64}:\n",
       " 0.447115   0.526316  0.438287  0.978176  0.454452\n",
       " 0.601031   0.652873  0.988625  0.35596   0.373821\n",
       " 0.68519    0.700868  0.463585  0.643119  0.422305\n",
       " 0.890906   0.479626  0.684703  0.453157  0.0877369\n",
       " 0.0572552  0.548967  0.323097  0.759533  0.897974"
      ]
     },
     "execution_count": 13,
     "metadata": {},
     "output_type": "execute_result"
    }
   ],
   "source": [
    "A = rand(n,n)\n",
    "Acopy = copy(A)"
   ]
  },
  {
   "cell_type": "code",
   "execution_count": 14,
   "id": "182edefc-0ce1-4a0c-8940-802f3d468406",
   "metadata": {},
   "outputs": [
    {
     "data": {
      "text/plain": [
       "5-element Vector{Float64}:\n",
       " 0.5640261287581383\n",
       " 0.8292528488448687\n",
       " 0.6969664395383763\n",
       " 0.7414681127930645\n",
       " 0.44060932503869843"
      ]
     },
     "execution_count": 14,
     "metadata": {},
     "output_type": "execute_result"
    }
   ],
   "source": [
    "b = rand(n)\n",
    "bcopy = copy(b)"
   ]
  },
  {
   "cell_type": "code",
   "execution_count": 15,
   "id": "926f76e5-a5dc-4722-bbbf-7e4f04b6158b",
   "metadata": {},
   "outputs": [
    {
     "data": {
      "text/plain": [
       "5×5 Matrix{Float64}:\n",
       " 0.447115   0.526316    0.438287   0.978176   0.454452\n",
       " 0.0       -0.0546233   0.399461  -0.958946  -0.237073\n",
       " 0.0        0.0        -0.981017   0.999619   0.184598\n",
       " 0.0        0.0         0.0        4.06196    0.833536\n",
       " 0.0        0.0         0.0        0.0        0.275119"
      ]
     },
     "execution_count": 15,
     "metadata": {},
     "output_type": "execute_result"
    }
   ],
   "source": [
    "eliminacao_gaussiana(A, b)\n",
    "A"
   ]
  },
  {
   "cell_type": "code",
   "execution_count": 16,
   "id": "e8eecbda-58e3-4878-ab86-5a427b5cfeec",
   "metadata": {},
   "outputs": [
    {
     "data": {
      "text/plain": [
       "5-element Vector{Float64}:\n",
       "  0.5640261287581383\n",
       "  0.07106466711198633\n",
       " -0.30489362439098844\n",
       "  0.22929438383551992\n",
       "  0.04090904190613345"
      ]
     },
     "execution_count": 16,
     "metadata": {},
     "output_type": "execute_result"
    }
   ],
   "source": [
    "b"
   ]
  },
  {
   "cell_type": "code",
   "execution_count": 17,
   "id": "be52889d-82a3-44b5-998e-1886cd3a652f",
   "metadata": {},
   "outputs": [
    {
     "data": {
      "text/plain": [
       "1.1102230246251565e-16"
      ]
     },
     "execution_count": 17,
     "metadata": {},
     "output_type": "execute_result"
    }
   ],
   "source": [
    "# Testar (resolvendo o sistema)\n",
    "x = resolve_triangular_superior(A, b)\n",
    "norm(Acopy * x - bcopy)"
   ]
  },
  {
   "cell_type": "markdown",
   "id": "29714b10-9ce7-43e3-b262-a3c79688f0d1",
   "metadata": {},
   "source": [
    "#### Exemplo 3 (n = 20, x random)"
   ]
  },
  {
   "cell_type": "code",
   "execution_count": 18,
   "id": "ca366dbd-4d5e-46da-a804-76ae40e028af",
   "metadata": {},
   "outputs": [
    {
     "data": {
      "text/plain": [
       "8.897729340113409e-15"
      ]
     },
     "execution_count": 18,
     "metadata": {},
     "output_type": "execute_result"
    }
   ],
   "source": [
    "n = 20\n",
    "A = rand(n,n)\n",
    "Acopy = copy(A)\n",
    "b = rand(n)\n",
    "bcopy = copy(b)\n",
    "eliminacao_gaussiana(A, b)\n",
    "\n",
    "# Testar (resolvendo o sistema)\n",
    "x = resolve_triangular_superior(A, b)\n",
    "norm(Acopy * x - bcopy)"
   ]
  },
  {
   "cell_type": "markdown",
   "id": "88ea1483-9b74-4600-9ee3-7d168c9d776e",
   "metadata": {},
   "source": [
    "### Resolve Cheia"
   ]
  },
  {
   "cell_type": "code",
   "execution_count": 19,
   "id": "58f197e9-f9bc-45a9-bb80-aecfe6809480",
   "metadata": {},
   "outputs": [
    {
     "data": {
      "text/plain": [
       "resolve_cheia (generic function with 1 method)"
      ]
     },
     "execution_count": 19,
     "metadata": {},
     "output_type": "execute_result"
    }
   ],
   "source": [
    "# Resolve cheia\n",
    "\"\"\"\n",
    "RESUMO: Resolve um sistema linear com uma matriz quadrada \"cheia\".\n",
    "        Ou seja, que nao é triangular nem diagonal.\n",
    "        Primeiro aplicamos a eliminacao gaussiana e depois resolvemos o sistema \n",
    "        com a matriz triangular superior.\n",
    "ENTRADA: Matriz A, vetor b\n",
    "SAIDA: Vetor x (solucao do sistema)\n",
    "OBS: Modifica as entradas!\n",
    "\"\"\"\n",
    "\n",
    "function resolve_cheia(A, b)\n",
    "    eliminacao_gaussiana(A,b)\n",
    "    x = resolve_triangular_superior(A,b)\n",
    "    return x\n",
    "end"
   ]
  },
  {
   "cell_type": "markdown",
   "id": "fc97d1ca-72a8-4071-98cd-1c56e1baa270",
   "metadata": {},
   "source": [
    "#### Exemplo 1 (n = 3)"
   ]
  },
  {
   "cell_type": "code",
   "execution_count": 33,
   "id": "bd9cc77b-0ba1-44c1-959b-7380c7e19069",
   "metadata": {},
   "outputs": [
    {
     "data": {
      "text/plain": [
       "3×3 Matrix{Float64}:\n",
       " 2.0  -4.0   1.0\n",
       " 9.0  18.0  -7.34\n",
       " 0.0   0.2  45.0"
      ]
     },
     "execution_count": 33,
     "metadata": {},
     "output_type": "execute_result"
    }
   ],
   "source": [
    "A = [2   -4      1;\n",
    "     9   18  -7.34;\n",
    "     0  0.2     45]\n",
    "Acopy = copy(A)"
   ]
  },
  {
   "cell_type": "code",
   "execution_count": 34,
   "id": "3f75e723-8594-410e-8946-5df9226bba33",
   "metadata": {},
   "outputs": [
    {
     "data": {
      "text/plain": [
       "3-element Vector{Float64}:\n",
       " -1.0\n",
       " 84.0\n",
       "  4.333"
      ]
     },
     "execution_count": 34,
     "metadata": {},
     "output_type": "execute_result"
    }
   ],
   "source": [
    "b = [-1, 84, 4.333]\n",
    "bcopy = copy(b)"
   ]
  },
  {
   "cell_type": "code",
   "execution_count": 35,
   "id": "d5954cef-b372-4b6e-ab02-7be256c76c20",
   "metadata": {},
   "outputs": [
    {
     "data": {
      "text/plain": [
       "3-element Vector{Float64}:\n",
       " 4.43011538689126\n",
       " 2.486367285350796\n",
       " 0.08523836762066314"
      ]
     },
     "execution_count": 35,
     "metadata": {},
     "output_type": "execute_result"
    }
   ],
   "source": [
    "x = resolve_cheia(A, b)"
   ]
  },
  {
   "cell_type": "code",
   "execution_count": 36,
   "id": "aa862933-9f09-418f-9920-cb18a2331dfe",
   "metadata": {},
   "outputs": [
    {
     "data": {
      "text/plain": [
       "0.0"
      ]
     },
     "execution_count": 36,
     "metadata": {},
     "output_type": "execute_result"
    }
   ],
   "source": [
    "norm(Acopy * x - bcopy)"
   ]
  },
  {
   "cell_type": "markdown",
   "id": "30c57ba8-5841-4b36-a5bf-b1703e9f32a3",
   "metadata": {},
   "source": [
    "#### Exemplo 2 (n = 5)"
   ]
  },
  {
   "cell_type": "code",
   "execution_count": 37,
   "id": "35b7b462-8897-4ec1-b280-9a21f48ab4b2",
   "metadata": {},
   "outputs": [
    {
     "data": {
      "text/plain": [
       "6.568167990716596e-16"
      ]
     },
     "execution_count": 37,
     "metadata": {},
     "output_type": "execute_result"
    }
   ],
   "source": [
    "n = 5\n",
    "A = rand(n,n)\n",
    "Acopy = copy(A)\n",
    "b = rand(n)\n",
    "bcopy = copy(b)\n",
    "x = resolve_cheia(A, b)\n",
    "norm(Acopy * x - bcopy)"
   ]
  },
  {
   "cell_type": "markdown",
   "id": "8adfb92b-4689-495b-a8fb-e9b4ba9605f6",
   "metadata": {},
   "source": [
    "#### Exemplo 3 (n = 20)"
   ]
  },
  {
   "cell_type": "code",
   "execution_count": 20,
   "id": "ead9c196-c71c-4cf8-83a7-e6c854bc0d21",
   "metadata": {},
   "outputs": [
    {
     "data": {
      "text/plain": [
       "1.9303918037323056e-14"
      ]
     },
     "execution_count": 20,
     "metadata": {},
     "output_type": "execute_result"
    }
   ],
   "source": [
    "n = 20\n",
    "A = rand(n,n)\n",
    "Acopy = copy(A)\n",
    "b = rand(n)\n",
    "bcopy = copy(b)\n",
    "x = resolve_cheia(A, b)\n",
    "norm(Acopy * x - bcopy)"
   ]
  },
  {
   "cell_type": "markdown",
   "id": "eb190e14-be7f-4ac2-a598-cf02405eb25c",
   "metadata": {},
   "source": [
    "### Decomposição LU "
   ]
  },
  {
   "cell_type": "code",
   "execution_count": 81,
   "id": "199e15ed-96ca-4aae-bf6c-38458b78d8a8",
   "metadata": {},
   "outputs": [
    {
     "data": {
      "text/plain": [
       "decomposicao_LU"
      ]
     },
     "execution_count": 81,
     "metadata": {},
     "output_type": "execute_result"
    }
   ],
   "source": [
    "# Decomposicao LU\n",
    "\"\"\"\n",
    "RESUMO: Aplica a eliminacao gaussiana na matriz e salva os multiplicadores utilizados\n",
    "        para decompor uma matriz A em uma matriz triangular inferior L(Lower) e uma matriz\n",
    "        triangular superior U(Upper). A matriz L pode ser utilizada para aplicar a eliminacao\n",
    "        gaussiana em um vetor com complexidade O(n^2) em vez de O(n^3).\n",
    "ENTRADA: Matriz A\n",
    "SAIDA: Matriz L e matriz U\n",
    "\"\"\"\n",
    "function decomposicao_LU(A)\n",
    "    rows, cols = size(A)\n",
    "    U = copy(A)\n",
    "    # Inicia L como uma matriz identidade\n",
    "    L = Matrix(1.0I, rows, cols)\n",
    "    for j = 1:cols\n",
    "        non_zero_cols = j+1:cols\n",
    "        for i = j+1:rows\n",
    "            L[i, j] = U[i, j] / U[j, j]  # multiplicador que vai zerar a coluna\n",
    "            U[i, non_zero_cols] -= L[i, j] * U[j, non_zero_cols]  # subtracao das linhas de A\n",
    "            U[i, j] = 0  # zera cada elemento abaixo do pivô na coluna j\n",
    "        end\n",
    "    end\n",
    "    return L, U\n",
    "end"
   ]
  },
  {
   "cell_type": "markdown",
   "id": "e006ed44-378c-423d-bad3-8160bf5221b5",
   "metadata": {},
   "source": [
    "#### Exemplo 1 (n = 3)"
   ]
  },
  {
   "cell_type": "code",
   "execution_count": 90,
   "id": "8d55f88f-f150-4cca-ac8b-b49ae64c5fc2",
   "metadata": {},
   "outputs": [
    {
     "data": {
      "text/plain": [
       "3×3 Matrix{Float64}:\n",
       " 45.0   6.777  -1.59\n",
       "  3.0   9.0    -0.1\n",
       " 10.0  45.0     1.0"
      ]
     },
     "execution_count": 90,
     "metadata": {},
     "output_type": "execute_result"
    }
   ],
   "source": [
    "A = [45  6.777  -1.59;\n",
    "      3      9   -0.1;\n",
    "     10     45      1]"
   ]
  },
  {
   "cell_type": "code",
   "execution_count": 91,
   "id": "4c42be6e-1f18-48c8-8a7f-a1d870a52e0a",
   "metadata": {},
   "outputs": [
    {
     "data": {
      "text/plain": [
       "3-element Vector{Float64}:\n",
       "   9.0\n",
       "  18.0\n",
       " -75.1"
      ]
     },
     "execution_count": 91,
     "metadata": {},
     "output_type": "execute_result"
    }
   ],
   "source": [
    "b = [9.0, 18.0, -75.1]"
   ]
  },
  {
   "cell_type": "code",
   "execution_count": 92,
   "id": "3793d7e3-f31f-4ccf-949a-32854cc41412",
   "metadata": {},
   "outputs": [
    {
     "data": {
      "text/plain": [
       "3×3 Matrix{Float64}:\n",
       " 1.0        0.0      0.0\n",
       " 0.0666667  1.0      0.0\n",
       " 0.222222   5.08809  1.0"
      ]
     },
     "execution_count": 92,
     "metadata": {},
     "output_type": "execute_result"
    }
   ],
   "source": [
    "L, U = decomposicao_LU(A)\n",
    "L"
   ]
  },
  {
   "cell_type": "code",
   "execution_count": 93,
   "id": "4887701a-4eb8-465f-8f2e-3e4793dd676f",
   "metadata": {},
   "outputs": [
    {
     "data": {
      "text/plain": [
       "3×3 Matrix{Float64}:\n",
       " 45.0  6.777   -1.59\n",
       "  0.0  8.5482   0.006\n",
       "  0.0  0.0      1.3228"
      ]
     },
     "execution_count": 93,
     "metadata": {},
     "output_type": "execute_result"
    }
   ],
   "source": [
    "U"
   ]
  },
  {
   "cell_type": "code",
   "execution_count": 100,
   "id": "b7c1024c-ec2f-43e6-88b0-349fa605cf68",
   "metadata": {},
   "outputs": [
    {
     "data": {
      "text/plain": [
       "3×3 Matrix{Float64}:\n",
       " 0.0   0.0          0.0\n",
       " 0.0   0.0          0.0\n",
       " 0.0  -7.10543e-15  0.0"
      ]
     },
     "execution_count": 100,
     "metadata": {},
     "output_type": "execute_result"
    }
   ],
   "source": [
    "A - L * U"
   ]
  },
  {
   "cell_type": "markdown",
   "id": "f9ccea81-4c6f-4979-9217-c94c550ef0d7",
   "metadata": {},
   "source": [
    "#### Exemplo 2 (n = 5)"
   ]
  },
  {
   "cell_type": "code",
   "execution_count": 101,
   "id": "8bac432c-4729-4103-96b7-4f79da2d508d",
   "metadata": {},
   "outputs": [
    {
     "data": {
      "text/plain": [
       "5×5 Matrix{Float64}:\n",
       "  0.0           0.0           0.0           0.0           0.0\n",
       "  0.0           0.0           0.0           0.0           0.0\n",
       "  0.0          -1.11022e-16  -1.11022e-16   0.0           0.0\n",
       "  0.0           0.0           0.0          -2.77556e-17  -5.55112e-17\n",
       " -1.11022e-16   0.0          -5.55112e-17  -5.55112e-17  -5.77316e-15"
      ]
     },
     "execution_count": 101,
     "metadata": {},
     "output_type": "execute_result"
    }
   ],
   "source": [
    "n = 5\n",
    "A = rand(n,n)\n",
    "b = rand(n)\n",
    "L, U = decomposicao_LU(A)\n",
    "A - L*U"
   ]
  },
  {
   "cell_type": "markdown",
   "id": "1c0ac640-6c7e-4ea7-ba11-58303267af2f",
   "metadata": {},
   "source": [
    "#### Exemplo 3 (n = 20)"
   ]
  },
  {
   "cell_type": "code",
   "execution_count": 102,
   "id": "b83c9caf-dd79-4e92-83f7-e458c5d70a0f",
   "metadata": {},
   "outputs": [
    {
     "data": {
      "text/plain": [
       "20×20 Matrix{Float64}:\n",
       "  0.0           0.0           0.0          …   0.0           0.0\n",
       " -1.11022e-16   0.0           0.0             -2.22045e-16   0.0\n",
       "  0.0          -1.38778e-17   0.0             -2.77556e-17   1.38778e-17\n",
       "  0.0           0.0           0.0              2.22045e-16   0.0\n",
       "  0.0           0.0           0.0             -6.66134e-16   0.0\n",
       "  0.0           0.0           0.0          …   0.0           0.0\n",
       "  0.0           0.0          -1.11022e-16     -3.33067e-16  -1.11022e-16\n",
       "  0.0           2.77556e-17   0.0             -7.77156e-16   3.33067e-16\n",
       "  0.0           0.0           0.0              6.66134e-16  -1.04083e-16\n",
       "  0.0           0.0           0.0             -4.44089e-16   2.22045e-16\n",
       "  0.0           0.0           0.0          …  -1.11022e-16   0.0\n",
       "  0.0           0.0           1.11022e-16     -6.66134e-16  -5.55112e-16\n",
       "  0.0          -2.77556e-17   0.0              0.0          -8.32667e-17\n",
       "  0.0          -5.55112e-17   0.0              2.22045e-16   6.66134e-16\n",
       "  0.0           0.0           0.0             -6.66134e-16  -2.22045e-16\n",
       "  0.0           0.0           0.0          …   1.11022e-15  -4.44089e-16\n",
       "  0.0           0.0           0.0              4.44089e-16   1.11022e-16\n",
       "  1.11022e-16   5.55112e-17   0.0              0.0           0.0\n",
       "  0.0           0.0           0.0             -2.22045e-16  -6.66134e-16\n",
       "  0.0           0.0           0.0              5.55112e-17  -2.22045e-16"
      ]
     },
     "execution_count": 102,
     "metadata": {},
     "output_type": "execute_result"
    }
   ],
   "source": [
    "n = 20\n",
    "A = rand(n,n)\n",
    "b = rand(n)\n",
    "L, U = decomposicao_LU(A)\n",
    "A - L*U"
   ]
  },
  {
   "cell_type": "markdown",
   "id": "01df5d9a-ee54-47b7-80be-7100d284d1a8",
   "metadata": {},
   "source": [
    "### Resolve Pós-LU "
   ]
  },
  {
   "cell_type": "code",
   "execution_count": 104,
   "id": "17e7f2fd-5425-4f12-998d-8c1ec06ff84c",
   "metadata": {},
   "outputs": [
    {
     "data": {
      "text/plain": [
       "resolve_pos_LU"
      ]
     },
     "execution_count": 104,
     "metadata": {},
     "output_type": "execute_result"
    }
   ],
   "source": [
    "# resolve pos-LU\n",
    "\"\"\"\n",
    "RESUMO: Esta funcao deve ser utilizada depois que fizemos uma decomposicao LU.\n",
    "        Quando fazemos essa decomposicao LU em um sistema linear temos o seguinte:\n",
    "\n",
    "        Ax = b\n",
    "        LUx = b; y = Ux\n",
    "        Ly = b\n",
    "        y = L⁻¹b\n",
    "        Ux = L⁻¹b\n",
    "        x = U⁻¹L⁻¹b\n",
    "\n",
    "        Esta funcao primeiro vai resolver o sistema Ly = b para depois resolver \n",
    "        o sistema Ux = y.\n",
    "        A complexidade dessa funcao é apenas O(n²), contra O(n³) de uma eliminacao \n",
    "        gaussiana normal.\n",
    "\n",
    "ENTRADA: Matriz L, Matriz U, Vetor b\n",
    "\n",
    "SAIDA: Vetor x (solucao de LUx = b)\n",
    "\"\"\"\n",
    "function resolve_pos_LU(L, U, b)\n",
    "    y = resolve_triangular_inferior(L, b)\n",
    "    x = resolve_triangular_superior(U, y)\n",
    "    return x\n",
    "end"
   ]
  },
  {
   "cell_type": "markdown",
   "id": "3ade6bda-f036-41d7-b167-d92333df2e8b",
   "metadata": {},
   "source": [
    "#### Exemplo 1 (n = 3)"
   ]
  },
  {
   "cell_type": "code",
   "execution_count": 105,
   "id": "de787c3b-910f-419b-a9ba-61ce04251e3f",
   "metadata": {},
   "outputs": [
    {
     "data": {
      "text/plain": [
       "3×3 Matrix{Float64}:\n",
       "   1.0  0.0   0.0\n",
       "  23.0  1.0   0.0\n",
       " -91.0  1.11  1.0"
      ]
     },
     "execution_count": 105,
     "metadata": {},
     "output_type": "execute_result"
    }
   ],
   "source": [
    "L = [  1     0  0;\n",
    "      23     1  0;\n",
    "     -91  1.11  1]"
   ]
  },
  {
   "cell_type": "code",
   "execution_count": 106,
   "id": "7c8fd1ba-b51d-419b-bbb1-98e34ee73cf4",
   "metadata": {},
   "outputs": [
    {
     "data": {
      "text/plain": [
       "3×3 Matrix{Float64}:\n",
       " 6.0   70.0  -10.0\n",
       " 0.0  241.0   99.999\n",
       " 0.0    0.0   -1.0"
      ]
     },
     "execution_count": 106,
     "metadata": {},
     "output_type": "execute_result"
    }
   ],
   "source": [
    "U = [6  70     -10\n",
    "     0 241  99.999\n",
    "     0   0      -1]"
   ]
  },
  {
   "cell_type": "code",
   "execution_count": 107,
   "id": "684ceb82-f359-4e43-a8c9-a57f2717a9b2",
   "metadata": {},
   "outputs": [
    {
     "data": {
      "text/plain": [
       "3-element Vector{Float64}:\n",
       " 64.0\n",
       " 13.171\n",
       " -0.4"
      ]
     },
     "execution_count": 107,
     "metadata": {},
     "output_type": "execute_result"
    }
   ],
   "source": [
    "b = [64, 13.171, -0.4]"
   ]
  },
  {
   "cell_type": "code",
   "execution_count": 110,
   "id": "be2ea2ee-2d1d-4538-805d-b8cec3c08134",
   "metadata": {},
   "outputs": [
    {
     "data": {
      "text/plain": [
       "3-element Vector{Float64}:\n",
       " -48353.82279037807\n",
       "   3082.2562120324064\n",
       "  -7442.90019"
      ]
     },
     "execution_count": 110,
     "metadata": {},
     "output_type": "execute_result"
    }
   ],
   "source": [
    "x = resolve_pos_LU(L, U, b)"
   ]
  },
  {
   "cell_type": "code",
   "execution_count": 112,
   "id": "8bb6f13b-a835-4378-b963-f772890f6e71",
   "metadata": {},
   "outputs": [
    {
     "data": {
      "text/plain": [
       "3.326949296948146e-9"
      ]
     },
     "execution_count": 112,
     "metadata": {},
     "output_type": "execute_result"
    }
   ],
   "source": [
    "norm(L * U * x - b)"
   ]
  },
  {
   "cell_type": "markdown",
   "id": "f8878e33-26de-4fa6-b90b-52885a43b6cb",
   "metadata": {},
   "source": [
    "#### Exemplo 2 (n = 5)"
   ]
  },
  {
   "cell_type": "code",
   "execution_count": 115,
   "id": "f3ff1605-75f5-4039-afdd-19336a70c6d1",
   "metadata": {},
   "outputs": [
    {
     "data": {
      "text/plain": [
       "0.0"
      ]
     },
     "execution_count": 115,
     "metadata": {},
     "output_type": "execute_result"
    }
   ],
   "source": [
    "n = 5\n",
    "L = UnitLowerTriangular(rand(n,n))\n",
    "U = UpperTriangular(rand(n,n))\n",
    "b = rand(n)\n",
    "x = resolve_pos_LU(L, U, b)\n",
    "norm(L*U*x - b)"
   ]
  },
  {
   "cell_type": "markdown",
   "id": "e06f9d97-1a83-49d7-a4a0-ad4f3cca58aa",
   "metadata": {},
   "source": [
    "#### Exemplo 3 (n = 20)"
   ]
  },
  {
   "cell_type": "code",
   "execution_count": 119,
   "id": "f0d74eb0-74f9-448b-bb49-284ddf60d6eb",
   "metadata": {},
   "outputs": [
    {
     "data": {
      "text/plain": [
       "8.345230562421201e-12"
      ]
     },
     "execution_count": 119,
     "metadata": {},
     "output_type": "execute_result"
    }
   ],
   "source": [
    "n = 20\n",
    "L = UnitLowerTriangular(rand(n,n))\n",
    "U = UpperTriangular(rand(n,n))\n",
    "b = rand(n)\n",
    "x = resolve_pos_LU(L, U, b)\n",
    "norm(L*U*x - b)"
   ]
  },
  {
   "cell_type": "markdown",
   "id": "cde258f3-5389-49d6-831c-15a0b42379f8",
   "metadata": {},
   "source": [
    "### Acha inversa "
   ]
  },
  {
   "cell_type": "code",
   "execution_count": 208,
   "id": "b16a4387-262b-42bf-8bb1-ad186fc4a429",
   "metadata": {},
   "outputs": [
    {
     "data": {
      "text/plain": [
       "acha_inversa"
      ]
     },
     "execution_count": 208,
     "metadata": {},
     "output_type": "execute_result"
    }
   ],
   "source": [
    "# Acha inversa\n",
    "\"\"\"\n",
    "RESUMO: Vamos achar a inversa de uma matriz A utilizando a decomposicao LU.\n",
    "        Primeiro, vamos decompor A em L * U.\n",
    "        Depois, vamos usar os vetores canonicos da matriz identidade como\n",
    "        valores de b no sistema linear LUx = b.\n",
    "        Ou seja, vamos descobrir os vetores que fazem parte da matriz inversa de A\n",
    "        calculando um x para cada vetor na matriz identidade com as mesmas dimensoes que A.\n",
    "\n",
    "ENTRADA: Matriz A\n",
    "\n",
    "SAIDA: Matriz A⁻¹ (inversa de A)\n",
    "\"\"\"\n",
    "function acha_inversa(A)\n",
    "    rows, cols = size(A)  # Pega as dimensoes de A\n",
    "    L, U = decomposicao_LU(A)  # Faz a decomposicao LU\n",
    "    A⁻¹ = []\n",
    "    for i = 1:cols\n",
    "        id_vector = zeros(cols)\n",
    "        id_vector[i] = 1.0  # Monta cada coluna da identidade\n",
    "        x = resolve_pos_LU(L, U, id_vector)  # resolve um sistema para cada coluna da identidade\n",
    "        append!(A⁻¹, x)  # Adiciona os elemetos do vetor x numa array\n",
    "    end\n",
    "    A⁻¹ = reshape(A⁻¹, rows, cols)  # Formata a array como uma matriz quadrada\n",
    "    return A⁻¹\n",
    "end"
   ]
  },
  {
   "cell_type": "markdown",
   "id": "b5b720a5-9d17-4af9-9e92-6acc36d36cf3",
   "metadata": {},
   "source": [
    "#### Exemplo 1 (n = 3)"
   ]
  },
  {
   "cell_type": "code",
   "execution_count": 209,
   "id": "3fef0ac3-f0c5-464c-b704-d44120c90132",
   "metadata": {},
   "outputs": [
    {
     "data": {
      "text/plain": [
       "3×3 Matrix{Float64}:\n",
       "  2.0  49.0  -12.0\n",
       "  0.5  10.0    1.0\n",
       " -9.0   0.0   54.888"
      ]
     },
     "execution_count": 209,
     "metadata": {},
     "output_type": "execute_result"
    }
   ],
   "source": [
    "A = [  2  49     -12;\n",
    "     0.5  10       1;\n",
    "      -9   0  54.888]"
   ]
  },
  {
   "cell_type": "code",
   "execution_count": 210,
   "id": "deca14ce-1fae-4eee-ba54-960e71904692",
   "metadata": {},
   "outputs": [
    {
     "data": {
      "text/plain": [
       "3×3 Matrix{Any}:\n",
       " -0.310453    1.52122     -0.0955885\n",
       "  0.0206132  -0.00100453   0.0045249\n",
       " -0.0509051   0.249435     0.00254525"
      ]
     },
     "execution_count": 210,
     "metadata": {},
     "output_type": "execute_result"
    }
   ],
   "source": [
    "A⁻¹ = acha_inversa(A)"
   ]
  },
  {
   "cell_type": "code",
   "execution_count": 211,
   "id": "b866990a-2596-4588-8293-231384dd12d2",
   "metadata": {},
   "outputs": [
    {
     "data": {
      "text/plain": [
       "3×3 Matrix{Any}:\n",
       "  1.0          0.0          6.93889e-18\n",
       "  2.08167e-17  1.0          8.67362e-18\n",
       " -2.66454e-15  1.06581e-14  1.0"
      ]
     },
     "execution_count": 211,
     "metadata": {},
     "output_type": "execute_result"
    }
   ],
   "source": [
    "A * A⁻¹"
   ]
  },
  {
   "cell_type": "markdown",
   "id": "dbd10276-c3e7-4759-ae52-af934fa45c4a",
   "metadata": {},
   "source": [
    "#### Exemplo 2 (n = 5)"
   ]
  },
  {
   "cell_type": "code",
   "execution_count": 212,
   "id": "631e217c-20f0-4e3c-941f-f58f04ef81b8",
   "metadata": {},
   "outputs": [
    {
     "data": {
      "text/plain": [
       "true"
      ]
     },
     "execution_count": 212,
     "metadata": {},
     "output_type": "execute_result"
    }
   ],
   "source": [
    "n = 5\n",
    "A = rand(n,n)\n",
    "b = rand(n)\n",
    "A⁻¹ = acha_inversa(A)\n",
    "A * A⁻¹ ≈ I"
   ]
  },
  {
   "cell_type": "markdown",
   "id": "ba475d58-5f49-4936-952e-c934f531583c",
   "metadata": {},
   "source": [
    "#### Exemplo 3 (n = 20)"
   ]
  },
  {
   "cell_type": "code",
   "execution_count": 213,
   "id": "a00c3520-7156-47b9-a846-28356a9f4f4f",
   "metadata": {},
   "outputs": [
    {
     "data": {
      "text/plain": [
       "true"
      ]
     },
     "execution_count": 213,
     "metadata": {},
     "output_type": "execute_result"
    }
   ],
   "source": [
    "n = 20\n",
    "A = rand(n,n)\n",
    "b = rand(n)\n",
    "A⁻¹ = acha_inversa(A)\n",
    "A * A⁻¹ ≈ I"
   ]
  }
 ],
 "metadata": {
  "kernelspec": {
   "display_name": "Julia 1.6.0",
   "language": "julia",
   "name": "julia-1.6"
  },
  "language_info": {
   "file_extension": ".jl",
   "mimetype": "application/julia",
   "name": "julia",
   "version": "1.6.1"
  }
 },
 "nbformat": 4,
 "nbformat_minor": 5
}
