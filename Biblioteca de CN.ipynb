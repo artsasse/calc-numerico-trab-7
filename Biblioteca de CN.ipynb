{
 "cells": [
  {
   "cell_type": "code",
   "execution_count": 145,
   "metadata": {},
   "outputs": [],
   "source": [
    "using LinearAlgebra"
   ]
  },
  {
   "cell_type": "markdown",
   "metadata": {},
   "source": [
    "### [FALTA] Função de Taylor"
   ]
  },
  {
   "cell_type": "code",
   "execution_count": 103,
   "metadata": {},
   "outputs": [
    {
     "data": {
      "text/plain": [
       "Taylor (generic function with 1 method)"
      ]
     },
     "execution_count": 103,
     "metadata": {},
     "output_type": "execute_result"
    }
   ],
   "source": [
    "function Taylor(funcão, derivadas, referência, desejado)\n",
    "    grau=len(derivadas) #grau do Taylor vai ser implícito\n",
    "    return função(desejado)\n",
    "end"
   ]
  },
  {
   "cell_type": "markdown",
   "metadata": {},
   "source": [
    "#### Exemplos"
   ]
  },
  {
   "cell_type": "code",
   "execution_count": 106,
   "metadata": {},
   "outputs": [],
   "source": [
    "# Exemplo 1"
   ]
  },
  {
   "cell_type": "code",
   "execution_count": 104,
   "metadata": {},
   "outputs": [],
   "source": [
    "# Exemplo 2"
   ]
  },
  {
   "cell_type": "code",
   "execution_count": 105,
   "metadata": {},
   "outputs": [],
   "source": [
    "# Exemplo 3"
   ]
  },
  {
   "cell_type": "markdown",
   "metadata": {},
   "source": [
    "### Função Bisseção"
   ]
  },
  {
   "cell_type": "code",
   "execution_count": 6,
   "metadata": {},
   "outputs": [
    {
     "data": {
      "text/plain": [
       "bissecao (generic function with 1 method)"
      ]
     },
     "execution_count": 6,
     "metadata": {},
     "output_type": "execute_result"
    }
   ],
   "source": [
    "\"\"\"\n",
    "RESUMO: Este método pode ser usado para encontrar as raízes de uma função contínua, com base \n",
    "        no teorema do valor intermediário, tendo f(a) e f(b) com sinais opostos, tem de se ter uma raíz entre a e b\n",
    "        O método consiste em dividir o intervalo no seu ponto médio c=(a+b)/2, e então verificar em qual dos dois \n",
    "        subintervalos garante-se a existência de uma raiz. Para tanto, basta verificar se  f(a)*f(c)<0. \n",
    "        Caso afirmativo, existe pelo menos uma raiz no intervalo (a,c), caso contrário garante-se a \n",
    "        existência de uma raiz no intervalo [c,b). O procedimento é, então, repetido para o subintervalo \n",
    "        correspondente à raiz até que c se aproxime a raiz com a precisão desejada.\n",
    "ENTRADA: funcao, precisao, a, b\n",
    "SAÍDA: raiz\n",
    "\"\"\"\n",
    "\n",
    "function bissecao(funcao, precisao, a, b ;max_tempo = 10.0, max_iter = 100)\n",
    "    # Limitamos o tempo e o número de iterações, pois estamos usando while e não queremos cair em um loop infinito\n",
    "    fa = f(a) # Função aplicada em a\n",
    "    fb = f(b) # Função aplicada em b\n",
    "    ϵ  = precisao *max(abs(fa), abs(fb)) \n",
    "    #Em caso dos valores dos pontos na função serem próximos o suficiente de 0 para não executar o código\n",
    "    if abs(fa) ≤ ϵ \n",
    "        print(\"a é próximo de ϵ\")\n",
    "        return a\n",
    "    elseif abs(fb)≤ ϵ \n",
    "        print(\"b é próximo de ϵ\")\n",
    "        return b\n",
    "    elseif fa*fb ≥ 0\n",
    "        return \"ERRO: F(A) E F(B) TEM SINAIS IGUAIS\"\n",
    "    end\n",
    "    ϵba  = precisao * abs(b-a) # Calculando o tamanho do erro que é possível, com base na precisão\n",
    "    \n",
    "    c = (a+b)/2 # Calculando um x que é o meio entre a e b\n",
    "    fc = f(c) # Calculando a função no ponto c\n",
    "    # Inicializando as variáveis de tempo e iteração\n",
    "    iter =0 \n",
    "    t0 = time()\n",
    "    Δt = time() - t0\n",
    "    \n",
    "    # Será resolvido quando o módulo de b-a * precisão for menor do que b-a, ou seja a distância seja desse valor\n",
    "    # Ou se o módulo de f(c) seja suficientemente perto de 0, segundo a precisão\n",
    "    resolvido = (abs(fc) ≤ ϵ || abs(b-a) ≤ ϵba) \n",
    "    \n",
    "    cansado = (iter ≥ max_iter || Δt ≥ max_tempo)\n",
    "    # LOOP do método da bisseção\n",
    "    # Vamos fazendo calculando o intervalo entre a e b até encontrar algum f(c) ≈ 0, dentro da precisão \n",
    "    # ou o intervalo entre b-a menor que a precisão\n",
    "    while !(resolvido || cansado)\n",
    "        if fa *fc < 0\n",
    "            b = c\n",
    "            fb = fc\n",
    "        else\n",
    "            a = c\n",
    "            fa = fc\n",
    "        end\n",
    "        \n",
    "        c = (a+b)/2\n",
    "        fc = f(c)\n",
    "        iter +=1\n",
    "        Δt = time()-t0\n",
    "        \n",
    "        resolvido = (abs(fc) ≤ ϵ || abs(b-a) ≤ ϵba)\n",
    "        cansado = (iter ≥ max_iter || Δt ≥ max_tempo)\n",
    "    end\n",
    "    if resolvido\n",
    "        return c\n",
    "    elseif cansado\n",
    "        if iter ≥ max_iter\n",
    "            return \"ERRO: Chegamos ao número máximo de iterações\"\n",
    "        else\n",
    "            return \"ERRO: Chegamos ao máximo de tempo de execução\"\n",
    "        end\n",
    "    end\n",
    "end"
   ]
  },
  {
   "cell_type": "markdown",
   "metadata": {},
   "source": [
    "#### Exemplos"
   ]
  },
  {
   "cell_type": "code",
   "execution_count": 7,
   "metadata": {},
   "outputs": [
    {
     "data": {
      "text/plain": [
       "3.141592651605606"
      ]
     },
     "execution_count": 7,
     "metadata": {},
     "output_type": "execute_result"
    }
   ],
   "source": [
    "# Exemplo 1\n",
    "f(x) = sin(x)\n",
    "b = 1\n",
    "a = 5\n",
    "# Sabemos que sen(π) = 0\n",
    "precisao = 1e-8\n",
    "bissecao(f, precisao, a, b)"
   ]
  },
  {
   "cell_type": "code",
   "execution_count": 39,
   "metadata": {},
   "outputs": [
    {
     "data": {
      "text/plain": [
       "0.9999999999999964"
      ]
     },
     "execution_count": 39,
     "metadata": {},
     "output_type": "execute_result"
    }
   ],
   "source": [
    "# Exemplo 2\n",
    "f(x) = (x^3)-1\n",
    "# Sabemos que a raíz nesse ponto é 1, pois (1^3)-1 = 0\n",
    "b = -5\n",
    "a = 5\n",
    "precisao = 1e-16\n",
    "bissecao(f, precisao, a, b)"
   ]
  },
  {
   "cell_type": "code",
   "execution_count": 4,
   "metadata": {},
   "outputs": [
    {
     "data": {
      "text/plain": [
       "0.0"
      ]
     },
     "execution_count": 4,
     "metadata": {},
     "output_type": "execute_result"
    }
   ],
   "source": [
    "# Exemplo 3\n",
    "f(x) = (ℯ^x)-1\n",
    "b = -10\n",
    "a = 10\n",
    "precisao = 1e-10\n",
    "# Sabemos que e^0-1 = 0\n",
    "bissecao(f, precisao, a, b)"
   ]
  },
  {
   "cell_type": "markdown",
   "metadata": {},
   "source": [
    "### Função Ponto Fixo"
   ]
  },
  {
   "cell_type": "code",
   "execution_count": 46,
   "metadata": {},
   "outputs": [
    {
     "data": {
      "text/plain": [
       "ponto_fixo (generic function with 1 method)"
      ]
     },
     "execution_count": 46,
     "metadata": {},
     "output_type": "execute_result"
    }
   ],
   "source": [
    "\"\"\"\n",
    "RESUMO: É uma função que encontra raíz e consiste em encontrar uma função g : [a, b] → R tal que g(x) = x e com isso, construir uma sequência \n",
    "        xn de pontos da forma xn = g(xn−1), para um dada ponto inicial. Seja f : [a, b] → R contínua com f(a) ≤ a \n",
    "        e f(b) ≥ b. Existe ao menos um ponto c ∈ [a, b] tal que f(c) = c.\n",
    "ENTRADA: funcao, precisao, chute_inicial\n",
    "SAÍDA: raiz\n",
    "\"\"\"\n",
    "\n",
    "function ponto_fixo(g, precisao, x;\n",
    "                  max_time = 10.0, max_iter = 1000,\n",
    "                  )\n",
    "    \n",
    "    gx = g(x)\n",
    "    \n",
    "    # tolerância do valor da funcao\n",
    "    ϵ = precisao * abs(gx)\n",
    "    \n",
    "    # define variaveis de tempo e qtd de iteraçoes\n",
    "    iter = 0\n",
    "    t0 = time()\n",
    "    Δt = time() - t0\n",
    "    \n",
    "    # caso o algoritmo nao termine de nenhuma maneira esperada\n",
    "    exitflag = :desconhecido\n",
    "    \n",
    "    # condicao para o algoritmo ter resolvido o problema\n",
    "    resolvido = (abs(gx - x) ≤ ϵ)\n",
    "    \n",
    "    # condicao para o algoritmo pedir arrego\n",
    "    cansado = (iter ≥ max_iter || Δt ≥ max_time)\n",
    "    \n",
    "    while !(resolvido || cansado)\n",
    "        # calcula os novos valores de x e g(x)\n",
    "        x = g(x) \n",
    "        gx = g(x)\n",
    "        \n",
    "        # calcula condicoes para o while\n",
    "        iter = iter + 1\n",
    "        Δt = time() - t0\n",
    "        resolvido = (abs(gx - x) ≤ ϵ)\n",
    "        cansado = (iter ≥ max_iter || Δt ≥ max_time)\n",
    "    end\n",
    "    \n",
    "    \n",
    "    if resolvido\n",
    "        return x\n",
    "    elseif cansado\n",
    "        if iter ≥ max_iter\n",
    "            return \"ERRO: Chegamos ao número máximo de iterações\"\n",
    "        else\n",
    "            return \"ERRO: Chegamos ao máximo de tempo de execução\"\n",
    "        end\n",
    "    end\n",
    "    \n",
    "    return x\n",
    "end"
   ]
  },
  {
   "cell_type": "markdown",
   "metadata": {},
   "source": [
    "#### Exemplos:"
   ]
  },
  {
   "cell_type": "code",
   "execution_count": 47,
   "metadata": {},
   "outputs": [
    {
     "data": {
      "text/plain": [
       "3.1652829335191502e-9"
      ]
     },
     "execution_count": 47,
     "metadata": {},
     "output_type": "execute_result"
    }
   ],
   "source": [
    "# Exemplo 1\n",
    "fg(x) =  sin(x)/π\n",
    "x = 2\n",
    "ponto_fixo(fg, 1e-8, x)"
   ]
  },
  {
   "cell_type": "code",
   "execution_count": 48,
   "metadata": {},
   "outputs": [
    {
     "data": {
      "text/plain": [
       "0"
      ]
     },
     "execution_count": 48,
     "metadata": {},
     "output_type": "execute_result"
    }
   ],
   "source": [
    "# Exemplo 2\n",
    "fg(x) =  x^3+x^2\n",
    "x = 2\n",
    "ponto_fixo(fg, 1e-8, x)"
   ]
  },
  {
   "cell_type": "code",
   "execution_count": 49,
   "metadata": {},
   "outputs": [
    {
     "data": {
      "text/plain": [
       "0"
      ]
     },
     "execution_count": 49,
     "metadata": {},
     "output_type": "execute_result"
    }
   ],
   "source": [
    "# Exemplo 3\n",
    "fg(x) = 3x^5-7x^3\n",
    "x = 10\n",
    "ponto_fixo(fg, 1e-9, x)"
   ]
  },
  {
   "cell_type": "markdown",
   "metadata": {},
   "source": [
    "### Função Newton"
   ]
  },
  {
   "cell_type": "code",
   "execution_count": 50,
   "metadata": {},
   "outputs": [
    {
     "data": {
      "text/plain": [
       "newton (generic function with 1 method)"
      ]
     },
     "execution_count": 50,
     "metadata": {},
     "output_type": "execute_result"
    }
   ],
   "source": [
    "\"\"\"\n",
    "RESUMO: Tem-se o objetivo de encontrar uma raíz para a função para isso, escolhe-se uma aproximação inicial \n",
    "        para esta. Após isso, calcula-se a equação da reta tangente (por meio da derivada) da função nesse ponto \n",
    "        e a interseção dela com o eixo das abcissas, a fim de encontrar uma melhor aproximação para a raiz. \n",
    "        Repetindo-se o processo, cria-se um método iterativo para encontrarmos a raiz da função. \n",
    "ENTRADA: funcao,derivada, precisao, chute_inicial\n",
    "SAÍDA: raiz\n",
    "\"\"\"\n",
    "\n",
    "function newton(funcao,derivada, precisao, chute_inicial;\n",
    "        max_tempo = 10.0, max_iter = 1000)\n",
    "    x= chute_inicial\n",
    "    fx = funcao(x) \n",
    "    ϵ  = precisao *abs(fx) #Calculando a ϵ com base na precisão dada\n",
    "    #Inicialização de variáveis\n",
    "    iter =0\n",
    "    t0 = time()\n",
    "    Δt = time() - t0\n",
    "    \n",
    "    resolvido = (abs(fx) ≤ ϵ) # Quando tivermos um valor de fx próximo o suficiente de 0, com base no ϵ\n",
    "    cansado = (iter ≥ max_iter || Δt ≥ max_tempo) \n",
    "    # Aqui é onde temos o cálculo \n",
    "    while !(resolvido || cansado)\n",
    "        fdx = derivada(x) # Calculando a derivada \n",
    "        if abs(fdx) ≤ ϵ\n",
    "            return \"ERRO: DERIVADA NULA\"\n",
    "        end\n",
    "          \n",
    "        x = x-fx/fdx # Calculando a equação do método de newton\n",
    "        fx = f(x)\n",
    "        iter +=1\n",
    "        Δt = time()-t0\n",
    "        \n",
    "        resolvido = (abs(fx) ≤ ϵ)\n",
    "        cansado = (iter ≥ max_iter || Δt ≥ max_tempo)\n",
    "    end\n",
    "    if resolvido\n",
    "        return x\n",
    "    elseif cansado\n",
    "        if iter ≥ max_iter\n",
    "            return \"ERRO: Chegamos ao número máximo de iterações\"\n",
    "        else\n",
    "            return \"ERRO: Chegamos ao máximo de tempo de execução\"\n",
    "        end\n",
    "    end\n",
    "end"
   ]
  },
  {
   "cell_type": "markdown",
   "metadata": {},
   "source": [
    "#### Exemplos"
   ]
  },
  {
   "cell_type": "code",
   "execution_count": 51,
   "metadata": {},
   "outputs": [
    {
     "data": {
      "text/plain": [
       "-1.0002056482183954"
      ]
     },
     "execution_count": 51,
     "metadata": {},
     "output_type": "execute_result"
    }
   ],
   "source": [
    "# Exemplo 1\n",
    "f(x) = x^5+x^2\n",
    "fd(x) = 5x^4+2x\n",
    "x = -15\n",
    "newton(f,fd, 1e-8, x)"
   ]
  },
  {
   "cell_type": "code",
   "execution_count": 52,
   "metadata": {},
   "outputs": [
    {
     "data": {
      "text/plain": [
       "3.1415926536808043"
      ]
     },
     "execution_count": 52,
     "metadata": {},
     "output_type": "execute_result"
    }
   ],
   "source": [
    "# Exemplo 2\n",
    "f(x) = sin(x)\n",
    "fd(x) = cos(x)\n",
    "x = 2\n",
    "newton(f,fd, 1e-8, x)"
   ]
  },
  {
   "cell_type": "code",
   "execution_count": 53,
   "metadata": {},
   "outputs": [
    {
     "data": {
      "text/plain": [
       "1.4549501501230384"
      ]
     },
     "execution_count": 53,
     "metadata": {},
     "output_type": "execute_result"
    }
   ],
   "source": [
    "# Exemplo 3\n",
    "f(x) = 3x^5-7x^3+2\n",
    "fd(x) = 15x^4-21x^2\n",
    "x = 0.2\n",
    "newton(f,fd, 1e-8, x)"
   ]
  },
  {
   "cell_type": "markdown",
   "metadata": {},
   "source": [
    "### Resolver PVI - Método de Euler"
   ]
  },
  {
   "cell_type": "code",
   "execution_count": 54,
   "metadata": {},
   "outputs": [
    {
     "data": {
      "text/plain": [
       "resolver_PVI (generic function with 1 method)"
      ]
     },
     "execution_count": 54,
     "metadata": {},
     "output_type": "execute_result"
    }
   ],
   "source": [
    "\"\"\"\n",
    "RESUMO: O método de Euler consiste em resolver uma equação diferencial ordinária. Á ideia é encontrar uma solução \n",
    "        numérica para a equação diferencial no intervalo entre x_inicial e x_f .\n",
    "        Primeiro, o intervalo é discretizado em n + 1 pontos:\n",
    "            x_0 , x_1 , x_2 , x_3 …, x_n\n",
    "        Que são obtidos assim:\n",
    "            x_i = x + ih\n",
    "        Onde h é a largura ou o tom dos subintervalos:\n",
    "            (x_final-x_inicial)/numero_iterações\n",
    "        Com a condição inicial, também é possível conhecer a derivada no início:\n",
    "            y ‘(x_0) = f (x_0, y_0)\n",
    "        Essa derivada representa a inclinação da reta tangente à curva da função y (x) exatamente no ponto:\n",
    "            Ao = (x o , y o )\n",
    "        Em seguida, uma previsão aproximada do valor da função y (x) é feita no seguinte ponto:\n",
    "            y (x_1)≈ y_1\n",
    "            y_1 = y_0 + (x_1 – x_0) f (x_0, y_0) = y_0 + hf (x_0, y_0)\n",
    "        O próximo ponto aproximado da solução que corresponderia a:\n",
    "            A_1 = (x_1, y_1)\n",
    "        O procedimento é repetido para obter os pontos sucessivos\n",
    "            A_2 , A_3 …, x_n\n",
    "ENTRADA: derivada, x_inicial, y_inicial, x_final, n\n",
    "SAÍDA: x,y\n",
    "\"\"\"\n",
    "\n",
    "function resolver_PVI(derivada,x_inicial,y_inicial,x_final,n)\n",
    "    h =(x_final-x_inicial)/n\n",
    "    y = y_inicial\n",
    "    x = x_inicial\n",
    "    for i = 1:n\n",
    "        y = y + h * derivada(x, y)\n",
    "        x = x + h\n",
    "    end\n",
    "    return x, y\n",
    "end"
   ]
  },
  {
   "cell_type": "markdown",
   "metadata": {},
   "source": [
    "#### Exemplos:"
   ]
  },
  {
   "cell_type": "code",
   "execution_count": 55,
   "metadata": {},
   "outputs": [
    {
     "data": {
      "text/plain": [
       "(3.000000000000001, 2.155172413793104)"
      ]
     },
     "execution_count": 55,
     "metadata": {},
     "output_type": "execute_result"
    }
   ],
   "source": [
    "# Exemplo 1\n",
    "derivada(x,y) = (x - y)/x\n",
    "x_inicial = 2\n",
    "y_inicial = 2\n",
    "x_final = 3\n",
    "n = 10\n",
    "resolver_PVI(derivada,x_inicial,y_inicial,x_final,n)"
   ]
  },
  {
   "cell_type": "code",
   "execution_count": 56,
   "metadata": {},
   "outputs": [
    {
     "data": {
      "text/plain": [
       "(3.000000000000001, 3.408620689655173)"
      ]
     },
     "execution_count": 56,
     "metadata": {},
     "output_type": "execute_result"
    }
   ],
   "source": [
    "# Exemplo 2\n",
    "derivada(x,y) = (x^2 - y)/x\n",
    "x_inicial = 2\n",
    "y_inicial = 2\n",
    "x_final = 3\n",
    "n = 10\n",
    "resolver_PVI(derivada,x_inicial,y_inicial,x_final,n)"
   ]
  },
  {
   "cell_type": "code",
   "execution_count": 57,
   "metadata": {},
   "outputs": [
    {
     "data": {
      "text/plain": [
       "(3.000000000000001, 0.4018171518643542)"
      ]
     },
     "execution_count": 57,
     "metadata": {},
     "output_type": "execute_result"
    }
   ],
   "source": [
    "# Exemplo 3\n",
    "derivada(x,y) = cos(x)-sin(y)\n",
    "x_inicial = 2\n",
    "y_inicial = 2\n",
    "x_final = 3\n",
    "n = 10\n",
    "resolver_PVI(derivada,x_inicial,y_inicial,x_final,n)"
   ]
  },
  {
   "cell_type": "markdown",
   "metadata": {},
   "source": [
    "### Resolver PVC"
   ]
  },
  {
   "cell_type": "code",
   "execution_count": 96,
   "metadata": {},
   "outputs": [
    {
     "data": {
      "text/plain": [
       "resolver_PVC (generic function with 1 method)"
      ]
     },
     "execution_count": 96,
     "metadata": {},
     "output_type": "execute_result"
    }
   ],
   "source": [
    "function resolver_PVC(segunda_derivada, x_inicial, y_inicial, x_final, y_final, n)  # Não dá para ser feita genericamente\n",
    "     A,b = # Usuário monta um sistema linear usando diferenças finitas(segunda_derivada(x,y), x_inicial, y_inicial, x_final, y_final,n)\n",
    "     y = resolver_um_sistema(A,b)\n",
    "return y\n",
    "end"
   ]
  },
  {
   "cell_type": "markdown",
   "metadata": {},
   "source": [
    "### Resolve Triangular Superior"
   ]
  },
  {
   "cell_type": "code",
   "execution_count": 107,
   "metadata": {
    "scrolled": true
   },
   "outputs": [
    {
     "data": {
      "text/plain": [
       "resolve_triangular_superior (generic function with 1 method)"
      ]
     },
     "execution_count": 107,
     "metadata": {},
     "output_type": "execute_result"
    }
   ],
   "source": [
    "\"\"\"\"\n",
    "RESUMO: Resolve um sistema linear Ax=b que tenha uma matriz triangular superior.\n",
    "        Ou seja, todos os elementos abaixo da diagonal estao zerados.\n",
    "ENTRADA: Matriz A, vetor b\n",
    "SAIDA: vetor x, solucao do sistema\n",
    "\"\"\"\n",
    "\n",
    "function resolve_triangular_superior(A, b)\n",
    "    rows, cols = size(A)\n",
    "    \n",
    "    # verifica se a matriz é quadrada\n",
    "    if rows != cols\n",
    "        error(\"A matriz deve ser quadrada!\")\n",
    "    end\n",
    "    \n",
    "    # Inicializa o vetor solucao\n",
    "    x = zeros(rows)\n",
    "    \n",
    "    # Calcula cada elemento do vetor x\n",
    "    # Substituindo em cada linha, de baixo para cima\n",
    "    for i = rows:-1:1\n",
    "        x[i] = b[i]  # pegamos o bᵢ\n",
    "        for j = i+1:cols\n",
    "            x[i] -= A[i, j] * x[j]  # Subtraimos de bᵢ todos os x's que ja \n",
    "                                    # foram calculados (multiplicados pelos coeficientes)\n",
    "        end\n",
    "        x[i] = x[i] / A[i, i]  # Dividimos o resultado pelo coeficiente de xᵢ\n",
    "    end\n",
    "    \n",
    "    return x\n",
    "end"
   ]
  },
  {
   "cell_type": "markdown",
   "metadata": {},
   "source": [
    "### Eliminação Gaussiana"
   ]
  },
  {
   "cell_type": "code",
   "execution_count": 65,
   "metadata": {},
   "outputs": [
    {
     "data": {
      "text/plain": [
       "eliminacao_gaussiana (generic function with 1 method)"
      ]
     },
     "execution_count": 65,
     "metadata": {},
     "output_type": "execute_result"
    }
   ],
   "source": [
    "\"\"\"\n",
    "RESUMO: Funçao que executa a eliminacao gaussiana em uma matriz A e um vetor b.\n",
    "ENTRADA: Matriz A, vetor b\n",
    "SAIDA: Nada\n",
    "OBS: Modifica as entradas!\n",
    "\"\"\"\n",
    "\n",
    "function eliminacao_gaussiana(A, b)\n",
    "    rows, cols = size(A)\n",
    "    for j = 1:cols\n",
    "        non_zero_cols = j+1:cols\n",
    "        for i = j+1:rows\n",
    "            mᵢⱼ = A[i, j] / A[j, j]  # multiplicador que vai zerar a coluna\n",
    "            A[i, non_zero_cols] -= mᵢⱼ * A[j, non_zero_cols]  # subtracao das linhas de A\n",
    "            A[i, j] = 0  # zera cada elemento abaixo do pivô na coluna j\n",
    "            b[i] -= mᵢⱼ * b[j]  # subtracao das linhas de b\n",
    "        end\n",
    "    end\n",
    "end"
   ]
  },
  {
   "cell_type": "markdown",
   "metadata": {},
   "source": [
    "### Resolve Cheia"
   ]
  },
  {
   "cell_type": "code",
   "execution_count": 67,
   "metadata": {},
   "outputs": [
    {
     "data": {
      "text/plain": [
       "resolve_cheia (generic function with 1 method)"
      ]
     },
     "execution_count": 67,
     "metadata": {},
     "output_type": "execute_result"
    }
   ],
   "source": [
    "\"\"\"\n",
    "RESUMO: Resolve um sistema linear com uma matriz quadrada \"cheia\".\n",
    "        Ou seja, que nao é triangular nem diagonal.\n",
    "ENTRADA: Matriz A, vetor b\n",
    "SAIDA: Vetor x, solucao do sistema.\n",
    "OBS: Modifica as entradas!\n",
    "\"\"\"\n",
    "\n",
    "function resolve_cheia(A, b)\n",
    "    eliminacao_gaussiana(A,b)\n",
    "    x = resolve_triangular_superior(A,b)\n",
    "    return x\n",
    "end"
   ]
  },
  {
   "cell_type": "markdown",
   "metadata": {},
   "source": [
    "### Resolve Cheia"
   ]
  },
  {
   "cell_type": "code",
   "execution_count": 68,
   "metadata": {},
   "outputs": [
    {
     "data": {
      "text/plain": [
       "resolver_um_sistema"
      ]
     },
     "execution_count": 68,
     "metadata": {},
     "output_type": "execute_result"
    }
   ],
   "source": [
    "\"\"\"\n",
    "RESUMO: Resolve um sistema linear com uma matriz quadrada \"cheia\".\n",
    "        Ou seja, que nao é triangular nem diagonal.\n",
    "ENTRADA: Matriz A, vetor b\n",
    "SAIDA: Vetor x, solucao do sistema.\n",
    "\"\"\"\n",
    "function resolver_um_sistema(A,b) #Ainda vamos fazer\n",
    "    A_editada = A\n",
    "    b_editada = b\n",
    "    eliminacao_gaussiana(A_editada,b_editada)\n",
    "    x = resolve_triangular_superior(A_editada,b_editada)\n",
    "    return x\n",
    "end"
   ]
  },
  {
   "cell_type": "markdown",
   "metadata": {},
   "source": [
    "### Interpolação Coeficientes"
   ]
  },
  {
   "cell_type": "code",
   "execution_count": 71,
   "metadata": {},
   "outputs": [
    {
     "data": {
      "text/plain": [
       "interpolação_coeficientes"
      ]
     },
     "execution_count": 71,
     "metadata": {},
     "output_type": "execute_result"
    }
   ],
   "source": [
    "\"\"\"\n",
    "RESUMO: É um método no qual instanciamos um novo conjunto de dados utilizando interpolação polinomial em \n",
    "        vista de construir novos pontos de dados no alcance de pontos já conhecidos.\n",
    "ENTRADA: pontos_x, pontos_y, grau\n",
    "SAIDA: coeficientes\n",
    "\"\"\"\n",
    "function interpolação_coeficientes(pontos_x,pontos_y, grau)\n",
    "    V=matrix_de_vandermonde(pontos_x,grau)\n",
    "    coeficientes=resolver_um_sistema(V,pontos_y)\n",
    "    return coeficientes\n",
    "end"
   ]
  },
  {
   "cell_type": "markdown",
   "metadata": {},
   "source": [
    "#### Exemplos"
   ]
  },
  {
   "cell_type": "code",
   "execution_count": 75,
   "metadata": {},
   "outputs": [
    {
     "name": "stdout",
     "output_type": "stream",
     "text": [
      "c₀ = 7.081203007518797, c₁ = -0.003828070175438596, c₂ = 7.468671679197994e-7"
     ]
    }
   ],
   "source": [
    "#Exemplo 1\n",
    "x = [1000.0, 300.0, 6000.0]\n",
    "y = [4.0,6.0, 11.0]\n",
    "cs= interpolação_coeficientes(x,y,3)\n",
    "print(\"c₀ = $(cs[1]), c₁ = $(cs[2]), c₂ = $(cs[3])\")"
   ]
  },
  {
   "cell_type": "code",
   "execution_count": 76,
   "metadata": {},
   "outputs": [
    {
     "name": "stdout",
     "output_type": "stream",
     "text": [
      "c₀ = -2062.775522864238, c₁ = 564.4589067652769, c₂ = -33.47130855613919, c₃ = 3.847534783018654e-5, c₄ = -0.009181851040238139, c₅ = 3.847534783018654e-5"
     ]
    }
   ],
   "source": [
    "#Exemplo 2\n",
    "x = [50.0, 75.0, 45.0, 60.0, 44.0, 5.0]\n",
    "y = [1.0, 7.0, 8.0, 10.0, 15.0, 20.0]\n",
    "cs= interpolação_coeficientes(x,y,length(x))\n",
    "print(\"c₀ = $(cs[1]), c₁ = $(cs[2]), c₂ = $(cs[3]), c₃ = $(cs[6]), c₄ = $(cs[5]), c₅ = $(cs[6])\")"
   ]
  },
  {
   "cell_type": "code",
   "execution_count": 77,
   "metadata": {},
   "outputs": [
    {
     "name": "stdout",
     "output_type": "stream",
     "text": [
      "c₀ = 0.20376301397971253, c₁ = 0.3582722966161423, c₂ = -0.0011963493946882445"
     ]
    }
   ],
   "source": [
    "#Exemplo 3\n",
    "x = [11.0, 250.0,145.0]\n",
    "y = [4.0,15.0, 27.0]\n",
    "cs= interpolação_coeficientes(x,y,3)\n",
    "print(\"c₀ = $(cs[1]), c₁ = $(cs[2]), c₂ = $(cs[3])\")"
   ]
  },
  {
   "cell_type": "markdown",
   "metadata": {},
   "source": [
    "### Função Matriz de Vandermonde\n",
    "É uma matriz que tem um formato:\n",
    "\n",
    "$M=\\left(\\begin{array}{llll} 1 & 1 & \\cdots & 1 \\\\ a_1 & a_2 & \\cdots & a_n \\\\ a_1^2 & a_2^2 & \\cdots & a_n^2 \\\\ \\vdots & \\vdots & \\ddots & \\vdots \\\\ a_1^{n-1} & a_2^{n-1} & \\cdots & a_n^{n-1} \\end{array}\\right)$"
   ]
  },
  {
   "cell_type": "code",
   "execution_count": 86,
   "metadata": {},
   "outputs": [
    {
     "data": {
      "text/plain": [
       "matrix_de_vandermonde (generic function with 1 method)"
      ]
     },
     "execution_count": 86,
     "metadata": {},
     "output_type": "execute_result"
    }
   ],
   "source": [
    "\"\"\"\n",
    "Entrada: a função recebe os pontos (x, y) e o grau da função.\n",
    "Saída: matriz de Vandermonde no formato citado acima.\n",
    "\"\"\"\n",
    "\n",
    "function matrix_de_vandermonde(pontos_x,grau)\n",
    "    # Aqui criamos a matriz zerada com as dimensões certas\n",
    "    matrix_de_vandermonde = zeros(length(x), grau)\n",
    "    \n",
    "    # O loop abaixo preenche a matriz de vandermonde\n",
    "    for linha = 1:length(x)\n",
    "        for coluna = 1:grau\n",
    "            matrix_de_vandermonde[linha, coluna] = x[linha]^(coluna - 1)\n",
    "        end\n",
    "    end\n",
    "    return matrix_de_vandermonde\n",
    "end"
   ]
  },
  {
   "cell_type": "markdown",
   "metadata": {},
   "source": [
    "### Interpolação Função"
   ]
  },
  {
   "cell_type": "code",
   "execution_count": 82,
   "metadata": {},
   "outputs": [
    {
     "data": {
      "text/plain": [
       "interpolação_função (generic function with 1 method)"
      ]
     },
     "execution_count": 82,
     "metadata": {},
     "output_type": "execute_result"
    }
   ],
   "source": [
    "function interpolação_função(pontos_x,pontos_y, grau, xp)\n",
    "    yp=lagrange(pontos_x,pontos_y,grau, xp)\n",
    "    return yp\n",
    "end"
   ]
  },
  {
   "cell_type": "markdown",
   "metadata": {},
   "source": [
    "### Função Lagrange"
   ]
  },
  {
   "cell_type": "code",
   "execution_count": 108,
   "metadata": {},
   "outputs": [
    {
     "data": {
      "text/plain": [
       "lagrange (generic function with 1 method)"
      ]
     },
     "execution_count": 108,
     "metadata": {},
     "output_type": "execute_result"
    }
   ],
   "source": [
    "function lagrange(pontos_x,pontos_y,n, xp)  #TODO\n",
    "    # resultado da interpolação\n",
    "    yp = 0\n",
    "    # Implementando lagrange\n",
    "    for i in 1:n\n",
    "        p = 1\n",
    "        for j in 1:n\n",
    "            if i != j\n",
    "                p = p * (xp - x[j])/(x[i] - x[j])\n",
    "                yp = yp + p * y[i]\n",
    "            end\n",
    "        end\n",
    "    end\n",
    "    return yp\n",
    "end"
   ]
  },
  {
   "cell_type": "markdown",
   "metadata": {},
   "source": [
    "#### Exemplos"
   ]
  },
  {
   "cell_type": "code",
   "execution_count": 84,
   "metadata": {},
   "outputs": [
    {
     "data": {
      "text/plain": [
       "40.77551020408164"
      ]
     },
     "execution_count": 84,
     "metadata": {},
     "output_type": "execute_result"
    }
   ],
   "source": [
    "#Exemplo 1\n",
    "x = [1.0, 8.0, 10.0, 15.0]\n",
    "y = [15.0, 25.0, 1.0, 12.0]\n",
    "interpolação_função(x,y, length(x), 10.0)"
   ]
  },
  {
   "cell_type": "code",
   "execution_count": 80,
   "metadata": {},
   "outputs": [],
   "source": [
    "#Exemplo 2"
   ]
  },
  {
   "cell_type": "code",
   "execution_count": 81,
   "metadata": {},
   "outputs": [],
   "source": [
    "#Exemplo 3"
   ]
  },
  {
   "cell_type": "markdown",
   "metadata": {},
   "source": [
    "### Função Aplica"
   ]
  },
  {
   "cell_type": "code",
   "execution_count": 5,
   "metadata": {},
   "outputs": [
    {
     "data": {
      "text/plain": [
       "aplica (generic function with 2 methods)"
      ]
     },
     "execution_count": 5,
     "metadata": {},
     "output_type": "execute_result"
    }
   ],
   "source": [
    "\"\"\"\n",
    "Objetivo da função: A função \"Aplica\" transforma uma lista de coeficientes em uma função. \n",
    "                    Ou seja, a partir de uma lista de coeficientes e um valor para x, a função \n",
    "                    retornar o valor em x para a função que conhecemos apenas os coeficientes.\n",
    "Entrada: coeficientes de uma função e um valor de x.\n",
    "Saída: valor da função desconhecida no ponto x.\n",
    "\"\"\"\n",
    "\n",
    "function aplica(coeficientes, valor_de_x, grau = length(coeficientes)-1)\n",
    "    len = grau + 1\n",
    "    accx = 1\n",
    "    acc = 0\n",
    "    for i = 1:len\n",
    "        acc += coeficientes[i] * accx\n",
    "        accx *= valor_de_x\n",
    "    end\n",
    "    return acc\n",
    "end"
   ]
  },
  {
   "cell_type": "markdown",
   "metadata": {},
   "source": [
    "#### Exemplos:"
   ]
  },
  {
   "cell_type": "code",
   "execution_count": 92,
   "metadata": {},
   "outputs": [
    {
     "name": "stdout",
     "output_type": "stream",
     "text": [
      "0\n",
      "0.0\n",
      "60\n"
     ]
    }
   ],
   "source": [
    "# Exemplo 1\n",
    "# Imagine que desconhecemos a função 2(x^2)+3(x)-5 = 0 ; cujas raízes são [1, -5/2]. Desconfio \n",
    "# que 1 seja raiz e quero verificar\n",
    "\n",
    "print(aplica([-5,3,2],1), \"\\n\")\n",
    "\n",
    "# Desconfio que -5/2 seja raiz e quero verificar\n",
    "print(aplica([-5,3,2],-5/2), \"\\n\")\n",
    "\n",
    "#Quero verificar o valor da função no ponto x = 5\n",
    "print(aplica([-5,3,2],5), \"\\n\")"
   ]
  },
  {
   "cell_type": "code",
   "execution_count": 93,
   "metadata": {},
   "outputs": [
    {
     "data": {
      "text/plain": [
       "426"
      ]
     },
     "execution_count": 93,
     "metadata": {},
     "output_type": "execute_result"
    }
   ],
   "source": [
    "# Exemplo 2\n",
    "# Quero calcular o valor da função (x^3)-574 = 0 ; no ponto x = 10\n",
    "\n",
    "aplica([-574,0,0,1],10)"
   ]
  },
  {
   "cell_type": "code",
   "execution_count": 94,
   "metadata": {},
   "outputs": [
    {
     "data": {
      "text/plain": [
       "2"
      ]
     },
     "execution_count": 94,
     "metadata": {},
     "output_type": "execute_result"
    }
   ],
   "source": [
    "# Exemplo 3\n",
    "# Imagine que quero descobrir uma raiz da função (x^3)+2x-12 = 0 \n",
    "# E sei que existe uma raiz entre x = -1000 e x = 1000\n",
    "\n",
    "raiz = -999\n",
    "for i = -1000:1000\n",
    "    y = aplica([-12,2,0,1],i)\n",
    "    if y == 0\n",
    "        raiz = i\n",
    "        break\n",
    "    end\n",
    "end\n",
    "return(raiz)"
   ]
  },
  {
   "cell_type": "markdown",
   "metadata": {},
   "source": [
    "### Função Regressão Coeficientes Lineares"
   ]
  },
  {
   "cell_type": "code",
   "execution_count": 138,
   "metadata": {},
   "outputs": [
    {
     "data": {
      "text/plain": [
       "regressao_coeficientes_lineares (generic function with 1 method)"
      ]
     },
     "execution_count": 138,
     "metadata": {},
     "output_type": "execute_result"
    }
   ],
   "source": [
    "\"\"\"\n",
    "Objetivo da função: Encontrar o valor dos coeficientes, de uma função aproximada à função \n",
    "                    desejada, que torna mínima a soma dos quadrados das diferenças entre a \n",
    "                    função desejada e sua aproximação.\n",
    "Entrada: pontos (x,y) e o grau da funçã desejada.\n",
    "Saída: coeficientes\n",
    "\"\"\"\n",
    "\n",
    "function regressao_coeficientes_lineares(pontos_x,pontos_y, grau)\n",
    "    V = matrix_de_vandermonde(pontos_x,grau)  # matrix alta (com muitas linhas e poucas colunas) \n",
    "    Vᵀ = transpose(V)  # VᵀVc = Vᵀy\n",
    "    coeficientes = Vᵀ * V \\ Vᵀ * y  # Coeficientes são calculados atráves de mínimos quadrados\n",
    "    return coeficientes\n",
    "end"
   ]
  },
  {
   "cell_type": "markdown",
   "metadata": {},
   "source": [
    "#### Exemplos:"
   ]
  },
  {
   "cell_type": "code",
   "execution_count": 139,
   "metadata": {},
   "outputs": [
    {
     "name": "stdout",
     "output_type": "stream",
     "text": [
      "c₀ = 7.081203007518854 \n",
      "     \n",
      "c₁ = -0.0038280701754386916 \n",
      "     \n",
      "c₂ = 7.468671679198137e-7"
     ]
    }
   ],
   "source": [
    "# Exemplo 1\n",
    "# Temos o mesmo exemplo que fizemos anteriormente utilizando interpolação de coeficientes\n",
    "x = [1000.0, 300.0, 6000.0]\n",
    "y = [4.0,6.0, 11.0]\n",
    "coef= regressao_coeficientes_lineares(x,y,3)\n",
    "print(\"c₀ = $(coef[1]) \n",
    "     \\nc₁ = $(coef[2]) \n",
    "     \\nc₂ = $(coef[3])\")"
   ]
  },
  {
   "cell_type": "code",
   "execution_count": 140,
   "metadata": {},
   "outputs": [
    {
     "name": "stdout",
     "output_type": "stream",
     "text": [
      "c₀ = -2062.77113627787\n",
      "     \n",
      "c₁ = 564.4577108950482\n",
      "     \n",
      "c₂ = -33.47123627642948\n",
      "     \n",
      "c₃ = 3.847525958436212e-5\n",
      "     \n",
      "c₄ = -0.009181830376718415\n",
      "     \n",
      "c₅ = 3.847525958436212e-5"
     ]
    }
   ],
   "source": [
    "# Exemplo 2\n",
    "# Temos o mesmo exemplo que fizemos anteriormente utilizando interpolação de coeficientes\n",
    "x = [50.0, 75.0, 45.0, 60.0, 44.0, 5.0]\n",
    "y = [1.0, 7.0, 8.0, 10.0, 15.0, 20.0]\n",
    "coef= regressao_coeficientes_lineares(x,y,length(x))\n",
    "print(\"c₀ = $(coef[1])\n",
    "     \\nc₁ = $(coef[2])\n",
    "     \\nc₂ = $(coef[3])\n",
    "     \\nc₃ = $(coef[6])\n",
    "     \\nc₄ = $(coef[5])\n",
    "     \\nc₅ = $(coef[6])\")"
   ]
  },
  {
   "cell_type": "code",
   "execution_count": 141,
   "metadata": {},
   "outputs": [
    {
     "name": "stdout",
     "output_type": "stream",
     "text": [
      "c₀ = 0.20376301397977503 \n",
      "     \n",
      "c₁ = 0.3582722966161403 \n",
      "     \n",
      "c₂ = -0.0011963493946882372"
     ]
    }
   ],
   "source": [
    "# Exemplo 3\n",
    "# Temos o mesmo exemplo que fizemos anteriormente utilizando interpolação de coeficientes\n",
    "x = [11.0, 250.0,145.0]\n",
    "y = [4.0,15.0, 27.0]\n",
    "coef = regressao_coeficientes_lineares(x,y,3)\n",
    "print(\"c₀ = $(coef[1]) \n",
    "     \\nc₁ = $(coef[2]) \n",
    "     \\nc₂ = $(coef[3])\")"
   ]
  },
  {
   "cell_type": "markdown",
   "metadata": {},
   "source": [
    "### Função Mínimos Quadrados"
   ]
  },
  {
   "cell_type": "code",
   "execution_count": 43,
   "metadata": {},
   "outputs": [
    {
     "data": {
      "text/plain": [
       "resolver_um_sistema_por_minimos_quadrados (generic function with 1 method)"
      ]
     },
     "execution_count": 43,
     "metadata": {},
     "output_type": "execute_result"
    }
   ],
   "source": [
    "\"\"\"\n",
    "Objetivo da função: Encontrar o valor dos coeficientes, de uma função aproximada à função \n",
    "                    desejada, que torna mínima a soma dos quadrados das diferenças entre a \n",
    "                    função desejada e sua aproximação.\n",
    "Entrada: pontos (x,y) e o grau do polinômio desejado.\n",
    "Saída: coeficientes da função de grau desejado que melhor aproximam a função cujos pontos \n",
    "       foram passados.\n",
    "\"\"\"\n",
    "\n",
    "function resolver_um_sistema_por_minimos_quadrados(x, y, grau)\n",
    "    n_coeficientes = grau + 1\n",
    "    V = zeros(length(x), n_coeficientes)  # Aqui criamos uma matriz zerada com as dimensões certas\n",
    "    \n",
    "    # No loop abaixo, preenchemos a matriz de vandermonde\n",
    "    for linha = 1:length(x)\n",
    "        for coluna = 1:n_coeficientes\n",
    "            V[linha, coluna] = x[linha]^(coluna - 1)\n",
    "        end\n",
    "    end\n",
    "    \n",
    "    Vᵀ = transpose(V)  # VᵀVc = Vᵀy\n",
    "    return Vᵀ * V \\ Vᵀ * y\n",
    "end"
   ]
  },
  {
   "cell_type": "markdown",
   "metadata": {},
   "source": [
    "#### Exemplos:"
   ]
  },
  {
   "cell_type": "code",
   "execution_count": 150,
   "metadata": {},
   "outputs": [
    {
     "name": "stdout",
     "output_type": "stream",
     "text": [
      "Melhor parábola que descreve a distribuição dos pontos citados: 0.01x^2 + 0.67x + 15.89\n"
     ]
    }
   ],
   "source": [
    "# Exemplo 1\n",
    "# Suponha que temos os seguintes pontos que descrevem a trajetória de um objeto com o passar do\n",
    "# tempo. Queremos descobrir qual reta melhor descreve a distribuição dos pontos:\n",
    "# (0,0), (5,10), (15,50), (25,63), (45, 73), (60,90), (156,468)\n",
    "\n",
    "x = [0, 5, 15, 25, 45, 60, 156]\n",
    "y = [0, 10, 50, 63, 73, 90, 468]\n",
    "grau = 2\n",
    "coeficientes = resolver_um_sistema_por_minimos_quadrados(x, y, grau)\n",
    "aproxC₀ = round(coeficientes[1], digits = 2)\n",
    "aproxC₁ = round(coeficientes[2], digits = 2)\n",
    "aproxC₂ = round(coeficientes[3], digits = 2)\n",
    "print(\"Melhor parábola que descreve a distribuição dos pontos citados: \",aproxC₂, \"x^2 + \", aproxC₁, \"x + \", aproxC₀, \"\\n\")"
   ]
  },
  {
   "cell_type": "code",
   "execution_count": 152,
   "metadata": {},
   "outputs": [
    {
     "name": "stdout",
     "output_type": "stream",
     "text": [
      "Aproximação para a temperatura do objeto no minuto 6: 5.27 ºC\n"
     ]
    }
   ],
   "source": [
    "# Exemplo 2\n",
    "# Vamos supor que um objeto foi imerso em gelo e sua temperatura foi medida algumas vezes em\n",
    "# intervalos de 2 em 2 min, conforme a \"tabela\" abaixo. Queremos saber uma boa aproximação para \n",
    "# a temperatura do objeto no minuto 6\n",
    "#       minutos ->  1 | 3 | 5 | 7 | 9\n",
    "#   temperatura -> 18 | 10| 7 | 5 | 4\n",
    "\n",
    "min = [1, 3, 5, 7, 9]\n",
    "temp = [18, 10, 7, 5, 4]\n",
    "grau = 2\n",
    "coeficientes = resolver_um_sistema_por_minimos_quadrados(min, temp, grau)\n",
    "aproximacao = round(coeficientes[3]*36 + coeficientes[2]*6 + coeficientes[1], digits = 2)\n",
    "print(\"Aproximação para a temperatura do objeto no minuto 6: $aproximacao ºC\\n\")"
   ]
  },
  {
   "cell_type": "code",
   "execution_count": 151,
   "metadata": {},
   "outputs": [
    {
     "name": "stdout",
     "output_type": "stream",
     "text": [
      "Melhor função de grau 1 que se adapta aos pontos citados: -1250.0x + 767.86\n"
     ]
    }
   ],
   "source": [
    "# Exemplo 3\n",
    "# Suponha que temos que encontrar a melhor função de grau 1 que se adapta aos pontos\n",
    "# (2, 500), (4, 1500), (8, 5000)\n",
    "x = [2, 4, 8]\n",
    "y = [500, 1500, 5000]\n",
    "grau = 1\n",
    "coeficientes = resolver_um_sistema_por_minimos_quadrados(x, y, grau)\n",
    "aproxC₀ = round(coeficientes[1], digits = 2)\n",
    "aproxC₁ = round(coeficientes[2], digits = 2)\n",
    "print(\"Melhor função de grau 1 que se adapta aos pontos citados: \", aproxC₀,\"x + \", aproxC₁, \"\\n\")"
   ]
  },
  {
   "cell_type": "markdown",
   "metadata": {},
   "source": [
    "### Função Integração"
   ]
  },
  {
   "cell_type": "code",
   "execution_count": 99,
   "metadata": {},
   "outputs": [
    {
     "data": {
      "text/plain": [
       "integracao (generic function with 1 method)"
      ]
     },
     "execution_count": 99,
     "metadata": {},
     "output_type": "execute_result"
    }
   ],
   "source": [
    "\"\"\"\n",
    "Objetivo da função: Encontrar o valor exato para a integral da função desejada.\n",
    "Entrada: primitiva da função desejada, ponto a (ponto inicial -> x0), ponto b (ponto \n",
    "         final -> xn).\n",
    "Saída: valor exato da integral de f entre os pontos [a,b].\n",
    "\"\"\"\n",
    "\n",
    "function integracao(F, a, b) \n",
    "    integralExata = F(b) - F(a)\n",
    "    return integralExata\n",
    "end"
   ]
  },
  {
   "cell_type": "markdown",
   "metadata": {},
   "source": [
    "#### Exemplos:"
   ]
  },
  {
   "cell_type": "code",
   "execution_count": 16,
   "metadata": {},
   "outputs": [
    {
     "name": "stdout",
     "output_type": "stream",
     "text": [
      "Integral exata = 3.141592653589793\n"
     ]
    }
   ],
   "source": [
    "# Exemplo 1\n",
    "# Imagine que queremos determinar a área limitada pelo círculo\n",
    "# (x^2) + (y^2) = 4 no primeiro quadrante\n",
    "\n",
    "f(x) = sqrt(4-x^2)\n",
    "F(x) = 2*asin(1/2*x)+sin(2asin(1/2*x)) # primitiva de f(x)\n",
    "a, b = 0.0, 2.0\n",
    "integral = integracao(F, a, b)\n",
    "print(\"Integral exata = \", integral, \"\\n\")"
   ]
  },
  {
   "cell_type": "code",
   "execution_count": 17,
   "metadata": {},
   "outputs": [
    {
     "name": "stdout",
     "output_type": "stream",
     "text": [
      "Integral exata = 1.718281828459045\n"
     ]
    }
   ],
   "source": [
    "# Exemplo 2\n",
    "# Imagine que queremos determinar a área exata limitada pela função\n",
    "# (e^x) entre os pontos x = 0 e x = 1\n",
    "\n",
    "f(x) = exp(x)\n",
    "F(x) = exp(x) # primitiva de f(x)\n",
    "a, b = 0.0, 1.0\n",
    "integral = integracao(F, a, b)\n",
    "print(\"Integral exata = \", integral, \"\\n\")"
   ]
  },
  {
   "cell_type": "code",
   "execution_count": 19,
   "metadata": {},
   "outputs": [
    {
     "name": "stdout",
     "output_type": "stream",
     "text": [
      "Integral exata = 198.75\n"
     ]
    }
   ],
   "source": [
    "# Exemplo 3\n",
    "# Imagine que queremos determinar a área exata limitada pela função\n",
    "# (x^3+5x-4) entre os pontos x = 0 e x = 5\n",
    "\n",
    "f(x) = (x^3)+5x-4\n",
    "F(x) = ((x^4)/4)+((5x^2)/2)-4x # primitiva de f(x)\n",
    "a, b = 0.0, 5.0\n",
    "integral = integracao(F, a, b)\n",
    "print(\"Integral exata = \", integral, \"\\n\")"
   ]
  },
  {
   "cell_type": "markdown",
   "metadata": {},
   "source": [
    "### Função Regra do Retângulo"
   ]
  },
  {
   "cell_type": "code",
   "execution_count": 177,
   "metadata": {},
   "outputs": [
    {
     "data": {
      "text/plain": [
       "regra_do_retangulo (generic function with 1 method)"
      ]
     },
     "execution_count": 177,
     "metadata": {},
     "output_type": "execute_result"
    }
   ],
   "source": [
    "\"\"\"\n",
    "Objetivo: Encontrar uma aproximação para a integral da função desejada através de \n",
    "          retas ligando os n pontos que temos da função (formando retângulos entre \n",
    "          as retas e o eixo x e aproximando a integral final com as áreas desses \n",
    "          retângulos).\n",
    "Entrada: função, ponto a (ponto inicial -> x0), ponto b (ponto final -> xn), n (número de \n",
    "         pontos que usaremos).\n",
    "Saída: aproximação para o valor da integral de f entre os pontos [a,b].\n",
    "\"\"\"\n",
    "\n",
    "function regra_do_retangulo(f, a, b, n; T=Float64)\n",
    "    h = (b - a) / n\n",
    "    S = zero(T)\n",
    "    for i = 0:n\n",
    "        x = a + i * h\n",
    "        S += f(x)\n",
    "    end\n",
    "    aproxIntegral = S*h   \n",
    "    return aproxIntegral\n",
    "end"
   ]
  },
  {
   "cell_type": "markdown",
   "metadata": {},
   "source": [
    "#### Exemplo 1:"
   ]
  },
  {
   "cell_type": "code",
   "execution_count": 178,
   "metadata": {},
   "outputs": [
    {
     "name": "stdout",
     "output_type": "stream",
     "text": [
      "Aproximação pela Regra do Retângulo = 3.3045\n"
     ]
    }
   ],
   "source": [
    "# Exemplo 1\n",
    "# Imagine que queremos determinar uma aproximação para a área limitada pelo círculo\n",
    "# (x^2) + (y^2) = 4 no primeiro quadrante, com 10 pontos\n",
    "\n",
    "f(x) = sqrt(4-x^2)\n",
    "a, b = 0.0, 2.0\n",
    "pontos = 10\n",
    "aproximacao = regra_do_retangulo(f, a, b, pontos)\n",
    "print(\"Aproximação pela Regra do Retângulo = \", round(aproximacao, digits=4), \"\\n\")\n",
    "\n",
    "# Valor real = 3.14159 (aproximadamente)"
   ]
  },
  {
   "cell_type": "code",
   "execution_count": 179,
   "metadata": {},
   "outputs": [
    {
     "name": "stdout",
     "output_type": "stream",
     "text": [
      "Aproximação pela Regra do Retângulo = 1.8116\n"
     ]
    }
   ],
   "source": [
    "# Exemplo 2\n",
    "# Imagine que queremos determinar uma aproximação para a área limitada pela função\n",
    "# (e^x) entre os pontos x = 0 e x = 1 ; usando 20 pontos\n",
    "\n",
    "f(x) = exp(x)\n",
    "a, b = 0.0, 1.0\n",
    "pontos = 20\n",
    "aproximacao = regra_do_retangulo(f, a, b, pontos)\n",
    "print(\"Aproximação pela Regra do Retângulo = \", round(aproximacao, digits=4), \"\\n\")\n",
    "\n",
    "# Valor real = 1.71828 (aproximadamente)"
   ]
  },
  {
   "cell_type": "code",
   "execution_count": 180,
   "metadata": {},
   "outputs": [
    {
     "name": "stdout",
     "output_type": "stream",
     "text": [
      "Aproximação pela Regra do Retângulo = 201.1236\n"
     ]
    }
   ],
   "source": [
    "#Exemplo 3\n",
    "# Imagine que queremos determinar uma aproximação para a área limitada pela função\n",
    "# (x^3+5x-4) entre os pontos x = 0 e x = 5 ; usando 150 pontos\n",
    "\n",
    "f(x) = (x^3)+5x-4\n",
    "a, b = 0.0, 5.0\n",
    "pontos = 150\n",
    "aproximacao = regra_do_retangulo(f, a, b, pontos)\n",
    "print(\"Aproximação pela Regra do Retângulo = \", round(aproximacao, digits=4), \"\\n\")\n",
    "\n",
    "# Valor real = 198.75"
   ]
  },
  {
   "cell_type": "markdown",
   "metadata": {},
   "source": [
    "### Função Regra do Trapézio"
   ]
  },
  {
   "cell_type": "code",
   "execution_count": 181,
   "metadata": {},
   "outputs": [
    {
     "data": {
      "text/plain": [
       "regra_do_trapezio (generic function with 1 method)"
      ]
     },
     "execution_count": 181,
     "metadata": {},
     "output_type": "execute_result"
    }
   ],
   "source": [
    "\"\"\" \n",
    "Objetivo da função: Encontrar uma aproximação para a integral da função desejada através de \n",
    "                    retas ligando os n pontos que temos da função (formando trapézios entre as\n",
    "                    retas e o eixo x e aproximando a integral final com as áreas desses \n",
    "                    trapézios).\n",
    "Entrada: função, ponto a (ponto inicial -> x0), ponto b (ponto final -> xn), n (número de \n",
    "         pontos que usaremos).\n",
    "Saída: aproximação para o valor da integral de f entre os pontos [a,b].\n",
    "\"\"\"\n",
    "\n",
    "function regra_do_trapezio(f, a, b, n; T=Float64)\n",
    "    h = (b - a) / n\n",
    "    S = zero(T)\n",
    "    for i = 1:n-1\n",
    "        x = a + i * h\n",
    "        S += f(x)\n",
    "    end\n",
    "    S = f(a) + 2S + f(b)\n",
    "    return h * S / 2\n",
    "end"
   ]
  },
  {
   "cell_type": "markdown",
   "metadata": {},
   "source": [
    "#### Exemplos:"
   ]
  },
  {
   "cell_type": "code",
   "execution_count": 182,
   "metadata": {},
   "outputs": [
    {
     "name": "stdout",
     "output_type": "stream",
     "text": [
      "Aproximação pela Regra do Trapézio = 3.1045\n"
     ]
    }
   ],
   "source": [
    "# Exemplo 1\n",
    "# Imagine que queremos determinar uma aproximação para a área limitada pelo círculo\n",
    "# (x^2) + (y^2) = 4 no primeiro quadrante, com 10 pontos\n",
    "\n",
    "f(x) = sqrt(4-x^2)\n",
    "a, b = 0.0, 2.0\n",
    "pontos = 10\n",
    "aproximacao = regra_do_trapezio(f, a, b, pontos)\n",
    "print(\"Aproximação pela Regra do Trapézio = \", round(aproximacao, digits=4), \"\\n\")\n",
    "\n",
    "# Valor real = 3.14159 (aproximadamente)\n",
    "# Aproximação que tínhamos usando a regra do retângulo com a mesma quantidade de pontos (10) = 3.3045"
   ]
  },
  {
   "cell_type": "code",
   "execution_count": 183,
   "metadata": {},
   "outputs": [
    {
     "name": "stdout",
     "output_type": "stream",
     "text": [
      "Aproximação pela Regra do Trapézio = 1.7186\n"
     ]
    }
   ],
   "source": [
    "# Exemplo 2\n",
    "# Imagine que queremos determinar uma aproximação para a área limitada pela função\n",
    "# (e^x) entre os pontos x = 0 e x = 1 ; usando 20 pontos\n",
    "\n",
    "f(x) = exp(x)\n",
    "a, b = 0.0, 1.0\n",
    "pontos = 20\n",
    "aproximacao = regra_do_trapezio(f, a, b, pontos)\n",
    "print(\"Aproximação pela Regra do Trapézio = \", round(aproximacao, digits=4), \"\\n\")\n",
    "\n",
    "# Valor real = 1.71828 (aproximadamente)\n",
    "# Aproximação que tínhamos usando a regra do retângulo com a mesma quantidade de pontos (20) = 1.8116"
   ]
  },
  {
   "cell_type": "code",
   "execution_count": 184,
   "metadata": {},
   "outputs": [
    {
     "name": "stdout",
     "output_type": "stream",
     "text": [
      "Aproximação pela Regra do Trapézio = 198.7569\n"
     ]
    }
   ],
   "source": [
    "#Exemplo 3\n",
    "# Imagine que queremos determinar uma aproximação para a área limitada pela função\n",
    "# (x^3+5x-4) entre os pontos x = 0 e x = 5 ; usando 150 pontos\n",
    "\n",
    "f(x) = (x^3)+5x-4\n",
    "a, b = 0.0, 5.0\n",
    "pontos = 150\n",
    "aproximacao = regra_do_trapezio(f, a, b, pontos)\n",
    "print(\"Aproximação pela Regra do Trapézio = \", round(aproximacao, digits=4), \"\\n\")\n",
    "\n",
    "# Valor real = 198.75\n",
    "# Aproximação que tínhamos usando a regra do retângulo com a mesma quantidade de pontos (150) = 201.1236"
   ]
  },
  {
   "cell_type": "markdown",
   "metadata": {},
   "source": [
    "### Função Regra de Simpson"
   ]
  },
  {
   "cell_type": "code",
   "execution_count": 185,
   "metadata": {},
   "outputs": [
    {
     "data": {
      "text/plain": [
       "regra_de_simpson (generic function with 1 method)"
      ]
     },
     "execution_count": 185,
     "metadata": {},
     "output_type": "execute_result"
    }
   ],
   "source": [
    "\"\"\"\n",
    "Objetivo da função: Encontrar uma aproximação para a integral da função desejada através de \n",
    "                    polinômios de grau 2 ligando os n pontos que temos da função (aproximando \n",
    "                    a integral final com as áreas entre esses polinômios quadráticos e o eixo\n",
    "                    x).\n",
    "Entrada: função, ponto a (ponto inicial -> x0), ponto b (ponto final -> xn), n (número de \n",
    "         pontos que usaremos).\n",
    "Saída: aproximação para o valor da integral de f entre os pontos [a,b].\n",
    "\"\"\"\n",
    "\n",
    "function regra_de_simpson(f, a, b, n; T=Float64)\n",
    "    if n % 2 != 0\n",
    "        error(\"n deve ser par\")\n",
    "    end\n",
    "    h = (b - a) / n\n",
    "    S = zero(T)\n",
    "    for i = 1:2:n-1\n",
    "        x = a + i * h\n",
    "        S += 4 * f(x)\n",
    "    end\n",
    "    for i = 2:2:n-2\n",
    "        x = a + i * h\n",
    "        S += 2* f(x)\n",
    "    end\n",
    "    S += f(a) + f(b)\n",
    "    return S * h / 3\n",
    "end"
   ]
  },
  {
   "cell_type": "markdown",
   "metadata": {},
   "source": [
    "#### Exemplos:"
   ]
  },
  {
   "cell_type": "code",
   "execution_count": 186,
   "metadata": {},
   "outputs": [
    {
     "name": "stdout",
     "output_type": "stream",
     "text": [
      "Aproximação pela Regra de Simpson = 3.127\n"
     ]
    }
   ],
   "source": [
    "# Exemplo 1\n",
    "# Imagine que queremos determinar uma aproximação para a área limitada pelo círculo\n",
    "# (x^2) + (y^2) = 4 no primeiro quadrante, com 10 pontos\n",
    "\n",
    "f(x) = sqrt(4-x^2)\n",
    "a, b = 0.0, 2.0\n",
    "pontos = 10\n",
    "aproximacao = regra_de_simpson(f, a, b, pontos)\n",
    "print(\"Aproximação pela Regra de Simpson = \", round(aproximacao, digits=4), \"\\n\")\n",
    "\n",
    "# Valor real = 3.14159 (aproximadamente)\n",
    "# Aproximação que tínhamos usando a regra do retângulo com a mesma quantidade de pontos (10) = 3.3045\n",
    "# Aproximação que tínhamos usando a regra do trapézio com a mesma quantidade de pontos (10) = 3.1045"
   ]
  },
  {
   "cell_type": "code",
   "execution_count": 187,
   "metadata": {},
   "outputs": [
    {
     "name": "stdout",
     "output_type": "stream",
     "text": [
      "Aproximação pela Regra de Simpson = 1.7183\n"
     ]
    }
   ],
   "source": [
    "# Exemplo 2\n",
    "# Imagine que queremos determinar uma aproximação para a área limitada pela função\n",
    "# (e^x) entre os pontos x = 0 e x = 1 ; usando 10 pontos\n",
    "\n",
    "f(x) = exp(x)\n",
    "a, b = 0.0, 1.0\n",
    "pontos = 10\n",
    "aproximacao = regra_de_simpson(f, a, b, pontos)\n",
    "print(\"Aproximação pela Regra de Simpson = \", round(aproximacao, digits=4), \"\\n\")\n",
    "\n",
    "# Valor real = 1.71828 (aproximadamente)\n",
    "# Aproximação que tínhamos usando a regra do retângulo com o dobro de pontos (20) = 1.8116\n",
    "# Aproximação que tínhamos usando a regra do trapézio com o dobro de pontos (20) = 1.7186"
   ]
  },
  {
   "cell_type": "code",
   "execution_count": 188,
   "metadata": {},
   "outputs": [
    {
     "name": "stdout",
     "output_type": "stream",
     "text": [
      "Aproximação pela Regra de Simpson = 198.75\n"
     ]
    }
   ],
   "source": [
    "# Exemplo 3\n",
    "# Imagine que queremos determinar uma aproximação para a área limitada pela função\n",
    "# (x^3+5x-4) entre os pontos x = 0 e x = 5 ; usando 30 pontos\n",
    "\n",
    "f(x) = (x^3)+5x-4\n",
    "a, b = 0.0, 5.0\n",
    "pontos = 30\n",
    "aproximacao = regra_de_simpson(f, a, b, pontos)\n",
    "print(\"Aproximação pela Regra de Simpson = \", round(aproximacao, digits=4), \"\\n\")\n",
    "\n",
    "# Valor real = 198.75\n",
    "# Aproximação que tínhamos usando a regra do retângulo com muito mais pontos (150) = 201.1236\n",
    "# Aproximação que tínhamos usando a regra do trapézio com muito mais pontos (150) = 198.7569"
   ]
  },
  {
   "cell_type": "markdown",
   "metadata": {},
   "source": [
    "### Função Achar 1 Ponto Crítico de uma Função $F(x)$"
   ]
  },
  {
   "cell_type": "code",
   "execution_count": 72,
   "metadata": {},
   "outputs": [
    {
     "data": {
      "text/plain": [
       "achar_um_ponto_critico_de_uma_função"
      ]
     },
     "execution_count": 72,
     "metadata": {},
     "output_type": "execute_result"
    }
   ],
   "source": [
    "\"\"\"\n",
    "Objetivo:\n",
    "Entrada:\n",
    "Saída:\n",
    "\"\"\"\n",
    "function achar_um_ponto_critico_de_uma_função(derivada_funcao, precisao, a, b)\n",
    "    ponto_critico = bissecao(derivada_funcao(x), precisao, a, b)\n",
    "    return ponto_critico\n",
    "end"
   ]
  },
  {
   "cell_type": "markdown",
   "metadata": {},
   "source": [
    "#### Exemplos:"
   ]
  },
  {
   "cell_type": "code",
   "execution_count": 73,
   "metadata": {},
   "outputs": [
    {
     "data": {
      "text/plain": [
       "3.141592650860548"
      ]
     },
     "execution_count": 73,
     "metadata": {},
     "output_type": "execute_result"
    }
   ],
   "source": [
    "# Exemplo 1\n",
    "# Suponha que queremos saber um ponto crítico da função sen(x) no intervalo [0.1, 5]\n",
    "\n",
    "f(x) = sin(x)\n",
    "derivada_f(x) = cos(x)\n",
    "a = 0.1\n",
    "b = 5\n",
    "precisao = 1e-8\n",
    "achar_um_ponto_critico_de_uma_função(derivada_f, precisao, a, b)"
   ]
  },
  {
   "cell_type": "code",
   "execution_count": 74,
   "metadata": {},
   "outputs": [
    {
     "data": {
      "text/plain": [
       "0.0"
      ]
     },
     "execution_count": 74,
     "metadata": {},
     "output_type": "execute_result"
    }
   ],
   "source": [
    "# Exemplo 2\n",
    "# Suponha que queremos saber um ponto crítico da função (x^3)- 4x + 1 no intervalo [-3, 0]\n",
    "\n",
    "f(x) = (x^3) + 2x\n",
    "derivada_f(x) = (3x^2 + 2)\n",
    "a = -2\n",
    "b = 2\n",
    "precisao = 1e-16\n",
    "achar_um_ponto_crítico_de_uma_função(derivada_f, precisao, a, b)"
   ]
  },
  {
   "cell_type": "code",
   "execution_count": 82,
   "metadata": {},
   "outputs": [
    {
     "data": {
      "text/plain": [
       "4.440892098500626e-16"
      ]
     },
     "execution_count": 82,
     "metadata": {},
     "output_type": "execute_result"
    }
   ],
   "source": [
    "# Exemplo 3\n",
    "# Suponha que queremos saber um ponto crítico da função (e^x) - 1 no intervalo [0, 4]\n",
    "\n",
    "f(x) = (ℯ^x) - 1\n",
    "derivada_f(x) = (ℯ^x)\n",
    "a = -4\n",
    "b = 2\n",
    "precisao = 1e-16\n",
    "achar_um_ponto_crítico_de_uma_função(derivada_f, precisao, a, b)"
   ]
  },
  {
   "cell_type": "markdown",
   "metadata": {},
   "source": [
    "### [FALTA] Função Achar 1 Ponto Crítico de uma Função $F(x,y)$"
   ]
  },
  {
   "cell_type": "code",
   "execution_count": 86,
   "metadata": {},
   "outputs": [
    {
     "data": {
      "text/plain": [
       "achar_um_ponto_critico_de_uma_função_de_2_variávies"
      ]
     },
     "execution_count": 86,
     "metadata": {},
     "output_type": "execute_result"
    }
   ],
   "source": [
    "\"\"\"\n",
    "Objetivo:\n",
    "Entrada:\n",
    "Saída:\n",
    "\"\"\"\n",
    "function achar_um_ponto_critico_de_uma_função_de_2_variávies(gradiente_da_funcao,intervalo) #desafio\n",
    "    ponto_critico = gradiente_descendente\n",
    "    return ponto_critico\n",
    "end"
   ]
  },
  {
   "cell_type": "markdown",
   "metadata": {},
   "source": [
    "#### Exemplos:"
   ]
  },
  {
   "cell_type": "code",
   "execution_count": 35,
   "metadata": {},
   "outputs": [],
   "source": [
    "# Exemplo 1"
   ]
  },
  {
   "cell_type": "code",
   "execution_count": 36,
   "metadata": {},
   "outputs": [],
   "source": [
    "# Exemplo 2"
   ]
  },
  {
   "cell_type": "code",
   "execution_count": 37,
   "metadata": {},
   "outputs": [],
   "source": [
    "# Exemplo 3"
   ]
  },
  {
   "cell_type": "markdown",
   "metadata": {},
   "source": [
    "### [FALTA] Função Lagrange 2D"
   ]
  },
  {
   "cell_type": "code",
   "execution_count": 167,
   "metadata": {},
   "outputs": [
    {
     "data": {
      "text/plain": [
       "langrage_2D (generic function with 1 method)"
      ]
     },
     "execution_count": 167,
     "metadata": {},
     "output_type": "execute_result"
    }
   ],
   "source": [
    "\"\"\"\n",
    "Objetivo:\n",
    "Entrada:\n",
    "Saída:\n",
    "\"\"\"\n",
    "\n",
    "function langrage_2D()\n",
    "    \n",
    "end"
   ]
  },
  {
   "cell_type": "markdown",
   "metadata": {},
   "source": [
    "#### Exemplos:"
   ]
  },
  {
   "cell_type": "code",
   "execution_count": 38,
   "metadata": {},
   "outputs": [],
   "source": [
    "# Exemplo 1"
   ]
  },
  {
   "cell_type": "code",
   "execution_count": 39,
   "metadata": {},
   "outputs": [],
   "source": [
    "# Exemplo 2"
   ]
  },
  {
   "cell_type": "code",
   "execution_count": 41,
   "metadata": {},
   "outputs": [],
   "source": [
    "# Exemplo 3"
   ]
  }
 ],
 "metadata": {
  "kernelspec": {
   "display_name": "Julia 1.5.3",
   "language": "julia",
   "name": "julia-1.5"
  },
  "language_info": {
   "file_extension": ".jl",
   "mimetype": "application/julia",
   "name": "julia",
   "version": "1.5.3"
  }
 },
 "nbformat": 4,
 "nbformat_minor": 4
}
