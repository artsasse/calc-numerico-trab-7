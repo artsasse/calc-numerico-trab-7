{
 "cells": [
  {
   "cell_type": "code",
   "execution_count": 1,
   "metadata": {},
   "outputs": [],
   "source": [
    "using LinearAlgebra"
   ]
  },
  {
   "cell_type": "markdown",
   "metadata": {},
   "source": []
  },
  {
   "cell_type": "code",
   "execution_count": null,
   "metadata": {},
   "outputs": [],
   "source": [
    "function Taylor(funcão, derivadas, referência, desejado)  #TODO\n",
    "    grau=len(derivadas) #grau do Taylor vai ser implícito\n",
    "    return função(desejado)\n",
    "end"
   ]
  },
  {
   "cell_type": "code",
   "execution_count": null,
   "metadata": {},
   "outputs": [],
   "source": [
    "function resolver_equações(função,d,precisão)\n",
    "    return solução\n",
    "end"
   ]
  },
  {
   "cell_type": "code",
   "execution_count": null,
   "metadata": {},
   "outputs": [],
   "source": [
    "function achar_zero_de_função(função,precisão) #intervalo?, derivadas?\n",
    "    return solução\n",
    "end"
   ]
  },
  {
   "cell_type": "code",
   "execution_count": null,
   "metadata": {},
   "outputs": [],
   "source": [
    "function bisseção(função, precisão, intervalo) #Feito\n",
    "    return zero_da_função\n",
    "end"
   ]
  },
  {
   "cell_type": "code",
   "execution_count": null,
   "metadata": {},
   "outputs": [],
   "source": [
    "function ponto_fixo(função,precisão,chute_inicial) #Feito \n",
    "    return ponto_fixo_da_função\n",
    "end"
   ]
  },
  {
   "cell_type": "code",
   "execution_count": null,
   "metadata": {},
   "outputs": [],
   "source": [
    "function newton(função,derivada, precisão, chute_inicial) #Feito\n",
    "    return zero_da_função\n",
    "end"
   ]
  },
  {
   "cell_type": "code",
   "execution_count": null,
   "metadata": {},
   "outputs": [],
   "source": [
    "function resolver_equaçoes_diferenciais()\n",
    "    return \n",
    "end"
   ]
  },
  {
   "cell_type": "code",
   "execution_count": null,
   "metadata": {},
   "outputs": [],
   "source": [
    "function resolver_PVI(derivada(x,y),x_inicial,y_inicial,x_final,n) #Feito\n",
    "    h=(x_final-x_inicial)/n\n",
    "    \n",
    "    #método de Euler ou método de Euler modificado (próxima aula)\n",
    "    \n",
    "    \n",
    "    return valor_da_função_no_x_final #também podemos retorna a função completa\n",
    "end"
   ]
  },
  {
   "cell_type": "code",
   "execution_count": null,
   "metadata": {},
   "outputs": [],
   "source": [
    "function resolver_PVC(segunda_derivada(x,y), x_inicial, y_inicial, x_final, y_final,n)  #Não dá pra fazer genericamente\n",
    "        A,b=#usuário monta um sistema linear usando diferenças finitas(segunda_derivada(x,y), x_inicial, y_inicial, x_final, y_final,n)\n",
    "        y = resolver_um_sistema(A,b)\n",
    "        return y"
   ]
  },
  {
   "cell_type": "code",
   "execution_count": null,
   "metadata": {},
   "outputs": [],
   "source": [
    "function resolver_um_sistema(A,b) #Ainda vamos fazer\n",
    "    x=A\\b #função do Julia , ainda vamos abrir essa caixa\n",
    "    return x\n",
    "end"
   ]
  },
  {
   "cell_type": "code",
   "execution_count": null,
   "metadata": {},
   "outputs": [],
   "source": [
    "function interpolação_coeficientes(pontos_x,pontos_y, grau)\n",
    "    V=matrix_de_vandermonde(pontos_x,grau)\n",
    "    coeficientes=resolver_um_sistema(V,pontos_y)\n",
    "    return coeficientes\n",
    "end"
   ]
  },
  {
   "cell_type": "code",
   "execution_count": null,
   "metadata": {},
   "outputs": [],
   "source": [
    "function matrix_de_vandermonde(pontos_x,grau) #Feito\n",
    "    return matrix_de_vandermonde\n",
    "end"
   ]
  },
  {
   "cell_type": "code",
   "execution_count": null,
   "metadata": {},
   "outputs": [],
   "source": [
    "function interpolação_função(pontos_x,pontos_y, grau)\n",
    "    polinômio=lagrange(pontos_x,pontos_y,grau)\n",
    "    return polinômio\n",
    "end"
   ]
  },
  {
   "cell_type": "code",
   "execution_count": null,
   "metadata": {},
   "outputs": [],
   "source": [
    "function lagrange(pontos_x,pontos_y,grau)  #TODO\n",
    "    \n",
    "    return polinômio\n",
    "end"
   ]
  },
  {
   "cell_type": "code",
   "execution_count": null,
   "metadata": {},
   "outputs": [],
   "source": [
    "function aplica(coeficientes, valor_de_x) #Hashi\n",
    "    return valor_do_polinômio_no_x\n",
    "end"
   ]
  },
  {
   "cell_type": "code",
   "execution_count": null,
   "metadata": {},
   "outputs": [],
   "source": [
    "function regressão_coeficientes_lineares(pontos_x,pontos_y, grau) #Feito\n",
    "    V=matrix_de_vandermonde(pontos_x,grau)  #matrix alta #muitas linhas e poucas colunas \n",
    "    coeficientes=resolver_um_sistema_por_minimos_quadrados(V,pontos_y)\n",
    "    return coeficientes\n",
    "end"
   ]
  },
  {
   "cell_type": "code",
   "execution_count": null,
   "metadata": {},
   "outputs": [],
   "source": [
    "function regressão_função_exponencial(pontos_x,pontos_y, grau) #coeficientes não lineares\n",
    "    #dicionário (\"linearização\") é feito manualmente ou por uma tabela\n",
    "    pontos_y_barra=ln(pontos_y)\n",
    "    pontos_x_barra=x\n",
    "    \n",
    "    #resolver regresssão com coeficientes lineares no \"mundo barra\"\n",
    "    regressão_coeficientes_lineares(pontos_x_barra,pontos_y_barra, grau)\n",
    "    \n",
    "    #voltar para o mundo original\n",
    "    coeficientes=e^(coeficientes_barra)\n",
    "    \n",
    "    return coeficientes\n",
    "end"
   ]
  },
  {
   "cell_type": "code",
   "execution_count": null,
   "metadata": {},
   "outputs": [],
   "source": [
    "function regressão_função_outra_funçao(pontos_x,pontos_y, grau) #coeficientes não lineares\n",
    "    #dicionário (\"linearização\") é feito manualmente ou por uma tabela\n",
    "    ??????????????\n",
    "    \n",
    "    #resolver regresssão com coeficientes lineares no \"mundo barra\"\n",
    "    regressão_coeficientes_lineares(pontos_x_barra,pontos_y_barra, grau)\n",
    "    \n",
    "    #voltar para o mundo original\n",
    "    ???????????????????????\n",
    "    \n",
    "    return coeficientes\n",
    "end"
   ]
  },
  {
   "cell_type": "code",
   "execution_count": null,
   "metadata": {},
   "outputs": [],
   "source": [
    "function resolver_um_sistema_por_minimos_quadrados(A,b) #feito\n",
    "    x=resolver_um_sistema(A'*A,A'*b)\n",
    "    return x\n",
    "end"
   ]
  },
  {
   "cell_type": "code",
   "execution_count": null,
   "metadata": {},
   "outputs": [],
   "source": [
    "function integração(função,a,b,n) \n",
    "    \n",
    "    return \n",
    "end"
   ]
  },
  {
   "cell_type": "code",
   "execution_count": null,
   "metadata": {},
   "outputs": [],
   "source": [
    "function regra_do_retângulo(função,a,b,n) #próxima lista\n",
    "    \n",
    "    #interpolação constante\n",
    "    return integral\n",
    "end"
   ]
  },
  {
   "cell_type": "code",
   "execution_count": null,
   "metadata": {},
   "outputs": [],
   "source": [
    "function regra_do_trapézio(função,a,b,n) #próxima lista\n",
    "    \n",
    "    #interpolação linear\n",
    "    return integral\n",
    "end"
   ]
  },
  {
   "cell_type": "code",
   "execution_count": null,
   "metadata": {},
   "outputs": [],
   "source": [
    "function regra_de_simpson(função,a,b,n) #vídeo do Abel\n",
    "    \n",
    "    #interpolação quadrática\n",
    "    return integral\n",
    "end"
   ]
  },
  {
   "cell_type": "code",
   "execution_count": null,
   "metadata": {},
   "outputs": [],
   "source": [
    "function maximar_uma_função(função,derivada) #muito difícil!!!!!!!\n",
    "    return max_global\n",
    "end"
   ]
  },
  {
   "cell_type": "code",
   "execution_count": null,
   "metadata": {},
   "outputs": [],
   "source": [
    "function achar_um_ponto_crítico_de_uma_função(derivada_da_função(x),intervalo) #feito\n",
    "    ponto_crítico=bisseção(derivada(x),intervalo) #ou newton ou ponto fixo...\n",
    "    return ponto_crítico\n",
    "end"
   ]
  },
  {
   "cell_type": "code",
   "execution_count": null,
   "metadata": {},
   "outputs": [],
   "source": [
    "function achar_um_ponto_crítico_de_uma_função_de_2_variávies(gradiente_da_função(x),intervalo) #desafio\n",
    "    ponto_crítico=gradiente_descendente\n",
    "    return ponto_crítico\n",
    "end"
   ]
  },
  {
   "cell_type": "code",
   "execution_count": null,
   "metadata": {},
   "outputs": [],
   "source": [
    "function langrage_2D()\n",
    "    \n",
    "end"
   ]
  }
 ],
 "metadata": {
  "kernelspec": {
   "display_name": "Julia 1.6.0",
   "language": "julia",
   "name": "julia-1.6"
  },
  "language_info": {
   "file_extension": ".jl",
   "mimetype": "application/julia",
   "name": "julia",
   "version": "1.6.1"
  }
 },
 "nbformat": 4,
 "nbformat_minor": 4
}
