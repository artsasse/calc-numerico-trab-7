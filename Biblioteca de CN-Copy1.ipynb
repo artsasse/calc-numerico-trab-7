{
 "cells": [
  {
   "cell_type": "code",
   "execution_count": 116,
   "metadata": {},
   "outputs": [],
   "source": [
    "using LinearAlgebra"
   ]
  },
  {
   "cell_type": "code",
   "execution_count": null,
   "metadata": {},
   "outputs": [],
   "source": [
    "function Taylor(funcão, derivadas, referência, desejado)  #TODO\n",
    "    grau=len(derivadas) #grau do Taylor vai ser implícito\n",
    "    return função(desejado)\n",
    "end"
   ]
  },
  {
   "cell_type": "markdown",
   "metadata": {},
   "source": [
    "#### Exemplos"
   ]
  },
  {
   "cell_type": "code",
   "execution_count": 75,
   "metadata": {},
   "outputs": [],
   "source": [
    "#Exemplo 1"
   ]
  },
  {
   "cell_type": "code",
   "execution_count": 75,
   "metadata": {},
   "outputs": [],
   "source": [
    "#Exemplo 2"
   ]
  },
  {
   "cell_type": "code",
   "execution_count": 75,
   "metadata": {},
   "outputs": [],
   "source": [
    "#Exemplo 3"
   ]
  },
  {
   "cell_type": "code",
   "execution_count": null,
   "metadata": {},
   "outputs": [],
   "source": [
    "function resolver_equações(função,d,precisão)\n",
    "    return solução\n",
    "end"
   ]
  },
  {
   "cell_type": "code",
   "execution_count": null,
   "metadata": {
    "tags": []
   },
   "outputs": [],
   "source": [
    "function achar_zero_de_função(função,precisão) #intervalo?, derivadas?\n",
    "    return solução\n",
    "end"
   ]
  },
  {
   "cell_type": "markdown",
   "metadata": {},
   "source": [
    "### Função Bissecção"
   ]
  },
  {
   "cell_type": "code",
   "execution_count": 10,
   "metadata": {},
   "outputs": [
    {
     "data": {
      "text/plain": [
       "bisseccao"
      ]
     },
     "execution_count": 10,
     "metadata": {},
     "output_type": "execute_result"
    }
   ],
   "source": [
    "\"\"\"\n",
    "RESUMO: Este método pode ser usado para encontrar as raízes de uma função contínua, com base \n",
    "        no teorema do valor intermediário, tendo f(a) e f(b) com sinais opostos, tem de se ter uma raíz entre a e b\n",
    "        O método consiste em dividir o intervalo no seu ponto médio c=(a+b)/2, e então verificar em qual dos dois \n",
    "        subintervalos garante-se a existência de uma raiz. Para tanto, basta verificar se  f(a)*f(c)<0. \n",
    "        Caso afirmativo, existe pelo menos uma raiz no intervalo (a,c), caso contrário garante-se a \n",
    "        existência de uma raiz no intervalo [c,b). O procedimento é, então, repetido para o subintervalo \n",
    "        correspondente à raiz até que c se aproxime a raiz com a precisão desejada.\n",
    "ENTRADA: funcao, precisao, a, b\n",
    "SAÍDA: raiz\n",
    "\"\"\"\n",
    "function bisseccao(funcao, precisao, a, b ;max_tempo = 10.0, max_iter = 100)\n",
    "    # Limitamos o tempo e o número de iterações, pois estamos usando while e não queremos cair em um loop infinito\n",
    "    fa = f(a) # Função aplicada em a\n",
    "    fb = f(b) # Função aplicada em b\n",
    "    ϵ  = precisao *max(abs(fa), abs(fb)) \n",
    "    #Em caso dos valores dos pontos na função serem próximos o suficiente de 0 para não executar o código\n",
    "    if abs(fa) ≤ ϵ \n",
    "        print(\"a é próximo de ϵ\")\n",
    "        return a\n",
    "    elseif abs(fb)≤ ϵ \n",
    "        print(\"b é próximo de ϵ\")\n",
    "        return b\n",
    "    elseif fa*fb ≥ 0\n",
    "        return \"ERRO: F(A) E F(B) TEM SINAIS IGUAIS\"\n",
    "    end\n",
    "    ϵba  = precisao * abs(b-a) # Calculando o tamanho do erro que é possível, com base na precisão\n",
    "    \n",
    "    c = (a+b)/2 #Calculando um x que é o meio entre a e b\n",
    "    fc = f(c) #Calculando a função no ponto c\n",
    "    #inicializando as variáveis de tempo e iteração\n",
    "    iter =0 \n",
    "    t0 = time()\n",
    "    Δt = time() - t0\n",
    "    \n",
    "    #Será resolvido quando o módulo de b-a * precisão for menor do que b-a, ou seja a distância seja desse valor\n",
    "    #Ou se o módulo de f(c) seja suficientemente perto de 0, segundo a precisão\n",
    "    resolvido = (abs(fc) ≤ ϵ || abs(b-a) ≤ ϵba) \n",
    "    \n",
    "    cansado = (iter ≥ max_iter || Δt ≥ max_tempo)\n",
    "    #LOOP do método da bissecção\n",
    "    #Vamos fazendo calculando o intervalo entre a e b até encontrar algum f(c) ≈ 0, dentro da precisão \n",
    "    #ou o intervalo entre b-a menor que a precisão\n",
    "    while !(resolvido || cansado)\n",
    "        if fa *fc < 0\n",
    "            b = c\n",
    "            fb = fc\n",
    "        else\n",
    "            a = c\n",
    "            fa = fc\n",
    "        end\n",
    "        \n",
    "        c = (a+b)/2\n",
    "        fc = f(c)\n",
    "        iter +=1\n",
    "        Δt = time()-t0\n",
    "        \n",
    "        resolvido = (abs(fc) ≤ ϵ || abs(b-a) ≤ ϵba)\n",
    "        cansado = (iter ≥ max_iter || Δt ≥ max_tempo)\n",
    "    end\n",
    "    if resolvido\n",
    "        return c\n",
    "    elseif cansado\n",
    "        if iter ≥ max_iter\n",
    "            return \"ERRO: Chegamos ao número máximo de iterações\"\n",
    "        else\n",
    "            return \"ERRO: Chegamos ao máximo de tempo de execução\"\n",
    "        end\n",
    "    end\n",
    "end"
   ]
  },
  {
   "cell_type": "markdown",
   "metadata": {},
   "source": [
    "#### Exemplos"
   ]
  },
  {
   "cell_type": "code",
   "execution_count": 73,
   "metadata": {},
   "outputs": [
    {
     "data": {
      "text/plain": [
       "3.141592651605606"
      ]
     },
     "execution_count": 73,
     "metadata": {},
     "output_type": "execute_result"
    }
   ],
   "source": [
    "#Exemplo 1\n",
    "f(x) = sin(x)\n",
    "b = 1\n",
    "a = 5\n",
    "#sabemos que sen(π) = 0\n",
    "precisao = 1e-8\n",
    "bisseccao(f, precisao, a, b)"
   ]
  },
  {
   "cell_type": "code",
   "execution_count": 71,
   "metadata": {},
   "outputs": [
    {
     "data": {
      "text/plain": [
       "0.9999999999999964"
      ]
     },
     "execution_count": 71,
     "metadata": {},
     "output_type": "execute_result"
    }
   ],
   "source": [
    "#Exemplo 2\n",
    "f(x) = (x^3)-1\n",
    "#Sabemos que a raíz nesse ponto é 1, pois (1^3)-1 = 0\n",
    "b = -5\n",
    "a = 5\n",
    "precisao = 1e-16\n",
    "bisseccao(f, precisao, a, b)"
   ]
  },
  {
   "cell_type": "code",
   "execution_count": 72,
   "metadata": {},
   "outputs": [
    {
     "data": {
      "text/plain": [
       "0.0"
      ]
     },
     "execution_count": 72,
     "metadata": {},
     "output_type": "execute_result"
    }
   ],
   "source": [
    "#Exemplo 3\n",
    "f(x) = (ℯ^x)-1\n",
    "b = -10\n",
    "a = 10\n",
    "precisao = 1e-10\n",
    "#sabemos que e^0-1 = 0\n",
    "bisseccao(f, precisao, a, b)"
   ]
  },
  {
   "cell_type": "code",
   "execution_count": 82,
   "metadata": {},
   "outputs": [
    {
     "data": {
      "text/plain": [
       "ponto_fixo (generic function with 2 methods)"
      ]
     },
     "execution_count": 82,
     "metadata": {},
     "output_type": "execute_result"
    }
   ],
   "source": [
    "\"\"\"\n",
    "RESUMO: É uma função que encontra raíz e consiste em encontrar uma função g : [a, b] → R tal que g(x) = x e com isso, construir uma sequência \n",
    "        xn de pontos da forma xn = g(xn−1), para um dada ponto inicial. Seja f : [a, b] → R contínua com f(a) ≤ a \n",
    "        e f(b) ≥ b. Existe ao menos um ponto c ∈ [a, b] tal que f(c) = c.\n",
    "ENTRADA: funcao, precisao, chute_inicial\n",
    "SAÍDA: raiz\n",
    "\"\"\"\n",
    "\n",
    "function ponto_fixo(g, precisao, x;\n",
    "                  max_time = 10.0, max_iter = 1000,\n",
    "                  )\n",
    "    \n",
    "    gx = g(x)\n",
    "    \n",
    "    # tolerância do valor da funcao\n",
    "    ϵ = precisao * abs(gx)\n",
    "    \n",
    "    # define variaveis de tempo e qtd de iteraçoes\n",
    "    iter = 0\n",
    "    t0 = time()\n",
    "    Δt = time() - t0\n",
    "    \n",
    "    # caso o algoritmo nao termine de nenhuma maneira esperada\n",
    "    exitflag = :desconhecido\n",
    "    \n",
    "    # condicao para o algoritmo ter resolvido o problema\n",
    "    resolvido = (abs(gx - x) ≤ ϵ)\n",
    "    \n",
    "    # condicao para o algoritmo pedir arrego\n",
    "    cansado = (iter ≥ max_iter || Δt ≥ max_time)\n",
    "    \n",
    "    while !(resolvido || cansado)\n",
    "        # calcula os novos valores de x e g(x)\n",
    "        x = g(x) \n",
    "        gx = g(x)\n",
    "        \n",
    "        # calcula condicoes para o while\n",
    "        iter = iter + 1\n",
    "        Δt = time() - t0\n",
    "        resolvido = (abs(gx - x) ≤ ϵ)\n",
    "        cansado = (iter ≥ max_iter || Δt ≥ max_time)\n",
    "    end\n",
    "    \n",
    "    \n",
    "    if resolvido\n",
    "        return x\n",
    "    elseif cansado\n",
    "        if iter ≥ max_iter\n",
    "            return \"ERRO: Chegamos ao número máximo de iterações\"\n",
    "        else\n",
    "            return \"ERRO: Chegamos ao máximo de tempo de execução\"\n",
    "        end\n",
    "    end\n",
    "    \n",
    "    return x\n",
    "end\n"
   ]
  },
  {
   "cell_type": "markdown",
   "metadata": {},
   "source": [
    "#### Exemplos"
   ]
  },
  {
   "cell_type": "code",
   "execution_count": 74,
   "metadata": {},
   "outputs": [
    {
     "name": "stdout",
     "output_type": "stream",
     "text": [
      "ϵ = 2.894383604400965e-9\n"
     ]
    },
    {
     "data": {
      "text/plain": [
       "3.1652829335191502e-9"
      ]
     },
     "execution_count": 74,
     "metadata": {},
     "output_type": "execute_result"
    }
   ],
   "source": [
    "#Exemplo 1\n",
    "fg(x) =  sin(x)/π\n",
    "x = 2\n",
    "ponto_fixo(fg, 1e-8, x)"
   ]
  },
  {
   "cell_type": "code",
   "execution_count": 85,
   "metadata": {},
   "outputs": [
    {
     "data": {
      "text/plain": [
       "0"
      ]
     },
     "execution_count": 85,
     "metadata": {},
     "output_type": "execute_result"
    }
   ],
   "source": [
    "#Exemplo 2\n",
    "fg(x) =  x^3+x^2\n",
    "x = 2\n",
    "ponto_fixo(fg, 1e-8, x)"
   ]
  },
  {
   "cell_type": "code",
   "execution_count": 98,
   "metadata": {},
   "outputs": [
    {
     "data": {
      "text/plain": [
       "0"
      ]
     },
     "execution_count": 98,
     "metadata": {},
     "output_type": "execute_result"
    }
   ],
   "source": [
    "#Exemplo 3\n",
    "fg(x) = 3x^5-7x^3\n",
    "x = 10\n",
    "ponto_fixo(fg, 1e-9, x)"
   ]
  },
  {
   "cell_type": "markdown",
   "metadata": {},
   "source": [
    "### Função Newton"
   ]
  },
  {
   "cell_type": "code",
   "execution_count": 11,
   "metadata": {},
   "outputs": [
    {
     "data": {
      "text/plain": [
       "newton (generic function with 1 method)"
      ]
     },
     "execution_count": 11,
     "metadata": {},
     "output_type": "execute_result"
    }
   ],
   "source": [
    "\"\"\"\n",
    "RESUMO: Tem-se o objetivo de encontrar uma raíz para a função para isso, escolhe-se uma aproximação inicial \n",
    "        para esta. Após isso, calcula-se a equação da reta tangente (por meio da derivada) da função nesse ponto \n",
    "        e a interseção dela com o eixo das abcissas, a fim de encontrar uma melhor aproximação para a raiz. \n",
    "        Repetindo-se o processo, cria-se um método iterativo para encontrarmos a raiz da função. \n",
    "ENTRADA: funcao,derivada, precisao, chute_inicial\n",
    "SAÍDA: raiz\n",
    "\"\"\"\n",
    "\n",
    "function newton(funcao,derivada, precisao, chute_inicial;\n",
    "        max_tempo = 10.0, max_iter = 1000)\n",
    "    x= chute_inicial\n",
    "    fx = funcao(x) \n",
    "    ϵ  = precisao *abs(fx) #Calculando a ϵ com base na precisão dada\n",
    "    #Inicialização de variáveis\n",
    "    iter =0\n",
    "    t0 = time()\n",
    "    Δt = time() - t0\n",
    "    \n",
    "    resolvido = (abs(fx) ≤ ϵ) # Quando tivermos um valor de fx próximo o suficiente de 0, com base no ϵ\n",
    "    cansado = (iter ≥ max_iter || Δt ≥ max_tempo) \n",
    "    #Aqui é onde temos o cálculo \n",
    "    while !(resolvido || cansado)\n",
    "        fdx = derivada(x) #Calculando a derivada \n",
    "        if abs(fdx) ≤ ϵ\n",
    "            return \"ERRO: DERIVADA NULA\"\n",
    "        end\n",
    "          \n",
    "        x = x-fx/fdx #Calculando a equação do método de newton\n",
    "        fx = f(x)\n",
    "        iter +=1\n",
    "        Δt = time()-t0\n",
    "        \n",
    "        resolvido = (abs(fx) ≤ ϵ)\n",
    "        cansado = (iter ≥ max_iter || Δt ≥ max_tempo)\n",
    "    end\n",
    "    if resolvido\n",
    "        return x\n",
    "    elseif cansado\n",
    "        if iter ≥ max_iter\n",
    "            return \"ERRO: Chegamos ao número máximo de iterações\"\n",
    "        else\n",
    "            return \"ERRO: Chegamos ao máximo de tempo de execução\"\n",
    "        end\n",
    "    end\n",
    "end"
   ]
  },
  {
   "cell_type": "markdown",
   "metadata": {},
   "source": [
    "#### Exemplos"
   ]
  },
  {
   "cell_type": "code",
   "execution_count": 22,
   "metadata": {},
   "outputs": [
    {
     "data": {
      "text/plain": [
       "-1.0002056482183954"
      ]
     },
     "execution_count": 22,
     "metadata": {},
     "output_type": "execute_result"
    }
   ],
   "source": [
    "#Exemplo 1\n",
    "f(x) = x^5+x^2\n",
    "fd(x) = 5x^4+2x\n",
    "x = -15\n",
    "newton(f,fd, 1e-8, x)"
   ]
  },
  {
   "cell_type": "code",
   "execution_count": 25,
   "metadata": {},
   "outputs": [
    {
     "data": {
      "text/plain": [
       "3.1415926536808043"
      ]
     },
     "execution_count": 25,
     "metadata": {},
     "output_type": "execute_result"
    }
   ],
   "source": [
    "#Exemplo 2\n",
    "f(x) = sin(x)\n",
    "fd(x) = cos(x)\n",
    "x = 2\n",
    "newton(f,fd, 1e-8, x)"
   ]
  },
  {
   "cell_type": "code",
   "execution_count": 33,
   "metadata": {},
   "outputs": [
    {
     "data": {
      "text/plain": [
       "1.4549501501230384"
      ]
     },
     "execution_count": 33,
     "metadata": {},
     "output_type": "execute_result"
    }
   ],
   "source": [
    "#Exemplo 3\n",
    "f(x) = 3x^5-7x^3+2\n",
    "fd(x) = 15x^4-21x^2\n",
    "x = 0.2\n",
    "newton(f,fd, 1e-8, x)"
   ]
  },
  {
   "cell_type": "code",
   "execution_count": null,
   "metadata": {},
   "outputs": [],
   "source": [
    "function resolver_equaçoes_diferenciais()\n",
    "    return \n",
    "end"
   ]
  },
  {
   "cell_type": "markdown",
   "metadata": {},
   "source": [
    "### Resolver PVI - Método de Euler"
   ]
  },
  {
   "cell_type": "code",
   "execution_count": 103,
   "metadata": {},
   "outputs": [
    {
     "data": {
      "text/plain": [
       "resolver_PVI (generic function with 1 method)"
      ]
     },
     "execution_count": 103,
     "metadata": {},
     "output_type": "execute_result"
    }
   ],
   "source": [
    "\"\"\"\n",
    "RESUMO: O método de Euler consiste em resolver uma equação diferencial ordinária. Á ideia é encontrar uma solução \n",
    "        numérica para a equação diferencial no intervalo entre x_inicial e x_f .\n",
    "        Primeiro, o intervalo é discretizado em n + 1 pontos:\n",
    "            x_0 , x_1 , x_2 , x_3 …, x_n\n",
    "        Que são obtidos assim:\n",
    "            x_i = x + ih\n",
    "        Onde h é a largura ou o tom dos subintervalos:\n",
    "            (x_final-x_inicial)/numero_iterações\n",
    "        Com a condição inicial, também é possível conhecer a derivada no início:\n",
    "            y ‘(x_0) = f (x_0, y_0)\n",
    "        Essa derivada representa a inclinação da reta tangente à curva da função y (x) exatamente no ponto:\n",
    "            Ao = (x o , y o )\n",
    "        Em seguida, uma previsão aproximada do valor da função y (x) é feita no seguinte ponto:\n",
    "            y (x_1)≈ y_1\n",
    "            y_1 = y_0 + (x_1 – x_0) f (x_0, y_0) = y_0 + hf (x_0, y_0)\n",
    "        O próximo ponto aproximado da solução que corresponderia a:\n",
    "            A_1 = (x_1, y_1)\n",
    "        O procedimento é repetido para obter os pontos sucessivos\n",
    "            A_2 , A_3 …, x_n\n",
    "ENTRADA: derivada, x_inicial, y_inicial, x_final, n\n",
    "SAÍDA: x,y\n",
    "\"\"\"\n",
    "\n",
    "function resolver_PVI(derivada,x_inicial,y_inicial,x_final,n) #Feito\n",
    "    h =(x_final-x_inicial)/n\n",
    "    y = y_inicial\n",
    "    x = x_inicial\n",
    "    for i = 1:n\n",
    "        y = y + h * derivada(x, y)\n",
    "        x = x + h\n",
    "    end\n",
    "    return x, y\n",
    "end"
   ]
  },
  {
   "cell_type": "markdown",
   "metadata": {},
   "source": [
    "#### Exemplos"
   ]
  },
  {
   "cell_type": "code",
   "execution_count": 108,
   "metadata": {},
   "outputs": [
    {
     "data": {
      "text/plain": [
       "(3.000000000000001, 2.155172413793104)"
      ]
     },
     "execution_count": 108,
     "metadata": {},
     "output_type": "execute_result"
    }
   ],
   "source": [
    "#Exemplo 1\n",
    "derivada(x,y) = (x - y)/x\n",
    "x_inicial = 2\n",
    "y_inicial = 2\n",
    "x_final = 3\n",
    "n = 10\n",
    "resolver_PVI(derivada,x_inicial,y_inicial,x_final,n)"
   ]
  },
  {
   "cell_type": "code",
   "execution_count": 109,
   "metadata": {},
   "outputs": [
    {
     "data": {
      "text/plain": [
       "(3.000000000000001, 3.408620689655173)"
      ]
     },
     "execution_count": 109,
     "metadata": {},
     "output_type": "execute_result"
    }
   ],
   "source": [
    "#Exemplo 2\n",
    "derivada(x,y) = (x^2 - y)/x\n",
    "x_inicial = 2\n",
    "y_inicial = 2\n",
    "x_final = 3\n",
    "n = 10\n",
    "resolver_PVI(derivada,x_inicial,y_inicial,x_final,n)"
   ]
  },
  {
   "cell_type": "code",
   "execution_count": 111,
   "metadata": {},
   "outputs": [
    {
     "data": {
      "text/plain": [
       "(3.000000000000001, 0.4018171518643542)"
      ]
     },
     "execution_count": 111,
     "metadata": {},
     "output_type": "execute_result"
    }
   ],
   "source": [
    "#Exemplo 3\n",
    "derivada(x,y) = cos(x)-sin(y)\n",
    "x_inicial = 2\n",
    "y_inicial = 2\n",
    "x_final = 3\n",
    "n = 10\n",
    "resolver_PVI(derivada,x_inicial,y_inicial,x_final,n)"
   ]
  },
  {
   "cell_type": "code",
   "execution_count": null,
   "metadata": {},
   "outputs": [],
   "source": [
    "function resolver_PVC(segunda_derivada(x,y), x_inicial, y_inicial, x_final, y_final,n)  #Não dá pra fazer genericamente\n",
    "        A,b=#usuário monta um sistema linear usando diferenças finitas(segunda_derivada(x,y), x_inicial, y_inicial, x_final, y_final,n)\n",
    "        y = resolver_um_sistema(A,b)\n",
    "        return y"
   ]
  },
  {
   "cell_type": "markdown",
   "metadata": {},
   "source": [
    "#### Exemplos"
   ]
  },
  {
   "cell_type": "code",
   "execution_count": 75,
   "metadata": {},
   "outputs": [],
   "source": [
    "#Exemplo 1"
   ]
  },
  {
   "cell_type": "code",
   "execution_count": 75,
   "metadata": {},
   "outputs": [],
   "source": [
    "#Exemplo 2"
   ]
  },
  {
   "cell_type": "code",
   "execution_count": 75,
   "metadata": {},
   "outputs": [],
   "source": [
    "#Exemplo 3"
   ]
  },
  {
   "cell_type": "code",
   "execution_count": 133,
   "metadata": {
    "tags": []
   },
   "outputs": [
    {
     "data": {
      "text/plain": [
       "resolve_triangular_superior (generic function with 1 method)"
      ]
     },
     "execution_count": 133,
     "metadata": {},
     "output_type": "execute_result"
    }
   ],
   "source": [
    "# Resolve triangular superior\n",
    "\"\"\"\"\n",
    "RESUMO: Resolve um sistema linear Ax=b que tenha uma matriz triangular superior.\n",
    "        Ou seja, todos os elementos abaixo da diagonal estao zerados.\n",
    "ENTRADA: Matriz A, vetor b\n",
    "SAIDA: vetor x, solucao do sistema\n",
    "\"\"\"\n",
    "\n",
    "function resolve_triangular_superior(A, b)\n",
    "    rows, cols = size(A)\n",
    "    \n",
    "    # verifica se a matriz é quadrada\n",
    "    if rows != cols\n",
    "        error(\"A matriz deve ser quadrada!\")\n",
    "    end\n",
    "    \n",
    "    # Inicializa o vetor solucao\n",
    "    x = zeros(rows)\n",
    "    \n",
    "    # Calcula cada elemento do vetor x\n",
    "    # substituindo em cada linha, de baixo para cima\n",
    "    for i = rows:-1:1\n",
    "        x[i] = b[i]  # pegamos o bᵢ\n",
    "        for j = i+1:cols\n",
    "            x[i] -= A[i, j] * x[j]  # subtraimos de bᵢ todos os x's que ja \n",
    "                                    # foram calculados (multiplicados pelos coeficientes)\n",
    "        end\n",
    "        x[i] = x[i] / A[i, i]  # Dividimos o resultado pelo coeficiente de xᵢ\n",
    "    end\n",
    "    \n",
    "    return x\n",
    "end"
   ]
  },
  {
   "cell_type": "code",
   "execution_count": 134,
   "metadata": {},
   "outputs": [
    {
     "data": {
      "text/plain": [
       "eliminacao_gaussiana (generic function with 1 method)"
      ]
     },
     "execution_count": 134,
     "metadata": {},
     "output_type": "execute_result"
    }
   ],
   "source": [
    "# Eliminacao gaussiana\n",
    "\"\"\"\n",
    "RESUMO: Funçao que executa a eliminacao gaussiana em uma matriz A e um vetor b.\n",
    "ENTRADA: Matriz A, vetor b\n",
    "SAIDA: Nada\n",
    "OBS: Modifica as entradas!\n",
    "\"\"\"\n",
    "\n",
    "function eliminacao_gaussiana(A, b)\n",
    "    rows, cols = size(A)\n",
    "    for j = 1:cols\n",
    "        non_zero_cols = j+1:cols\n",
    "        for i = j+1:rows\n",
    "            mᵢⱼ = A[i, j] / A[j, j]  # multiplicador que vai zerar a coluna\n",
    "            A[i, non_zero_cols] -= mᵢⱼ * A[j, non_zero_cols]  # subtracao das linhas de A\n",
    "            A[i, j] = 0  # zera cada elemento abaixo do pivô na coluna j\n",
    "            b[i] -= mᵢⱼ * b[j]  # subtracao das linhas de b\n",
    "        end\n",
    "    end\n",
    "end"
   ]
  },
  {
   "cell_type": "code",
   "execution_count": 135,
   "metadata": {},
   "outputs": [
    {
     "data": {
      "text/plain": [
       "resolve_cheia (generic function with 1 method)"
      ]
     },
     "execution_count": 135,
     "metadata": {},
     "output_type": "execute_result"
    }
   ],
   "source": [
    "# Resolve cheia\n",
    "\"\"\"\n",
    "RESUMO: Resolve um sistema linear com uma matriz quadrada \"cheia\".\n",
    "        Ou seja, que nao é triangular nem diagonal.\n",
    "ENTRADA: Matriz A, vetor b\n",
    "SAIDA: Vetor x, solucao do sistema.\n",
    "OBS: Modifica as entradas!\n",
    "\"\"\"\n",
    "\n",
    "function resolve_cheia(A, b)\n",
    "    eliminacao_gaussiana(A,b)\n",
    "    x = resolve_triangular_superior(A,b)\n",
    "    return x\n",
    "end"
   ]
  },
  {
   "cell_type": "code",
   "execution_count": 180,
   "metadata": {},
   "outputs": [
    {
     "data": {
      "text/plain": [
       "resolver_um_sistema"
      ]
     },
     "execution_count": 180,
     "metadata": {},
     "output_type": "execute_result"
    }
   ],
   "source": [
    "\"\"\"\n",
    "RESUMO: Resolve um sistema linear com uma matriz quadrada \"cheia\".\n",
    "        Ou seja, que nao é triangular nem diagonal.\n",
    "ENTRADA: Matriz A, vetor b\n",
    "SAIDA: Vetor x, solucao do sistema.\n",
    "\"\"\"\n",
    "function resolver_um_sistema(A,b) #Ainda vamos fazer\n",
    "    A_editada = A\n",
    "    b_editada = b\n",
    "    eliminacao_gaussiana(A_editada,b_editada)\n",
    "    x = resolve_triangular_superior(A_editada,b_editada)\n",
    "    return x\n",
    "end"
   ]
  },
  {
   "cell_type": "code",
   "execution_count": 181,
   "metadata": {},
   "outputs": [
    {
     "data": {
      "text/plain": [
       "interpolação_coeficientes"
      ]
     },
     "execution_count": 181,
     "metadata": {},
     "output_type": "execute_result"
    }
   ],
   "source": [
    "\"\"\"\n",
    "RESUMO: É um método no qual instanciamos um novo conjunto de dados utilizando interpolação polinomial em \n",
    "        vista de construir novos pontos de dados no alcance de pontos já conhecidos.\n",
    "ENTRADA: pontos_x, pontos_y, grau\n",
    "SAIDA: coeficientes\n",
    "\"\"\"\n",
    "function interpolação_coeficientes(pontos_x,pontos_y, grau)\n",
    "    V=matrix_de_vandermonde(pontos_x,grau)\n",
    "    coeficientes=resolver_um_sistema(V,pontos_y)\n",
    "    return coeficientes\n",
    "end"
   ]
  },
  {
   "cell_type": "markdown",
   "metadata": {},
   "source": [
    "#### Exemplos"
   ]
  },
  {
   "cell_type": "code",
   "execution_count": 176,
   "metadata": {},
   "outputs": [
    {
     "name": "stdout",
     "output_type": "stream",
     "text": [
      "c₀ = 7.081203007518797, c₁ = -0.003828070175438596, c₂ = 7.468671679197994e-7"
     ]
    }
   ],
   "source": [
    "#Exemplo 1\n",
    "x = [1000.0, 300.0, 6000.0]\n",
    "y = [4.0,6.0, 11.0]\n",
    "cs= interpolação_coeficientes(x,y,3)\n",
    "print(\"c₀ = $(cs[1]), c₁ = $(cs[2]), c₂ = $(cs[3])\")"
   ]
  },
  {
   "cell_type": "code",
   "execution_count": 177,
   "metadata": {},
   "outputs": [
    {
     "name": "stdout",
     "output_type": "stream",
     "text": [
      "c₀ = -2062.775522864238, c₁ = 564.4589067652769, c₂ = -33.47130855613919, c₃ = 3.847534783018654e-5, c₄ = -0.009181851040238139, c₅ = 3.847534783018654e-5"
     ]
    }
   ],
   "source": [
    "#Exemplo 2\n",
    "x = [50.0, 75.0, 45.0, 60.0, 44.0, 5.0]\n",
    "y = [1.0, 7.0, 8.0, 10.0, 15.0, 20.0]\n",
    "cs= interpolação_coeficientes(x,y,length(x))\n",
    "print(\"c₀ = $(cs[1]), c₁ = $(cs[2]), c₂ = $(cs[3]), c₃ = $(cs[6]), c₄ = $(cs[5]), c₅ = $(cs[6])\")"
   ]
  },
  {
   "cell_type": "code",
   "execution_count": 178,
   "metadata": {},
   "outputs": [
    {
     "name": "stdout",
     "output_type": "stream",
     "text": [
      "c₀ = 0.20376301397971253, c₁ = 0.3582722966161423, c₂ = -0.0011963493946882445"
     ]
    }
   ],
   "source": [
    "#Exemplo 3\n",
    "x = [11.0, 250.0,145.0]\n",
    "y = [4.0,15.0, 27.0]\n",
    "cs= interpolação_coeficientes(x,y,3)\n",
    "print(\"c₀ = $(cs[1]), c₁ = $(cs[2]), c₂ = $(cs[3])\")"
   ]
  },
  {
   "cell_type": "markdown",
   "metadata": {},
   "source": [
    "### Função Matriz de Vandermonde"
   ]
  },
  {
   "cell_type": "markdown",
   "metadata": {},
   "source": [
    "É uma matriz que tem um formato:\n",
    "\n",
    "$M=\\left(\\begin{array}{llll} 1 & 1 & \\cdots & 1 \\\\ a_1 & a_2 & \\cdots & a_n \\\\ a_1^2 & a_2^2 & \\cdots & a_n^2 \\\\ \\vdots & \\vdots & \\ddots & \\vdots \\\\ a_1^{n-1} & a_2^{n-1} & \\cdots & a_n^{n-1} \\end{array}\\right)$"
   ]
  },
  {
   "cell_type": "code",
   "execution_count": 179,
   "metadata": {},
   "outputs": [
    {
     "data": {
      "text/plain": [
       "matrix_de_vandermonde (generic function with 1 method)"
      ]
     },
     "execution_count": 179,
     "metadata": {},
     "output_type": "execute_result"
    }
   ],
   "source": [
    "function matrix_de_vandermonde(pontos_x,grau) #Feito\n",
    "  # criar matriz zerada com as dimensoes certas\n",
    "    matrix_de_vandermonde = zeros(length(x), grau)\n",
    "    \n",
    "    # preencher matriz de vandermonde\n",
    "    for linha = 1:length(x)\n",
    "        for coluna = 1:grau\n",
    "            matrix_de_vandermonde[linha, coluna] = x[linha]^(coluna - 1)\n",
    "        end\n",
    "    end\n",
    "    return matrix_de_vandermonde\n",
    "end"
   ]
  },
  {
   "cell_type": "code",
   "execution_count": 182,
   "metadata": {},
   "outputs": [
    {
     "data": {
      "text/plain": [
       "interpolação_função (generic function with 1 method)"
      ]
     },
     "execution_count": 182,
     "metadata": {},
     "output_type": "execute_result"
    }
   ],
   "source": [
    "function interpolação_função(pontos_x,pontos_y, grau, xp)\n",
    "    yp=lagrange(pontos_x,pontos_y,grau, xp)\n",
    "    return yp\n",
    "end"
   ]
  },
  {
   "cell_type": "code",
   "execution_count": 184,
   "metadata": {},
   "outputs": [
    {
     "data": {
      "text/plain": [
       "lagrange (generic function with 1 method)"
      ]
     },
     "execution_count": 184,
     "metadata": {},
     "output_type": "execute_result"
    }
   ],
   "source": [
    "function lagrange(pontos_x,pontos_y,n, xp)  #TODO\n",
    "    # resultado da interpolação\n",
    "    yp = 0\n",
    "    # Implementando lagrange\n",
    "    for i in 1:n\n",
    "        p = 1\n",
    "        for j in 1:n\n",
    "            if i != j\n",
    "                p = p * (xp - x[j])/(x[i] - x[j])\n",
    "                yp = yp + p * y[i]\n",
    "            end\n",
    "        end\n",
    "    end\n",
    "    return yp\n",
    "end"
   ]
  },
  {
   "cell_type": "markdown",
   "metadata": {},
   "source": [
    "#### Exemplos"
   ]
  },
  {
   "cell_type": "code",
   "execution_count": 198,
   "metadata": {},
   "outputs": [
    {
     "data": {
      "text/plain": [
       "40.77551020408164"
      ]
     },
     "execution_count": 198,
     "metadata": {},
     "output_type": "execute_result"
    }
   ],
   "source": [
    "#Exemplo 1\n",
    "x = [1.0, 8.0, 10.0, 15.0]\n",
    "y = [15.0, 25.0, 1.0, 12.0]\n",
    "interpolação_função(x,y, length(x), 10.0)"
   ]
  },
  {
   "cell_type": "code",
   "execution_count": 75,
   "metadata": {},
   "outputs": [],
   "source": [
    "#Exemplo 2"
   ]
  },
  {
   "cell_type": "code",
   "execution_count": 75,
   "metadata": {},
   "outputs": [],
   "source": [
    "#Exemplo 3"
   ]
  },
  {
   "cell_type": "code",
   "execution_count": null,
   "metadata": {},
   "outputs": [],
   "source": [
    "function aplica(coeficientes, valor_de_x) #Hashi\n",
    "    return valor_do_polinômio_no_x\n",
    "end"
   ]
  },
  {
   "cell_type": "code",
   "execution_count": null,
   "metadata": {},
   "outputs": [],
   "source": [
    "function regressão_coeficientes_lineares(pontos_x,pontos_y, grau) #Feito\n",
    "    V=matrix_de_vandermonde(pontos_x,grau)  #matrix alta #muitas linhas e poucas colunas \n",
    "    coeficientes=resolver_um_sistema_por_minimos_quadrados(V,pontos_y)\n",
    "    return coeficientes\n",
    "end"
   ]
  },
  {
   "cell_type": "code",
   "execution_count": null,
   "metadata": {},
   "outputs": [],
   "source": [
    "function regressão_função_exponencial(pontos_x,pontos_y, grau) #coeficientes não lineares\n",
    "    #dicionário (\"linearização\") é feito manualmente ou por uma tabela\n",
    "    pontos_y_barra=ln(pontos_y)\n",
    "    pontos_x_barra=x\n",
    "    \n",
    "    #resolver regresssão com coeficientes lineares no \"mundo barra\"\n",
    "    regressão_coeficientes_lineares(pontos_x_barra,pontos_y_barra, grau)\n",
    "    \n",
    "    #voltar para o mundo original\n",
    "    coeficientes=e^(coeficientes_barra)\n",
    "    \n",
    "    return coeficientes\n",
    "end"
   ]
  },
  {
   "cell_type": "code",
   "execution_count": null,
   "metadata": {},
   "outputs": [],
   "source": [
    "function regressão_função_outra_funçao(pontos_x,pontos_y, grau) #coeficientes não lineares\n",
    "    #dicionário (\"linearização\") é feito manualmente ou por uma tabela\n",
    "    ??????????????\n",
    "    \n",
    "    #resolver regresssão com coeficientes lineares no \"mundo barra\"\n",
    "    regressão_coeficientes_lineares(pontos_x_barra,pontos_y_barra, grau)\n",
    "    \n",
    "    #voltar para o mundo original\n",
    "    ???????????????????????\n",
    "    \n",
    "    return coeficientes\n",
    "end"
   ]
  },
  {
   "cell_type": "code",
   "execution_count": null,
   "metadata": {},
   "outputs": [],
   "source": [
    "function resolver_um_sistema_por_minimos_quadrados(A,b) #feito\n",
    "    x=resolver_um_sistema(A'*A,A'*b)\n",
    "    return x\n",
    "end"
   ]
  },
  {
   "cell_type": "code",
   "execution_count": null,
   "metadata": {},
   "outputs": [],
   "source": [
    "function integração(função,a,b,n) \n",
    "    \n",
    "    return \n",
    "end"
   ]
  },
  {
   "cell_type": "code",
   "execution_count": null,
   "metadata": {},
   "outputs": [],
   "source": [
    "function regra_do_retângulo(função,a,b,n) #próxima lista\n",
    "    \n",
    "    #interpolação constante\n",
    "    return integral\n",
    "end"
   ]
  },
  {
   "cell_type": "code",
   "execution_count": null,
   "metadata": {},
   "outputs": [],
   "source": [
    "function regra_do_trapézio(função,a,b,n) #próxima lista\n",
    "    \n",
    "    #interpolação linear\n",
    "    return integral\n",
    "end"
   ]
  },
  {
   "cell_type": "code",
   "execution_count": null,
   "metadata": {},
   "outputs": [],
   "source": [
    "function regra_de_simpson(função,a,b,n) #vídeo do Abel\n",
    "    \n",
    "    #interpolação quadrática\n",
    "    return integral\n",
    "end"
   ]
  },
  {
   "cell_type": "code",
   "execution_count": null,
   "metadata": {},
   "outputs": [],
   "source": [
    "function maximar_uma_função(função,derivada) #muito difícil!!!!!!!\n",
    "    return max_global\n",
    "end"
   ]
  },
  {
   "cell_type": "code",
   "execution_count": null,
   "metadata": {},
   "outputs": [],
   "source": [
    "function achar_um_ponto_crítico_de_uma_função(derivada_da_função(x),intervalo) #feito\n",
    "    ponto_crítico=bisseção(derivada(x),intervalo) #ou newton ou ponto fixo...\n",
    "    return ponto_crítico\n",
    "end"
   ]
  },
  {
   "cell_type": "code",
   "execution_count": null,
   "metadata": {},
   "outputs": [],
   "source": [
    "function achar_um_ponto_crítico_de_uma_função_de_2_variávies(gradiente_da_função(x),intervalo) #desafio\n",
    "    ponto_crítico=gradiente_descendente\n",
    "    return ponto_crítico\n",
    "end"
   ]
  },
  {
   "cell_type": "code",
   "execution_count": null,
   "metadata": {},
   "outputs": [],
   "source": [
    "function langrage_2D()\n",
    "    \n",
    "end"
   ]
  }
 ],
 "metadata": {
  "kernelspec": {
   "display_name": "Julia 1.5.4",
   "language": "julia",
   "name": "julia-1.5"
  },
  "language_info": {
   "file_extension": ".jl",
   "mimetype": "application/julia",
   "name": "julia",
   "version": "1.5.4"
  }
 },
 "nbformat": 4,
 "nbformat_minor": 4
}
